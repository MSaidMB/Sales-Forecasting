{
  "cells": [
    {
      "cell_type": "markdown",
      "source": [
        "This notebook has taken as a reference the work done by Dimitre Oliveira, so first I would like to thank him for the effort done in sharing his work with the community. His notebook is the following:\n",
        "https://www.kaggle.com/code/dimitreoliveira/model-stacking-feature-engineering-and-eda"
      ],
      "metadata": {
        "id": "NOJdrnmA5atN"
      }
    },
    {
      "cell_type": "code",
      "source": [
        "!pip install catboost"
      ],
      "metadata": {
        "id": "Ay8PVYiq6E1E"
      },
      "execution_count": null,
      "outputs": []
    },
    {
      "cell_type": "code",
      "execution_count": null,
      "metadata": {
        "id": "srPnCTIFw_-X"
      },
      "outputs": [],
      "source": [
        "import datetime\n",
        "import warnings\n",
        "import numpy as np\n",
        "import pandas as pd\n",
        "import seaborn as sns\n",
        "import matplotlib.pyplot as plt\n",
        "import catboost\n",
        "from catboost import Pool\n",
        "from catboost import CatBoostRegressor\n",
        "from xgboost import XGBRegressor\n",
        "from xgboost import plot_importance\n",
        "from sklearn.metrics import mean_squared_error\n",
        "from sklearn.linear_model import LinearRegression\n",
        "from sklearn.neighbors import KNeighborsRegressor\n",
        "from sklearn.ensemble import RandomForestRegressor\n",
        "from sklearn.preprocessing import StandardScaler, MinMaxScaler\n",
        "\n",
        "%matplotlib inline\n",
        "sns.set(style=\"darkgrid\")\n",
        "pd.set_option('display.float_format', lambda x: '%.2f' % x)\n",
        "warnings.filterwarnings(\"ignore\")"
      ]
    },
    {
      "cell_type": "markdown",
      "metadata": {
        "id": "7RnhQp-5q_NB"
      },
      "source": [
        "## Loading Data from File Folder"
      ]
    },
    {
      "cell_type": "code",
      "execution_count": null,
      "metadata": {
        "id": "aaNHmk7oRojx"
      },
      "outputs": [],
      "source": [
        "test = pd.read_csv('input/test.csv', dtype={'ID': 'int32', 'shop_id': 'int32', \n",
        "                                                  'item_id': 'int32'})\n",
        "\n",
        "item_categories = pd.read_csv('input/item_categories.csv', \n",
        "                              dtype={'item_category_name': 'str', 'item_category_id': 'int32'})\n",
        "\n",
        "items = pd.read_csv('input/items.csv', dtype={'item_name': 'str', 'item_id': 'int32', \n",
        "                                                 'item_category_id': 'int32'})\n",
        "\n",
        "shops = pd.read_csv('input/shops.csv', dtype={'shop_name': 'str', 'shop_id': 'int32'})\n",
        "\n",
        "sales_train = pd.read_csv('input/sales_train.csv', parse_dates=['date'], \n",
        "                    dtype={'date': 'str', 'date_block_num': 'int32', 'shop_id': 'int32', \n",
        "                          'item_id': 'int32', 'item_price': 'float32', 'item_cnt_day': 'int32'})"
      ]
    },
    {
      "cell_type": "markdown",
      "metadata": {
        "id": "mzUBWbBcx_mI"
      },
      "source": [
        "**Data fields**\n",
        "- ID - an Id that represents a (Shop, Item) tuple within the test set\n",
        "- shop_id - unique identifier of a shop\n",
        "- item_id - unique identifier of a product\n",
        "- item_category_id - unique identifier of item category\n",
        "- item_cnt_day - number of products sold. You are predicting a monthly amount of this measure\n",
        "- item_price - current price of an item\n",
        "- date - date in format dd/mm/yyyy\n",
        "- date_block_num - a consecutive month nº, used for convenience. January 2013 is 0, February 2013 is 1,..., October 2015 is 33\n",
        "- item_name - name of item\n",
        "- shop_name - name of shop\n",
        "- item_category_name - name of item category"
      ]
    },
    {
      "cell_type": "code",
      "execution_count": null,
      "metadata": {
        "colab": {
          "base_uri": "https://localhost:8080/"
        },
        "id": "hMSqdLgVyNzA",
        "outputId": "41518728-2f86-4b89-d5e0-d7249718a9f3"
      },
      "outputs": [
        {
          "output_type": "execute_result",
          "data": {
            "text/plain": [
              "84"
            ]
          },
          "metadata": {},
          "execution_count": 4
        }
      ],
      "source": [
        "len(item_categories[\"item_category_id\"].unique())"
      ]
    },
    {
      "cell_type": "code",
      "execution_count": null,
      "metadata": {
        "colab": {
          "base_uri": "https://localhost:8080/",
          "height": 206
        },
        "id": "9hVK1Kk1yOWI",
        "outputId": "bf3f58ea-78f4-4ee7-f180-4da6bb3dd876"
      },
      "outputs": [
        {
          "output_type": "execute_result",
          "data": {
            "text/plain": [
              "        item_category_name  item_category_id\n",
              "0  PC - Гарнитуры/Наушники                 0\n",
              "1         Аксессуары - PS2                 1\n",
              "2         Аксессуары - PS3                 2\n",
              "3         Аксессуары - PS4                 3\n",
              "4         Аксессуары - PSP                 4"
            ],
            "text/html": [
              "\n",
              "  <div id=\"df-8e1325bd-dd7a-4a87-b1a4-f9f140a68754\">\n",
              "    <div class=\"colab-df-container\">\n",
              "      <div>\n",
              "<style scoped>\n",
              "    .dataframe tbody tr th:only-of-type {\n",
              "        vertical-align: middle;\n",
              "    }\n",
              "\n",
              "    .dataframe tbody tr th {\n",
              "        vertical-align: top;\n",
              "    }\n",
              "\n",
              "    .dataframe thead th {\n",
              "        text-align: right;\n",
              "    }\n",
              "</style>\n",
              "<table border=\"1\" class=\"dataframe\">\n",
              "  <thead>\n",
              "    <tr style=\"text-align: right;\">\n",
              "      <th></th>\n",
              "      <th>item_category_name</th>\n",
              "      <th>item_category_id</th>\n",
              "    </tr>\n",
              "  </thead>\n",
              "  <tbody>\n",
              "    <tr>\n",
              "      <th>0</th>\n",
              "      <td>PC - Гарнитуры/Наушники</td>\n",
              "      <td>0</td>\n",
              "    </tr>\n",
              "    <tr>\n",
              "      <th>1</th>\n",
              "      <td>Аксессуары - PS2</td>\n",
              "      <td>1</td>\n",
              "    </tr>\n",
              "    <tr>\n",
              "      <th>2</th>\n",
              "      <td>Аксессуары - PS3</td>\n",
              "      <td>2</td>\n",
              "    </tr>\n",
              "    <tr>\n",
              "      <th>3</th>\n",
              "      <td>Аксессуары - PS4</td>\n",
              "      <td>3</td>\n",
              "    </tr>\n",
              "    <tr>\n",
              "      <th>4</th>\n",
              "      <td>Аксессуары - PSP</td>\n",
              "      <td>4</td>\n",
              "    </tr>\n",
              "  </tbody>\n",
              "</table>\n",
              "</div>\n",
              "      <button class=\"colab-df-convert\" onclick=\"convertToInteractive('df-8e1325bd-dd7a-4a87-b1a4-f9f140a68754')\"\n",
              "              title=\"Convert this dataframe to an interactive table.\"\n",
              "              style=\"display:none;\">\n",
              "        \n",
              "  <svg xmlns=\"http://www.w3.org/2000/svg\" height=\"24px\"viewBox=\"0 0 24 24\"\n",
              "       width=\"24px\">\n",
              "    <path d=\"M0 0h24v24H0V0z\" fill=\"none\"/>\n",
              "    <path d=\"M18.56 5.44l.94 2.06.94-2.06 2.06-.94-2.06-.94-.94-2.06-.94 2.06-2.06.94zm-11 1L8.5 8.5l.94-2.06 2.06-.94-2.06-.94L8.5 2.5l-.94 2.06-2.06.94zm10 10l.94 2.06.94-2.06 2.06-.94-2.06-.94-.94-2.06-.94 2.06-2.06.94z\"/><path d=\"M17.41 7.96l-1.37-1.37c-.4-.4-.92-.59-1.43-.59-.52 0-1.04.2-1.43.59L10.3 9.45l-7.72 7.72c-.78.78-.78 2.05 0 2.83L4 21.41c.39.39.9.59 1.41.59.51 0 1.02-.2 1.41-.59l7.78-7.78 2.81-2.81c.8-.78.8-2.07 0-2.86zM5.41 20L4 18.59l7.72-7.72 1.47 1.35L5.41 20z\"/>\n",
              "  </svg>\n",
              "      </button>\n",
              "      \n",
              "  <style>\n",
              "    .colab-df-container {\n",
              "      display:flex;\n",
              "      flex-wrap:wrap;\n",
              "      gap: 12px;\n",
              "    }\n",
              "\n",
              "    .colab-df-convert {\n",
              "      background-color: #E8F0FE;\n",
              "      border: none;\n",
              "      border-radius: 50%;\n",
              "      cursor: pointer;\n",
              "      display: none;\n",
              "      fill: #1967D2;\n",
              "      height: 32px;\n",
              "      padding: 0 0 0 0;\n",
              "      width: 32px;\n",
              "    }\n",
              "\n",
              "    .colab-df-convert:hover {\n",
              "      background-color: #E2EBFA;\n",
              "      box-shadow: 0px 1px 2px rgba(60, 64, 67, 0.3), 0px 1px 3px 1px rgba(60, 64, 67, 0.15);\n",
              "      fill: #174EA6;\n",
              "    }\n",
              "\n",
              "    [theme=dark] .colab-df-convert {\n",
              "      background-color: #3B4455;\n",
              "      fill: #D2E3FC;\n",
              "    }\n",
              "\n",
              "    [theme=dark] .colab-df-convert:hover {\n",
              "      background-color: #434B5C;\n",
              "      box-shadow: 0px 1px 3px 1px rgba(0, 0, 0, 0.15);\n",
              "      filter: drop-shadow(0px 1px 2px rgba(0, 0, 0, 0.3));\n",
              "      fill: #FFFFFF;\n",
              "    }\n",
              "  </style>\n",
              "\n",
              "      <script>\n",
              "        const buttonEl =\n",
              "          document.querySelector('#df-8e1325bd-dd7a-4a87-b1a4-f9f140a68754 button.colab-df-convert');\n",
              "        buttonEl.style.display =\n",
              "          google.colab.kernel.accessAllowed ? 'block' : 'none';\n",
              "\n",
              "        async function convertToInteractive(key) {\n",
              "          const element = document.querySelector('#df-8e1325bd-dd7a-4a87-b1a4-f9f140a68754');\n",
              "          const dataTable =\n",
              "            await google.colab.kernel.invokeFunction('convertToInteractive',\n",
              "                                                     [key], {});\n",
              "          if (!dataTable) return;\n",
              "\n",
              "          const docLinkHtml = 'Like what you see? Visit the ' +\n",
              "            '<a target=\"_blank\" href=https://colab.research.google.com/notebooks/data_table.ipynb>data table notebook</a>'\n",
              "            + ' to learn more about interactive tables.';\n",
              "          element.innerHTML = '';\n",
              "          dataTable['output_type'] = 'display_data';\n",
              "          await google.colab.output.renderOutput(dataTable, element);\n",
              "          const docLink = document.createElement('div');\n",
              "          docLink.innerHTML = docLinkHtml;\n",
              "          element.appendChild(docLink);\n",
              "        }\n",
              "      </script>\n",
              "    </div>\n",
              "  </div>\n",
              "  "
            ]
          },
          "metadata": {},
          "execution_count": 5
        }
      ],
      "source": [
        "item_categories.head()"
      ]
    },
    {
      "cell_type": "code",
      "execution_count": null,
      "metadata": {
        "colab": {
          "base_uri": "https://localhost:8080/"
        },
        "id": "Z8HSt1qSyOdH",
        "outputId": "05b1624e-75c9-454b-877b-f4c4f8fe7eae"
      },
      "outputs": [
        {
          "output_type": "execute_result",
          "data": {
            "text/plain": [
              "22170"
            ]
          },
          "metadata": {},
          "execution_count": 6
        }
      ],
      "source": [
        "len(items[\"item_id\"].unique())"
      ]
    },
    {
      "cell_type": "code",
      "execution_count": null,
      "metadata": {
        "colab": {
          "base_uri": "https://localhost:8080/",
          "height": 206
        },
        "id": "4zQwnRqTySxg",
        "outputId": "08b5e57d-c3a8-4e4a-85a5-3fdba352f4e9"
      },
      "outputs": [
        {
          "output_type": "execute_result",
          "data": {
            "text/plain": [
              "                                           item_name  item_id  \\\n",
              "0          ! ВО ВЛАСТИ НАВАЖДЕНИЯ (ПЛАСТ.)         D        0   \n",
              "1  !ABBYY FineReader 12 Professional Edition Full...        1   \n",
              "2      ***В ЛУЧАХ СЛАВЫ   (UNV)                    D        2   \n",
              "3    ***ГОЛУБАЯ ВОЛНА  (Univ)                      D        3   \n",
              "4        ***КОРОБКА (СТЕКЛО)                       D        4   \n",
              "\n",
              "   item_category_id  \n",
              "0                40  \n",
              "1                76  \n",
              "2                40  \n",
              "3                40  \n",
              "4                40  "
            ],
            "text/html": [
              "\n",
              "  <div id=\"df-d7d1ef35-dad8-4316-bb27-8331213c039c\">\n",
              "    <div class=\"colab-df-container\">\n",
              "      <div>\n",
              "<style scoped>\n",
              "    .dataframe tbody tr th:only-of-type {\n",
              "        vertical-align: middle;\n",
              "    }\n",
              "\n",
              "    .dataframe tbody tr th {\n",
              "        vertical-align: top;\n",
              "    }\n",
              "\n",
              "    .dataframe thead th {\n",
              "        text-align: right;\n",
              "    }\n",
              "</style>\n",
              "<table border=\"1\" class=\"dataframe\">\n",
              "  <thead>\n",
              "    <tr style=\"text-align: right;\">\n",
              "      <th></th>\n",
              "      <th>item_name</th>\n",
              "      <th>item_id</th>\n",
              "      <th>item_category_id</th>\n",
              "    </tr>\n",
              "  </thead>\n",
              "  <tbody>\n",
              "    <tr>\n",
              "      <th>0</th>\n",
              "      <td>! ВО ВЛАСТИ НАВАЖДЕНИЯ (ПЛАСТ.)         D</td>\n",
              "      <td>0</td>\n",
              "      <td>40</td>\n",
              "    </tr>\n",
              "    <tr>\n",
              "      <th>1</th>\n",
              "      <td>!ABBYY FineReader 12 Professional Edition Full...</td>\n",
              "      <td>1</td>\n",
              "      <td>76</td>\n",
              "    </tr>\n",
              "    <tr>\n",
              "      <th>2</th>\n",
              "      <td>***В ЛУЧАХ СЛАВЫ   (UNV)                    D</td>\n",
              "      <td>2</td>\n",
              "      <td>40</td>\n",
              "    </tr>\n",
              "    <tr>\n",
              "      <th>3</th>\n",
              "      <td>***ГОЛУБАЯ ВОЛНА  (Univ)                      D</td>\n",
              "      <td>3</td>\n",
              "      <td>40</td>\n",
              "    </tr>\n",
              "    <tr>\n",
              "      <th>4</th>\n",
              "      <td>***КОРОБКА (СТЕКЛО)                       D</td>\n",
              "      <td>4</td>\n",
              "      <td>40</td>\n",
              "    </tr>\n",
              "  </tbody>\n",
              "</table>\n",
              "</div>\n",
              "      <button class=\"colab-df-convert\" onclick=\"convertToInteractive('df-d7d1ef35-dad8-4316-bb27-8331213c039c')\"\n",
              "              title=\"Convert this dataframe to an interactive table.\"\n",
              "              style=\"display:none;\">\n",
              "        \n",
              "  <svg xmlns=\"http://www.w3.org/2000/svg\" height=\"24px\"viewBox=\"0 0 24 24\"\n",
              "       width=\"24px\">\n",
              "    <path d=\"M0 0h24v24H0V0z\" fill=\"none\"/>\n",
              "    <path d=\"M18.56 5.44l.94 2.06.94-2.06 2.06-.94-2.06-.94-.94-2.06-.94 2.06-2.06.94zm-11 1L8.5 8.5l.94-2.06 2.06-.94-2.06-.94L8.5 2.5l-.94 2.06-2.06.94zm10 10l.94 2.06.94-2.06 2.06-.94-2.06-.94-.94-2.06-.94 2.06-2.06.94z\"/><path d=\"M17.41 7.96l-1.37-1.37c-.4-.4-.92-.59-1.43-.59-.52 0-1.04.2-1.43.59L10.3 9.45l-7.72 7.72c-.78.78-.78 2.05 0 2.83L4 21.41c.39.39.9.59 1.41.59.51 0 1.02-.2 1.41-.59l7.78-7.78 2.81-2.81c.8-.78.8-2.07 0-2.86zM5.41 20L4 18.59l7.72-7.72 1.47 1.35L5.41 20z\"/>\n",
              "  </svg>\n",
              "      </button>\n",
              "      \n",
              "  <style>\n",
              "    .colab-df-container {\n",
              "      display:flex;\n",
              "      flex-wrap:wrap;\n",
              "      gap: 12px;\n",
              "    }\n",
              "\n",
              "    .colab-df-convert {\n",
              "      background-color: #E8F0FE;\n",
              "      border: none;\n",
              "      border-radius: 50%;\n",
              "      cursor: pointer;\n",
              "      display: none;\n",
              "      fill: #1967D2;\n",
              "      height: 32px;\n",
              "      padding: 0 0 0 0;\n",
              "      width: 32px;\n",
              "    }\n",
              "\n",
              "    .colab-df-convert:hover {\n",
              "      background-color: #E2EBFA;\n",
              "      box-shadow: 0px 1px 2px rgba(60, 64, 67, 0.3), 0px 1px 3px 1px rgba(60, 64, 67, 0.15);\n",
              "      fill: #174EA6;\n",
              "    }\n",
              "\n",
              "    [theme=dark] .colab-df-convert {\n",
              "      background-color: #3B4455;\n",
              "      fill: #D2E3FC;\n",
              "    }\n",
              "\n",
              "    [theme=dark] .colab-df-convert:hover {\n",
              "      background-color: #434B5C;\n",
              "      box-shadow: 0px 1px 3px 1px rgba(0, 0, 0, 0.15);\n",
              "      filter: drop-shadow(0px 1px 2px rgba(0, 0, 0, 0.3));\n",
              "      fill: #FFFFFF;\n",
              "    }\n",
              "  </style>\n",
              "\n",
              "      <script>\n",
              "        const buttonEl =\n",
              "          document.querySelector('#df-d7d1ef35-dad8-4316-bb27-8331213c039c button.colab-df-convert');\n",
              "        buttonEl.style.display =\n",
              "          google.colab.kernel.accessAllowed ? 'block' : 'none';\n",
              "\n",
              "        async function convertToInteractive(key) {\n",
              "          const element = document.querySelector('#df-d7d1ef35-dad8-4316-bb27-8331213c039c');\n",
              "          const dataTable =\n",
              "            await google.colab.kernel.invokeFunction('convertToInteractive',\n",
              "                                                     [key], {});\n",
              "          if (!dataTable) return;\n",
              "\n",
              "          const docLinkHtml = 'Like what you see? Visit the ' +\n",
              "            '<a target=\"_blank\" href=https://colab.research.google.com/notebooks/data_table.ipynb>data table notebook</a>'\n",
              "            + ' to learn more about interactive tables.';\n",
              "          element.innerHTML = '';\n",
              "          dataTable['output_type'] = 'display_data';\n",
              "          await google.colab.output.renderOutput(dataTable, element);\n",
              "          const docLink = document.createElement('div');\n",
              "          docLink.innerHTML = docLinkHtml;\n",
              "          element.appendChild(docLink);\n",
              "        }\n",
              "      </script>\n",
              "    </div>\n",
              "  </div>\n",
              "  "
            ]
          },
          "metadata": {},
          "execution_count": 7
        }
      ],
      "source": [
        "items.head()"
      ]
    },
    {
      "cell_type": "code",
      "execution_count": null,
      "metadata": {
        "colab": {
          "base_uri": "https://localhost:8080/"
        },
        "id": "xBL6hy5iyS4f",
        "outputId": "893ee638-4586-4691-9a69-69bf4aeff44f"
      },
      "outputs": [
        {
          "output_type": "execute_result",
          "data": {
            "text/plain": [
              "60"
            ]
          },
          "metadata": {},
          "execution_count": 8
        }
      ],
      "source": [
        "len(shops[\"shop_id\"].unique())"
      ]
    },
    {
      "cell_type": "code",
      "execution_count": null,
      "metadata": {
        "colab": {
          "base_uri": "https://localhost:8080/",
          "height": 206
        },
        "id": "_iKDRbWOyWoZ",
        "outputId": "722dcd86-2368-4f66-c17e-f1266f18a4ae"
      },
      "outputs": [
        {
          "output_type": "execute_result",
          "data": {
            "text/plain": [
              "                        shop_name  shop_id\n",
              "0   !Якутск Орджоникидзе, 56 фран        0\n",
              "1   !Якутск ТЦ \"Центральный\" фран        1\n",
              "2                Адыгея ТЦ \"Мега\"        2\n",
              "3  Балашиха ТРК \"Октябрь-Киномир\"        3\n",
              "4        Волжский ТЦ \"Волга Молл\"        4"
            ],
            "text/html": [
              "\n",
              "  <div id=\"df-4a1efcc6-5406-42ee-8b92-1aef520d7110\">\n",
              "    <div class=\"colab-df-container\">\n",
              "      <div>\n",
              "<style scoped>\n",
              "    .dataframe tbody tr th:only-of-type {\n",
              "        vertical-align: middle;\n",
              "    }\n",
              "\n",
              "    .dataframe tbody tr th {\n",
              "        vertical-align: top;\n",
              "    }\n",
              "\n",
              "    .dataframe thead th {\n",
              "        text-align: right;\n",
              "    }\n",
              "</style>\n",
              "<table border=\"1\" class=\"dataframe\">\n",
              "  <thead>\n",
              "    <tr style=\"text-align: right;\">\n",
              "      <th></th>\n",
              "      <th>shop_name</th>\n",
              "      <th>shop_id</th>\n",
              "    </tr>\n",
              "  </thead>\n",
              "  <tbody>\n",
              "    <tr>\n",
              "      <th>0</th>\n",
              "      <td>!Якутск Орджоникидзе, 56 фран</td>\n",
              "      <td>0</td>\n",
              "    </tr>\n",
              "    <tr>\n",
              "      <th>1</th>\n",
              "      <td>!Якутск ТЦ \"Центральный\" фран</td>\n",
              "      <td>1</td>\n",
              "    </tr>\n",
              "    <tr>\n",
              "      <th>2</th>\n",
              "      <td>Адыгея ТЦ \"Мега\"</td>\n",
              "      <td>2</td>\n",
              "    </tr>\n",
              "    <tr>\n",
              "      <th>3</th>\n",
              "      <td>Балашиха ТРК \"Октябрь-Киномир\"</td>\n",
              "      <td>3</td>\n",
              "    </tr>\n",
              "    <tr>\n",
              "      <th>4</th>\n",
              "      <td>Волжский ТЦ \"Волга Молл\"</td>\n",
              "      <td>4</td>\n",
              "    </tr>\n",
              "  </tbody>\n",
              "</table>\n",
              "</div>\n",
              "      <button class=\"colab-df-convert\" onclick=\"convertToInteractive('df-4a1efcc6-5406-42ee-8b92-1aef520d7110')\"\n",
              "              title=\"Convert this dataframe to an interactive table.\"\n",
              "              style=\"display:none;\">\n",
              "        \n",
              "  <svg xmlns=\"http://www.w3.org/2000/svg\" height=\"24px\"viewBox=\"0 0 24 24\"\n",
              "       width=\"24px\">\n",
              "    <path d=\"M0 0h24v24H0V0z\" fill=\"none\"/>\n",
              "    <path d=\"M18.56 5.44l.94 2.06.94-2.06 2.06-.94-2.06-.94-.94-2.06-.94 2.06-2.06.94zm-11 1L8.5 8.5l.94-2.06 2.06-.94-2.06-.94L8.5 2.5l-.94 2.06-2.06.94zm10 10l.94 2.06.94-2.06 2.06-.94-2.06-.94-.94-2.06-.94 2.06-2.06.94z\"/><path d=\"M17.41 7.96l-1.37-1.37c-.4-.4-.92-.59-1.43-.59-.52 0-1.04.2-1.43.59L10.3 9.45l-7.72 7.72c-.78.78-.78 2.05 0 2.83L4 21.41c.39.39.9.59 1.41.59.51 0 1.02-.2 1.41-.59l7.78-7.78 2.81-2.81c.8-.78.8-2.07 0-2.86zM5.41 20L4 18.59l7.72-7.72 1.47 1.35L5.41 20z\"/>\n",
              "  </svg>\n",
              "      </button>\n",
              "      \n",
              "  <style>\n",
              "    .colab-df-container {\n",
              "      display:flex;\n",
              "      flex-wrap:wrap;\n",
              "      gap: 12px;\n",
              "    }\n",
              "\n",
              "    .colab-df-convert {\n",
              "      background-color: #E8F0FE;\n",
              "      border: none;\n",
              "      border-radius: 50%;\n",
              "      cursor: pointer;\n",
              "      display: none;\n",
              "      fill: #1967D2;\n",
              "      height: 32px;\n",
              "      padding: 0 0 0 0;\n",
              "      width: 32px;\n",
              "    }\n",
              "\n",
              "    .colab-df-convert:hover {\n",
              "      background-color: #E2EBFA;\n",
              "      box-shadow: 0px 1px 2px rgba(60, 64, 67, 0.3), 0px 1px 3px 1px rgba(60, 64, 67, 0.15);\n",
              "      fill: #174EA6;\n",
              "    }\n",
              "\n",
              "    [theme=dark] .colab-df-convert {\n",
              "      background-color: #3B4455;\n",
              "      fill: #D2E3FC;\n",
              "    }\n",
              "\n",
              "    [theme=dark] .colab-df-convert:hover {\n",
              "      background-color: #434B5C;\n",
              "      box-shadow: 0px 1px 3px 1px rgba(0, 0, 0, 0.15);\n",
              "      filter: drop-shadow(0px 1px 2px rgba(0, 0, 0, 0.3));\n",
              "      fill: #FFFFFF;\n",
              "    }\n",
              "  </style>\n",
              "\n",
              "      <script>\n",
              "        const buttonEl =\n",
              "          document.querySelector('#df-4a1efcc6-5406-42ee-8b92-1aef520d7110 button.colab-df-convert');\n",
              "        buttonEl.style.display =\n",
              "          google.colab.kernel.accessAllowed ? 'block' : 'none';\n",
              "\n",
              "        async function convertToInteractive(key) {\n",
              "          const element = document.querySelector('#df-4a1efcc6-5406-42ee-8b92-1aef520d7110');\n",
              "          const dataTable =\n",
              "            await google.colab.kernel.invokeFunction('convertToInteractive',\n",
              "                                                     [key], {});\n",
              "          if (!dataTable) return;\n",
              "\n",
              "          const docLinkHtml = 'Like what you see? Visit the ' +\n",
              "            '<a target=\"_blank\" href=https://colab.research.google.com/notebooks/data_table.ipynb>data table notebook</a>'\n",
              "            + ' to learn more about interactive tables.';\n",
              "          element.innerHTML = '';\n",
              "          dataTable['output_type'] = 'display_data';\n",
              "          await google.colab.output.renderOutput(dataTable, element);\n",
              "          const docLink = document.createElement('div');\n",
              "          docLink.innerHTML = docLinkHtml;\n",
              "          element.appendChild(docLink);\n",
              "        }\n",
              "      </script>\n",
              "    </div>\n",
              "  </div>\n",
              "  "
            ]
          },
          "metadata": {},
          "execution_count": 9
        }
      ],
      "source": [
        "shops.head()"
      ]
    },
    {
      "cell_type": "code",
      "execution_count": null,
      "metadata": {
        "id": "dv0pi0CIyWun"
      },
      "outputs": [],
      "source": [
        "train = sales_train.join(items, on='item_id', rsuffix='_').join(shops, on=\"shop_id\", rsuffix='_').join(item_categories, on=\"item_category_id\", rsuffix='_')"
      ]
    },
    {
      "cell_type": "code",
      "execution_count": null,
      "metadata": {
        "id": "XX4ReelJyZ4v"
      },
      "outputs": [],
      "source": [
        "train = train.drop(['item_id_', 'shop_id_', 'item_category_id_', \"item_name\", \"shop_name\", \"item_category_name\"], axis=1)"
      ]
    },
    {
      "cell_type": "code",
      "execution_count": null,
      "metadata": {
        "colab": {
          "base_uri": "https://localhost:8080/"
        },
        "id": "iPFHfmEBycHv",
        "outputId": "e9467d11-5b68-4946-f247-7087ebe5eefd"
      },
      "outputs": [
        {
          "output_type": "stream",
          "name": "stdout",
          "text": [
            "Train rows 2935849\n",
            "Train columns 7\n"
          ]
        }
      ],
      "source": [
        "print(\"Train rows\", train.shape[0])\n",
        "print(\"Train columns\", train.shape[1])"
      ]
    },
    {
      "cell_type": "code",
      "execution_count": null,
      "metadata": {
        "colab": {
          "base_uri": "https://localhost:8080/",
          "height": 330
        },
        "id": "SIfjmpYdiF_M",
        "outputId": "b3b012d9-453b-4be9-bcfc-03c634ae4cee"
      },
      "outputs": [
        {
          "output_type": "execute_result",
          "data": {
            "text/plain": [
              "                                    0                    1  \\\n",
              "date              2013-02-01 00:00:00  2013-03-01 00:00:00   \n",
              "date_block_num                      0                    0   \n",
              "shop_id                            59                   25   \n",
              "item_id                         22154                 2552   \n",
              "item_price                     999.00               899.00   \n",
              "item_cnt_day                        1                    1   \n",
              "item_category_id                   37                   58   \n",
              "\n",
              "                                    2                    3  \\\n",
              "date              2013-05-01 00:00:00  2013-06-01 00:00:00   \n",
              "date_block_num                      0                    0   \n",
              "shop_id                            25                   25   \n",
              "item_id                          2552                 2554   \n",
              "item_price                     899.00              1709.05   \n",
              "item_cnt_day                       -1                    1   \n",
              "item_category_id                   58                   58   \n",
              "\n",
              "                                    4  \n",
              "date              2013-01-15 00:00:00  \n",
              "date_block_num                      0  \n",
              "shop_id                            25  \n",
              "item_id                          2555  \n",
              "item_price                    1099.00  \n",
              "item_cnt_day                        1  \n",
              "item_category_id                   56  "
            ],
            "text/html": [
              "\n",
              "  <div id=\"df-11d2694a-e4e8-463e-92fa-2aca755c9ce4\">\n",
              "    <div class=\"colab-df-container\">\n",
              "      <div>\n",
              "<style scoped>\n",
              "    .dataframe tbody tr th:only-of-type {\n",
              "        vertical-align: middle;\n",
              "    }\n",
              "\n",
              "    .dataframe tbody tr th {\n",
              "        vertical-align: top;\n",
              "    }\n",
              "\n",
              "    .dataframe thead th {\n",
              "        text-align: right;\n",
              "    }\n",
              "</style>\n",
              "<table border=\"1\" class=\"dataframe\">\n",
              "  <thead>\n",
              "    <tr style=\"text-align: right;\">\n",
              "      <th></th>\n",
              "      <th>0</th>\n",
              "      <th>1</th>\n",
              "      <th>2</th>\n",
              "      <th>3</th>\n",
              "      <th>4</th>\n",
              "    </tr>\n",
              "  </thead>\n",
              "  <tbody>\n",
              "    <tr>\n",
              "      <th>date</th>\n",
              "      <td>2013-02-01 00:00:00</td>\n",
              "      <td>2013-03-01 00:00:00</td>\n",
              "      <td>2013-05-01 00:00:00</td>\n",
              "      <td>2013-06-01 00:00:00</td>\n",
              "      <td>2013-01-15 00:00:00</td>\n",
              "    </tr>\n",
              "    <tr>\n",
              "      <th>date_block_num</th>\n",
              "      <td>0</td>\n",
              "      <td>0</td>\n",
              "      <td>0</td>\n",
              "      <td>0</td>\n",
              "      <td>0</td>\n",
              "    </tr>\n",
              "    <tr>\n",
              "      <th>shop_id</th>\n",
              "      <td>59</td>\n",
              "      <td>25</td>\n",
              "      <td>25</td>\n",
              "      <td>25</td>\n",
              "      <td>25</td>\n",
              "    </tr>\n",
              "    <tr>\n",
              "      <th>item_id</th>\n",
              "      <td>22154</td>\n",
              "      <td>2552</td>\n",
              "      <td>2552</td>\n",
              "      <td>2554</td>\n",
              "      <td>2555</td>\n",
              "    </tr>\n",
              "    <tr>\n",
              "      <th>item_price</th>\n",
              "      <td>999.00</td>\n",
              "      <td>899.00</td>\n",
              "      <td>899.00</td>\n",
              "      <td>1709.05</td>\n",
              "      <td>1099.00</td>\n",
              "    </tr>\n",
              "    <tr>\n",
              "      <th>item_cnt_day</th>\n",
              "      <td>1</td>\n",
              "      <td>1</td>\n",
              "      <td>-1</td>\n",
              "      <td>1</td>\n",
              "      <td>1</td>\n",
              "    </tr>\n",
              "    <tr>\n",
              "      <th>item_category_id</th>\n",
              "      <td>37</td>\n",
              "      <td>58</td>\n",
              "      <td>58</td>\n",
              "      <td>58</td>\n",
              "      <td>56</td>\n",
              "    </tr>\n",
              "  </tbody>\n",
              "</table>\n",
              "</div>\n",
              "      <button class=\"colab-df-convert\" onclick=\"convertToInteractive('df-11d2694a-e4e8-463e-92fa-2aca755c9ce4')\"\n",
              "              title=\"Convert this dataframe to an interactive table.\"\n",
              "              style=\"display:none;\">\n",
              "        \n",
              "  <svg xmlns=\"http://www.w3.org/2000/svg\" height=\"24px\"viewBox=\"0 0 24 24\"\n",
              "       width=\"24px\">\n",
              "    <path d=\"M0 0h24v24H0V0z\" fill=\"none\"/>\n",
              "    <path d=\"M18.56 5.44l.94 2.06.94-2.06 2.06-.94-2.06-.94-.94-2.06-.94 2.06-2.06.94zm-11 1L8.5 8.5l.94-2.06 2.06-.94-2.06-.94L8.5 2.5l-.94 2.06-2.06.94zm10 10l.94 2.06.94-2.06 2.06-.94-2.06-.94-.94-2.06-.94 2.06-2.06.94z\"/><path d=\"M17.41 7.96l-1.37-1.37c-.4-.4-.92-.59-1.43-.59-.52 0-1.04.2-1.43.59L10.3 9.45l-7.72 7.72c-.78.78-.78 2.05 0 2.83L4 21.41c.39.39.9.59 1.41.59.51 0 1.02-.2 1.41-.59l7.78-7.78 2.81-2.81c.8-.78.8-2.07 0-2.86zM5.41 20L4 18.59l7.72-7.72 1.47 1.35L5.41 20z\"/>\n",
              "  </svg>\n",
              "      </button>\n",
              "      \n",
              "  <style>\n",
              "    .colab-df-container {\n",
              "      display:flex;\n",
              "      flex-wrap:wrap;\n",
              "      gap: 12px;\n",
              "    }\n",
              "\n",
              "    .colab-df-convert {\n",
              "      background-color: #E8F0FE;\n",
              "      border: none;\n",
              "      border-radius: 50%;\n",
              "      cursor: pointer;\n",
              "      display: none;\n",
              "      fill: #1967D2;\n",
              "      height: 32px;\n",
              "      padding: 0 0 0 0;\n",
              "      width: 32px;\n",
              "    }\n",
              "\n",
              "    .colab-df-convert:hover {\n",
              "      background-color: #E2EBFA;\n",
              "      box-shadow: 0px 1px 2px rgba(60, 64, 67, 0.3), 0px 1px 3px 1px rgba(60, 64, 67, 0.15);\n",
              "      fill: #174EA6;\n",
              "    }\n",
              "\n",
              "    [theme=dark] .colab-df-convert {\n",
              "      background-color: #3B4455;\n",
              "      fill: #D2E3FC;\n",
              "    }\n",
              "\n",
              "    [theme=dark] .colab-df-convert:hover {\n",
              "      background-color: #434B5C;\n",
              "      box-shadow: 0px 1px 3px 1px rgba(0, 0, 0, 0.15);\n",
              "      filter: drop-shadow(0px 1px 2px rgba(0, 0, 0, 0.3));\n",
              "      fill: #FFFFFF;\n",
              "    }\n",
              "  </style>\n",
              "\n",
              "      <script>\n",
              "        const buttonEl =\n",
              "          document.querySelector('#df-11d2694a-e4e8-463e-92fa-2aca755c9ce4 button.colab-df-convert');\n",
              "        buttonEl.style.display =\n",
              "          google.colab.kernel.accessAllowed ? 'block' : 'none';\n",
              "\n",
              "        async function convertToInteractive(key) {\n",
              "          const element = document.querySelector('#df-11d2694a-e4e8-463e-92fa-2aca755c9ce4');\n",
              "          const dataTable =\n",
              "            await google.colab.kernel.invokeFunction('convertToInteractive',\n",
              "                                                     [key], {});\n",
              "          if (!dataTable) return;\n",
              "\n",
              "          const docLinkHtml = 'Like what you see? Visit the ' +\n",
              "            '<a target=\"_blank\" href=https://colab.research.google.com/notebooks/data_table.ipynb>data table notebook</a>'\n",
              "            + ' to learn more about interactive tables.';\n",
              "          element.innerHTML = '';\n",
              "          dataTable['output_type'] = 'display_data';\n",
              "          await google.colab.output.renderOutput(dataTable, element);\n",
              "          const docLink = document.createElement('div');\n",
              "          docLink.innerHTML = docLinkHtml;\n",
              "          element.appendChild(docLink);\n",
              "        }\n",
              "      </script>\n",
              "    </div>\n",
              "  </div>\n",
              "  "
            ]
          },
          "metadata": {},
          "execution_count": 13
        }
      ],
      "source": [
        "train.head().T"
      ]
    },
    {
      "cell_type": "markdown",
      "metadata": {
        "id": "bpyhxKnoyedH"
      },
      "source": [
        "## Data Leakages"
      ]
    },
    {
      "cell_type": "code",
      "execution_count": null,
      "metadata": {
        "id": "h4w8yRqhyffv"
      },
      "outputs": [],
      "source": [
        "# We only process shops and items which actually are available in test dataset\n",
        "test_shops_ids = test[\"shop_id\"].unique()\n",
        "test_item_ids = test[\"item_id\"].unique()\n",
        "\n",
        "dlk_train = train[train[\"shop_id\"].isin(test_shops_ids)]\n",
        "dlk_train = dlk_train[dlk_train[\"item_id\"].isin(test_item_ids)]"
      ]
    },
    {
      "cell_type": "code",
      "execution_count": null,
      "metadata": {
        "colab": {
          "base_uri": "https://localhost:8080/"
        },
        "id": "w35H6Ol0yhHg",
        "outputId": "75bc1e86-bf22-4bfb-bcbf-449528903177"
      },
      "outputs": [
        {
          "output_type": "stream",
          "name": "stdout",
          "text": [
            "DataSet before Data Leakages 2935849\n",
            "DataSet after Data Leakages 1224439\n"
          ]
        }
      ],
      "source": [
        "print(\"DataSet before Data Leakages\", train.shape[0])\n",
        "print(\"DataSet after Data Leakages\", dlk_train.shape[0])"
      ]
    },
    {
      "cell_type": "markdown",
      "metadata": {
        "id": "bnd4zr0UyjPI"
      },
      "source": [
        "## Pre-Processing"
      ]
    },
    {
      "cell_type": "code",
      "execution_count": null,
      "metadata": {
        "colab": {
          "base_uri": "https://localhost:8080/",
          "height": 300
        },
        "id": "cX-yg-0tyjXn",
        "outputId": "a218dc9d-9d22-433f-e8b8-48b1c83e9040"
      },
      "outputs": [
        {
          "output_type": "execute_result",
          "data": {
            "text/plain": [
              "       date_block_num    shop_id    item_id  item_price  item_cnt_day  \\\n",
              "count      1224439.00 1224439.00 1224439.00  1224439.00    1224439.00   \n",
              "mean            19.35      32.15    9614.87     1030.12          1.32   \n",
              "std              9.11      16.47    6299.87     1827.71          3.31   \n",
              "min              0.00       2.00      30.00        0.50        -16.00   \n",
              "25%             12.00      19.00    4181.00      299.00          1.00   \n",
              "50%             21.00      31.00    7856.00      549.00          1.00   \n",
              "75%             27.00      46.00   15229.00     1199.00          1.00   \n",
              "max             33.00      59.00   22167.00    59200.00       2169.00   \n",
              "\n",
              "       item_category_id  \n",
              "count        1224439.00  \n",
              "mean              40.56  \n",
              "std               18.61  \n",
              "min                2.00  \n",
              "25%               25.00  \n",
              "50%               38.00  \n",
              "75%               55.00  \n",
              "max               83.00  "
            ],
            "text/html": [
              "\n",
              "  <div id=\"df-ff0ee932-ff95-47db-aeee-14796a9c74db\">\n",
              "    <div class=\"colab-df-container\">\n",
              "      <div>\n",
              "<style scoped>\n",
              "    .dataframe tbody tr th:only-of-type {\n",
              "        vertical-align: middle;\n",
              "    }\n",
              "\n",
              "    .dataframe tbody tr th {\n",
              "        vertical-align: top;\n",
              "    }\n",
              "\n",
              "    .dataframe thead th {\n",
              "        text-align: right;\n",
              "    }\n",
              "</style>\n",
              "<table border=\"1\" class=\"dataframe\">\n",
              "  <thead>\n",
              "    <tr style=\"text-align: right;\">\n",
              "      <th></th>\n",
              "      <th>date_block_num</th>\n",
              "      <th>shop_id</th>\n",
              "      <th>item_id</th>\n",
              "      <th>item_price</th>\n",
              "      <th>item_cnt_day</th>\n",
              "      <th>item_category_id</th>\n",
              "    </tr>\n",
              "  </thead>\n",
              "  <tbody>\n",
              "    <tr>\n",
              "      <th>count</th>\n",
              "      <td>1224439.00</td>\n",
              "      <td>1224439.00</td>\n",
              "      <td>1224439.00</td>\n",
              "      <td>1224439.00</td>\n",
              "      <td>1224439.00</td>\n",
              "      <td>1224439.00</td>\n",
              "    </tr>\n",
              "    <tr>\n",
              "      <th>mean</th>\n",
              "      <td>19.35</td>\n",
              "      <td>32.15</td>\n",
              "      <td>9614.87</td>\n",
              "      <td>1030.12</td>\n",
              "      <td>1.32</td>\n",
              "      <td>40.56</td>\n",
              "    </tr>\n",
              "    <tr>\n",
              "      <th>std</th>\n",
              "      <td>9.11</td>\n",
              "      <td>16.47</td>\n",
              "      <td>6299.87</td>\n",
              "      <td>1827.71</td>\n",
              "      <td>3.31</td>\n",
              "      <td>18.61</td>\n",
              "    </tr>\n",
              "    <tr>\n",
              "      <th>min</th>\n",
              "      <td>0.00</td>\n",
              "      <td>2.00</td>\n",
              "      <td>30.00</td>\n",
              "      <td>0.50</td>\n",
              "      <td>-16.00</td>\n",
              "      <td>2.00</td>\n",
              "    </tr>\n",
              "    <tr>\n",
              "      <th>25%</th>\n",
              "      <td>12.00</td>\n",
              "      <td>19.00</td>\n",
              "      <td>4181.00</td>\n",
              "      <td>299.00</td>\n",
              "      <td>1.00</td>\n",
              "      <td>25.00</td>\n",
              "    </tr>\n",
              "    <tr>\n",
              "      <th>50%</th>\n",
              "      <td>21.00</td>\n",
              "      <td>31.00</td>\n",
              "      <td>7856.00</td>\n",
              "      <td>549.00</td>\n",
              "      <td>1.00</td>\n",
              "      <td>38.00</td>\n",
              "    </tr>\n",
              "    <tr>\n",
              "      <th>75%</th>\n",
              "      <td>27.00</td>\n",
              "      <td>46.00</td>\n",
              "      <td>15229.00</td>\n",
              "      <td>1199.00</td>\n",
              "      <td>1.00</td>\n",
              "      <td>55.00</td>\n",
              "    </tr>\n",
              "    <tr>\n",
              "      <th>max</th>\n",
              "      <td>33.00</td>\n",
              "      <td>59.00</td>\n",
              "      <td>22167.00</td>\n",
              "      <td>59200.00</td>\n",
              "      <td>2169.00</td>\n",
              "      <td>83.00</td>\n",
              "    </tr>\n",
              "  </tbody>\n",
              "</table>\n",
              "</div>\n",
              "      <button class=\"colab-df-convert\" onclick=\"convertToInteractive('df-ff0ee932-ff95-47db-aeee-14796a9c74db')\"\n",
              "              title=\"Convert this dataframe to an interactive table.\"\n",
              "              style=\"display:none;\">\n",
              "        \n",
              "  <svg xmlns=\"http://www.w3.org/2000/svg\" height=\"24px\"viewBox=\"0 0 24 24\"\n",
              "       width=\"24px\">\n",
              "    <path d=\"M0 0h24v24H0V0z\" fill=\"none\"/>\n",
              "    <path d=\"M18.56 5.44l.94 2.06.94-2.06 2.06-.94-2.06-.94-.94-2.06-.94 2.06-2.06.94zm-11 1L8.5 8.5l.94-2.06 2.06-.94-2.06-.94L8.5 2.5l-.94 2.06-2.06.94zm10 10l.94 2.06.94-2.06 2.06-.94-2.06-.94-.94-2.06-.94 2.06-2.06.94z\"/><path d=\"M17.41 7.96l-1.37-1.37c-.4-.4-.92-.59-1.43-.59-.52 0-1.04.2-1.43.59L10.3 9.45l-7.72 7.72c-.78.78-.78 2.05 0 2.83L4 21.41c.39.39.9.59 1.41.59.51 0 1.02-.2 1.41-.59l7.78-7.78 2.81-2.81c.8-.78.8-2.07 0-2.86zM5.41 20L4 18.59l7.72-7.72 1.47 1.35L5.41 20z\"/>\n",
              "  </svg>\n",
              "      </button>\n",
              "      \n",
              "  <style>\n",
              "    .colab-df-container {\n",
              "      display:flex;\n",
              "      flex-wrap:wrap;\n",
              "      gap: 12px;\n",
              "    }\n",
              "\n",
              "    .colab-df-convert {\n",
              "      background-color: #E8F0FE;\n",
              "      border: none;\n",
              "      border-radius: 50%;\n",
              "      cursor: pointer;\n",
              "      display: none;\n",
              "      fill: #1967D2;\n",
              "      height: 32px;\n",
              "      padding: 0 0 0 0;\n",
              "      width: 32px;\n",
              "    }\n",
              "\n",
              "    .colab-df-convert:hover {\n",
              "      background-color: #E2EBFA;\n",
              "      box-shadow: 0px 1px 2px rgba(60, 64, 67, 0.3), 0px 1px 3px 1px rgba(60, 64, 67, 0.15);\n",
              "      fill: #174EA6;\n",
              "    }\n",
              "\n",
              "    [theme=dark] .colab-df-convert {\n",
              "      background-color: #3B4455;\n",
              "      fill: #D2E3FC;\n",
              "    }\n",
              "\n",
              "    [theme=dark] .colab-df-convert:hover {\n",
              "      background-color: #434B5C;\n",
              "      box-shadow: 0px 1px 3px 1px rgba(0, 0, 0, 0.15);\n",
              "      filter: drop-shadow(0px 1px 2px rgba(0, 0, 0, 0.3));\n",
              "      fill: #FFFFFF;\n",
              "    }\n",
              "  </style>\n",
              "\n",
              "      <script>\n",
              "        const buttonEl =\n",
              "          document.querySelector('#df-ff0ee932-ff95-47db-aeee-14796a9c74db button.colab-df-convert');\n",
              "        buttonEl.style.display =\n",
              "          google.colab.kernel.accessAllowed ? 'block' : 'none';\n",
              "\n",
              "        async function convertToInteractive(key) {\n",
              "          const element = document.querySelector('#df-ff0ee932-ff95-47db-aeee-14796a9c74db');\n",
              "          const dataTable =\n",
              "            await google.colab.kernel.invokeFunction('convertToInteractive',\n",
              "                                                     [key], {});\n",
              "          if (!dataTable) return;\n",
              "\n",
              "          const docLinkHtml = 'Like what you see? Visit the ' +\n",
              "            '<a target=\"_blank\" href=https://colab.research.google.com/notebooks/data_table.ipynb>data table notebook</a>'\n",
              "            + ' to learn more about interactive tables.';\n",
              "          element.innerHTML = '';\n",
              "          dataTable['output_type'] = 'display_data';\n",
              "          await google.colab.output.renderOutput(dataTable, element);\n",
              "          const docLink = document.createElement('div');\n",
              "          docLink.innerHTML = docLinkHtml;\n",
              "          element.appendChild(docLink);\n",
              "        }\n",
              "      </script>\n",
              "    </div>\n",
              "  </div>\n",
              "  "
            ]
          },
          "metadata": {},
          "execution_count": 16
        }
      ],
      "source": [
        "dlk_train.describe()"
      ]
    },
    {
      "cell_type": "markdown",
      "metadata": {
        "id": "YOgJv1gS6OML"
      },
      "source": [
        "**We will group the data by months**"
      ]
    },
    {
      "cell_type": "code",
      "execution_count": null,
      "metadata": {
        "id": "MGnK4CKo6B2N"
      },
      "outputs": [],
      "source": [
        "train_monthly = dlk_train[[\"date\",\"date_block_num\", \"shop_id\", \"item_category_id\", \"item_id\", \"item_price\", \"item_cnt_day\"]]\n",
        "train_monthly = train_monthly.sort_values('date').groupby([\"date_block_num\", \"shop_id\", \"item_category_id\", \"item_id\" ], as_index=False)\n",
        "train_monthly = train_monthly.agg({\"item_price\":[\"sum\",\"mean\"], \"item_cnt_day\":[\"sum\",\"mean\", \"count\"]})\n",
        "train_monthly.columns = ['date_block_num', 'shop_id', 'item_category_id', 'item_id', 'item_price', 'mean_item_price', 'item_cnt', 'mean_item_cnt', 'num_transactions']\n"
      ]
    },
    {
      "cell_type": "code",
      "execution_count": null,
      "metadata": {
        "colab": {
          "base_uri": "https://localhost:8080/",
          "height": 270
        },
        "id": "whkgiG5H6B9L",
        "outputId": "e9de7687-1197-4e59-ea04-98730d1f9092"
      },
      "outputs": [
        {
          "output_type": "execute_result",
          "data": {
            "text/plain": [
              "   date_block_num  shop_id  item_category_id  item_id  item_price  \\\n",
              "0               0        2                 2     5572    10730.00   \n",
              "1               0        2                 2     5643     4775.21   \n",
              "2               0        2                 5     5583     1188.30   \n",
              "3               0        2                 6     7893     5970.00   \n",
              "4               0        2                 6     7894     1490.00   \n",
              "\n",
              "   mean_item_price  item_cnt  mean_item_cnt  num_transactions  \n",
              "0          1532.86         9           1.29                 7  \n",
              "1          2387.60         0           0.00                 2  \n",
              "2           594.15         2           1.00                 2  \n",
              "3          1990.00         3           1.00                 3  \n",
              "4          1490.00         1           1.00                 1  "
            ],
            "text/html": [
              "\n",
              "  <div id=\"df-6ed1cbe5-34d6-497a-9396-19a7b5c74360\">\n",
              "    <div class=\"colab-df-container\">\n",
              "      <div>\n",
              "<style scoped>\n",
              "    .dataframe tbody tr th:only-of-type {\n",
              "        vertical-align: middle;\n",
              "    }\n",
              "\n",
              "    .dataframe tbody tr th {\n",
              "        vertical-align: top;\n",
              "    }\n",
              "\n",
              "    .dataframe thead th {\n",
              "        text-align: right;\n",
              "    }\n",
              "</style>\n",
              "<table border=\"1\" class=\"dataframe\">\n",
              "  <thead>\n",
              "    <tr style=\"text-align: right;\">\n",
              "      <th></th>\n",
              "      <th>date_block_num</th>\n",
              "      <th>shop_id</th>\n",
              "      <th>item_category_id</th>\n",
              "      <th>item_id</th>\n",
              "      <th>item_price</th>\n",
              "      <th>mean_item_price</th>\n",
              "      <th>item_cnt</th>\n",
              "      <th>mean_item_cnt</th>\n",
              "      <th>num_transactions</th>\n",
              "    </tr>\n",
              "  </thead>\n",
              "  <tbody>\n",
              "    <tr>\n",
              "      <th>0</th>\n",
              "      <td>0</td>\n",
              "      <td>2</td>\n",
              "      <td>2</td>\n",
              "      <td>5572</td>\n",
              "      <td>10730.00</td>\n",
              "      <td>1532.86</td>\n",
              "      <td>9</td>\n",
              "      <td>1.29</td>\n",
              "      <td>7</td>\n",
              "    </tr>\n",
              "    <tr>\n",
              "      <th>1</th>\n",
              "      <td>0</td>\n",
              "      <td>2</td>\n",
              "      <td>2</td>\n",
              "      <td>5643</td>\n",
              "      <td>4775.21</td>\n",
              "      <td>2387.60</td>\n",
              "      <td>0</td>\n",
              "      <td>0.00</td>\n",
              "      <td>2</td>\n",
              "    </tr>\n",
              "    <tr>\n",
              "      <th>2</th>\n",
              "      <td>0</td>\n",
              "      <td>2</td>\n",
              "      <td>5</td>\n",
              "      <td>5583</td>\n",
              "      <td>1188.30</td>\n",
              "      <td>594.15</td>\n",
              "      <td>2</td>\n",
              "      <td>1.00</td>\n",
              "      <td>2</td>\n",
              "    </tr>\n",
              "    <tr>\n",
              "      <th>3</th>\n",
              "      <td>0</td>\n",
              "      <td>2</td>\n",
              "      <td>6</td>\n",
              "      <td>7893</td>\n",
              "      <td>5970.00</td>\n",
              "      <td>1990.00</td>\n",
              "      <td>3</td>\n",
              "      <td>1.00</td>\n",
              "      <td>3</td>\n",
              "    </tr>\n",
              "    <tr>\n",
              "      <th>4</th>\n",
              "      <td>0</td>\n",
              "      <td>2</td>\n",
              "      <td>6</td>\n",
              "      <td>7894</td>\n",
              "      <td>1490.00</td>\n",
              "      <td>1490.00</td>\n",
              "      <td>1</td>\n",
              "      <td>1.00</td>\n",
              "      <td>1</td>\n",
              "    </tr>\n",
              "  </tbody>\n",
              "</table>\n",
              "</div>\n",
              "      <button class=\"colab-df-convert\" onclick=\"convertToInteractive('df-6ed1cbe5-34d6-497a-9396-19a7b5c74360')\"\n",
              "              title=\"Convert this dataframe to an interactive table.\"\n",
              "              style=\"display:none;\">\n",
              "        \n",
              "  <svg xmlns=\"http://www.w3.org/2000/svg\" height=\"24px\"viewBox=\"0 0 24 24\"\n",
              "       width=\"24px\">\n",
              "    <path d=\"M0 0h24v24H0V0z\" fill=\"none\"/>\n",
              "    <path d=\"M18.56 5.44l.94 2.06.94-2.06 2.06-.94-2.06-.94-.94-2.06-.94 2.06-2.06.94zm-11 1L8.5 8.5l.94-2.06 2.06-.94-2.06-.94L8.5 2.5l-.94 2.06-2.06.94zm10 10l.94 2.06.94-2.06 2.06-.94-2.06-.94-.94-2.06-.94 2.06-2.06.94z\"/><path d=\"M17.41 7.96l-1.37-1.37c-.4-.4-.92-.59-1.43-.59-.52 0-1.04.2-1.43.59L10.3 9.45l-7.72 7.72c-.78.78-.78 2.05 0 2.83L4 21.41c.39.39.9.59 1.41.59.51 0 1.02-.2 1.41-.59l7.78-7.78 2.81-2.81c.8-.78.8-2.07 0-2.86zM5.41 20L4 18.59l7.72-7.72 1.47 1.35L5.41 20z\"/>\n",
              "  </svg>\n",
              "      </button>\n",
              "      \n",
              "  <style>\n",
              "    .colab-df-container {\n",
              "      display:flex;\n",
              "      flex-wrap:wrap;\n",
              "      gap: 12px;\n",
              "    }\n",
              "\n",
              "    .colab-df-convert {\n",
              "      background-color: #E8F0FE;\n",
              "      border: none;\n",
              "      border-radius: 50%;\n",
              "      cursor: pointer;\n",
              "      display: none;\n",
              "      fill: #1967D2;\n",
              "      height: 32px;\n",
              "      padding: 0 0 0 0;\n",
              "      width: 32px;\n",
              "    }\n",
              "\n",
              "    .colab-df-convert:hover {\n",
              "      background-color: #E2EBFA;\n",
              "      box-shadow: 0px 1px 2px rgba(60, 64, 67, 0.3), 0px 1px 3px 1px rgba(60, 64, 67, 0.15);\n",
              "      fill: #174EA6;\n",
              "    }\n",
              "\n",
              "    [theme=dark] .colab-df-convert {\n",
              "      background-color: #3B4455;\n",
              "      fill: #D2E3FC;\n",
              "    }\n",
              "\n",
              "    [theme=dark] .colab-df-convert:hover {\n",
              "      background-color: #434B5C;\n",
              "      box-shadow: 0px 1px 3px 1px rgba(0, 0, 0, 0.15);\n",
              "      filter: drop-shadow(0px 1px 2px rgba(0, 0, 0, 0.3));\n",
              "      fill: #FFFFFF;\n",
              "    }\n",
              "  </style>\n",
              "\n",
              "      <script>\n",
              "        const buttonEl =\n",
              "          document.querySelector('#df-6ed1cbe5-34d6-497a-9396-19a7b5c74360 button.colab-df-convert');\n",
              "        buttonEl.style.display =\n",
              "          google.colab.kernel.accessAllowed ? 'block' : 'none';\n",
              "\n",
              "        async function convertToInteractive(key) {\n",
              "          const element = document.querySelector('#df-6ed1cbe5-34d6-497a-9396-19a7b5c74360');\n",
              "          const dataTable =\n",
              "            await google.colab.kernel.invokeFunction('convertToInteractive',\n",
              "                                                     [key], {});\n",
              "          if (!dataTable) return;\n",
              "\n",
              "          const docLinkHtml = 'Like what you see? Visit the ' +\n",
              "            '<a target=\"_blank\" href=https://colab.research.google.com/notebooks/data_table.ipynb>data table notebook</a>'\n",
              "            + ' to learn more about interactive tables.';\n",
              "          element.innerHTML = '';\n",
              "          dataTable['output_type'] = 'display_data';\n",
              "          await google.colab.output.renderOutput(dataTable, element);\n",
              "          const docLink = document.createElement('div');\n",
              "          docLink.innerHTML = docLinkHtml;\n",
              "          element.appendChild(docLink);\n",
              "        }\n",
              "      </script>\n",
              "    </div>\n",
              "  </div>\n",
              "  "
            ]
          },
          "metadata": {},
          "execution_count": 18
        }
      ],
      "source": [
        "train_monthly.head()"
      ]
    },
    {
      "cell_type": "markdown",
      "metadata": {
        "id": "LpuUIbVCqwjo"
      },
      "source": [
        "**For each month we need to recreate missing values for each shop and item**"
      ]
    },
    {
      "cell_type": "code",
      "execution_count": null,
      "metadata": {
        "id": "EmZbxa90q9ov"
      },
      "outputs": [],
      "source": [
        "num_months = train_monthly[\"date_block_num\"].unique()\n",
        "shop_ids = train_monthly[\"shop_id\"].unique()\n",
        "item_ids = train_monthly[\"item_id\"].unique()\n",
        "empty_df = []"
      ]
    },
    {
      "cell_type": "code",
      "execution_count": null,
      "metadata": {
        "id": "S2clsITuq_nY"
      },
      "outputs": [],
      "source": [
        "for month in num_months:\n",
        "    for shop_aux in shop_ids:\n",
        "        for item_aux in item_ids:\n",
        "            empty_df.append([month, shop_aux, item_aux])"
      ]
    },
    {
      "cell_type": "code",
      "execution_count": null,
      "metadata": {
        "id": "mPcgseZbrClv"
      },
      "outputs": [],
      "source": [
        "empty_df = pd.DataFrame(empty_df, columns=['date_block_num','shop_id','item_id'])"
      ]
    },
    {
      "cell_type": "code",
      "execution_count": null,
      "metadata": {
        "id": "MlDGVRxarFa9"
      },
      "outputs": [],
      "source": [
        "# Merge the train set with the complete set (missing records will be filled with 0).\n",
        "train_monthly = pd.merge(empty_df, train_monthly, on=['date_block_num','shop_id','item_id'], how='left')"
      ]
    },
    {
      "cell_type": "code",
      "execution_count": null,
      "metadata": {
        "id": "szDemfDlrP0w"
      },
      "outputs": [],
      "source": [
        "### We can  replace category_id with real value via ITEM dataframe\n",
        "auxiliar = []\n",
        "for index, values in items[\"item_id\"].items():\n",
        "    auxiliar.append([values, items.iloc[index][2]])"
      ]
    },
    {
      "cell_type": "code",
      "execution_count": null,
      "metadata": {
        "id": "z72txAV7rRuj"
      },
      "outputs": [],
      "source": [
        "train_monthly['item_category_id'] = train_monthly['item_id'].apply(lambda x: auxiliar[x][1])"
      ]
    },
    {
      "cell_type": "code",
      "execution_count": null,
      "metadata": {
        "id": "uiT207dorS1W"
      },
      "outputs": [],
      "source": [
        "train_monthly.fillna(0, inplace=True)"
      ]
    },
    {
      "cell_type": "code",
      "execution_count": null,
      "metadata": {
        "id": "oVE_V7NUrS6f"
      },
      "outputs": [],
      "source": [
        "# Extract time based features.\n",
        "train_monthly['year'] = train_monthly['date_block_num'].apply(lambda x: ((x//12) + 2013))\n",
        "train_monthly['month'] = train_monthly['date_block_num'].apply(lambda x: (x % 12) + 1)"
      ]
    },
    {
      "cell_type": "code",
      "execution_count": null,
      "metadata": {
        "colab": {
          "base_uri": "https://localhost:8080/",
          "height": 394
        },
        "id": "39flY8vnrS__",
        "outputId": "a05b3e08-c578-4a07-f1c1-185e73b3865d"
      },
      "outputs": [
        {
          "output_type": "execute_result",
          "data": {
            "text/plain": [
              "                      count     mean     std     min     25%      50%  \\\n",
              "date_block_num   6734448.00    16.50    9.81    0.00    8.00    16.50   \n",
              "shop_id          6734448.00    31.64   17.56    2.00   16.00    34.50   \n",
              "item_id          6734448.00 11041.89 6210.74   30.00 5385.25 11265.50   \n",
              "item_category_id 6734448.00    46.22   16.69    2.00   37.00    43.00   \n",
              "item_price       6734448.00   187.35 2171.80    0.00    0.00     0.00   \n",
              "mean_item_price  6734448.00    81.13  531.16    0.00    0.00     0.00   \n",
              "item_cnt         6734448.00     0.24    3.46   -4.00    0.00     0.00   \n",
              "mean_item_cnt    6734448.00     0.10    0.61   -2.00    0.00     0.00   \n",
              "num_transactions 6734448.00     0.18    0.90    0.00    0.00     0.00   \n",
              "year             6734448.00  2013.94    0.80 2013.00 2013.00  2014.00   \n",
              "month            6734448.00     6.21    3.32    1.00    3.00     6.00   \n",
              "\n",
              "                      75%       max  \n",
              "date_block_num      25.00     33.00  \n",
              "shop_id             47.00     59.00  \n",
              "item_id          16068.25  22167.00  \n",
              "item_category_id    58.00     83.00  \n",
              "item_price           0.00 515573.59  \n",
              "mean_item_price      0.00  42990.00  \n",
              "item_cnt             0.00   2253.00  \n",
              "mean_item_cnt        0.00   1000.00  \n",
              "num_transactions     0.00     31.00  \n",
              "year              2015.00   2015.00  \n",
              "month                9.00     12.00  "
            ],
            "text/html": [
              "\n",
              "  <div id=\"df-833b716d-493e-4082-a33a-a1e383e3778d\">\n",
              "    <div class=\"colab-df-container\">\n",
              "      <div>\n",
              "<style scoped>\n",
              "    .dataframe tbody tr th:only-of-type {\n",
              "        vertical-align: middle;\n",
              "    }\n",
              "\n",
              "    .dataframe tbody tr th {\n",
              "        vertical-align: top;\n",
              "    }\n",
              "\n",
              "    .dataframe thead th {\n",
              "        text-align: right;\n",
              "    }\n",
              "</style>\n",
              "<table border=\"1\" class=\"dataframe\">\n",
              "  <thead>\n",
              "    <tr style=\"text-align: right;\">\n",
              "      <th></th>\n",
              "      <th>count</th>\n",
              "      <th>mean</th>\n",
              "      <th>std</th>\n",
              "      <th>min</th>\n",
              "      <th>25%</th>\n",
              "      <th>50%</th>\n",
              "      <th>75%</th>\n",
              "      <th>max</th>\n",
              "    </tr>\n",
              "  </thead>\n",
              "  <tbody>\n",
              "    <tr>\n",
              "      <th>date_block_num</th>\n",
              "      <td>6734448.00</td>\n",
              "      <td>16.50</td>\n",
              "      <td>9.81</td>\n",
              "      <td>0.00</td>\n",
              "      <td>8.00</td>\n",
              "      <td>16.50</td>\n",
              "      <td>25.00</td>\n",
              "      <td>33.00</td>\n",
              "    </tr>\n",
              "    <tr>\n",
              "      <th>shop_id</th>\n",
              "      <td>6734448.00</td>\n",
              "      <td>31.64</td>\n",
              "      <td>17.56</td>\n",
              "      <td>2.00</td>\n",
              "      <td>16.00</td>\n",
              "      <td>34.50</td>\n",
              "      <td>47.00</td>\n",
              "      <td>59.00</td>\n",
              "    </tr>\n",
              "    <tr>\n",
              "      <th>item_id</th>\n",
              "      <td>6734448.00</td>\n",
              "      <td>11041.89</td>\n",
              "      <td>6210.74</td>\n",
              "      <td>30.00</td>\n",
              "      <td>5385.25</td>\n",
              "      <td>11265.50</td>\n",
              "      <td>16068.25</td>\n",
              "      <td>22167.00</td>\n",
              "    </tr>\n",
              "    <tr>\n",
              "      <th>item_category_id</th>\n",
              "      <td>6734448.00</td>\n",
              "      <td>46.22</td>\n",
              "      <td>16.69</td>\n",
              "      <td>2.00</td>\n",
              "      <td>37.00</td>\n",
              "      <td>43.00</td>\n",
              "      <td>58.00</td>\n",
              "      <td>83.00</td>\n",
              "    </tr>\n",
              "    <tr>\n",
              "      <th>item_price</th>\n",
              "      <td>6734448.00</td>\n",
              "      <td>187.35</td>\n",
              "      <td>2171.80</td>\n",
              "      <td>0.00</td>\n",
              "      <td>0.00</td>\n",
              "      <td>0.00</td>\n",
              "      <td>0.00</td>\n",
              "      <td>515573.59</td>\n",
              "    </tr>\n",
              "    <tr>\n",
              "      <th>mean_item_price</th>\n",
              "      <td>6734448.00</td>\n",
              "      <td>81.13</td>\n",
              "      <td>531.16</td>\n",
              "      <td>0.00</td>\n",
              "      <td>0.00</td>\n",
              "      <td>0.00</td>\n",
              "      <td>0.00</td>\n",
              "      <td>42990.00</td>\n",
              "    </tr>\n",
              "    <tr>\n",
              "      <th>item_cnt</th>\n",
              "      <td>6734448.00</td>\n",
              "      <td>0.24</td>\n",
              "      <td>3.46</td>\n",
              "      <td>-4.00</td>\n",
              "      <td>0.00</td>\n",
              "      <td>0.00</td>\n",
              "      <td>0.00</td>\n",
              "      <td>2253.00</td>\n",
              "    </tr>\n",
              "    <tr>\n",
              "      <th>mean_item_cnt</th>\n",
              "      <td>6734448.00</td>\n",
              "      <td>0.10</td>\n",
              "      <td>0.61</td>\n",
              "      <td>-2.00</td>\n",
              "      <td>0.00</td>\n",
              "      <td>0.00</td>\n",
              "      <td>0.00</td>\n",
              "      <td>1000.00</td>\n",
              "    </tr>\n",
              "    <tr>\n",
              "      <th>num_transactions</th>\n",
              "      <td>6734448.00</td>\n",
              "      <td>0.18</td>\n",
              "      <td>0.90</td>\n",
              "      <td>0.00</td>\n",
              "      <td>0.00</td>\n",
              "      <td>0.00</td>\n",
              "      <td>0.00</td>\n",
              "      <td>31.00</td>\n",
              "    </tr>\n",
              "    <tr>\n",
              "      <th>year</th>\n",
              "      <td>6734448.00</td>\n",
              "      <td>2013.94</td>\n",
              "      <td>0.80</td>\n",
              "      <td>2013.00</td>\n",
              "      <td>2013.00</td>\n",
              "      <td>2014.00</td>\n",
              "      <td>2015.00</td>\n",
              "      <td>2015.00</td>\n",
              "    </tr>\n",
              "    <tr>\n",
              "      <th>month</th>\n",
              "      <td>6734448.00</td>\n",
              "      <td>6.21</td>\n",
              "      <td>3.32</td>\n",
              "      <td>1.00</td>\n",
              "      <td>3.00</td>\n",
              "      <td>6.00</td>\n",
              "      <td>9.00</td>\n",
              "      <td>12.00</td>\n",
              "    </tr>\n",
              "  </tbody>\n",
              "</table>\n",
              "</div>\n",
              "      <button class=\"colab-df-convert\" onclick=\"convertToInteractive('df-833b716d-493e-4082-a33a-a1e383e3778d')\"\n",
              "              title=\"Convert this dataframe to an interactive table.\"\n",
              "              style=\"display:none;\">\n",
              "        \n",
              "  <svg xmlns=\"http://www.w3.org/2000/svg\" height=\"24px\"viewBox=\"0 0 24 24\"\n",
              "       width=\"24px\">\n",
              "    <path d=\"M0 0h24v24H0V0z\" fill=\"none\"/>\n",
              "    <path d=\"M18.56 5.44l.94 2.06.94-2.06 2.06-.94-2.06-.94-.94-2.06-.94 2.06-2.06.94zm-11 1L8.5 8.5l.94-2.06 2.06-.94-2.06-.94L8.5 2.5l-.94 2.06-2.06.94zm10 10l.94 2.06.94-2.06 2.06-.94-2.06-.94-.94-2.06-.94 2.06-2.06.94z\"/><path d=\"M17.41 7.96l-1.37-1.37c-.4-.4-.92-.59-1.43-.59-.52 0-1.04.2-1.43.59L10.3 9.45l-7.72 7.72c-.78.78-.78 2.05 0 2.83L4 21.41c.39.39.9.59 1.41.59.51 0 1.02-.2 1.41-.59l7.78-7.78 2.81-2.81c.8-.78.8-2.07 0-2.86zM5.41 20L4 18.59l7.72-7.72 1.47 1.35L5.41 20z\"/>\n",
              "  </svg>\n",
              "      </button>\n",
              "      \n",
              "  <style>\n",
              "    .colab-df-container {\n",
              "      display:flex;\n",
              "      flex-wrap:wrap;\n",
              "      gap: 12px;\n",
              "    }\n",
              "\n",
              "    .colab-df-convert {\n",
              "      background-color: #E8F0FE;\n",
              "      border: none;\n",
              "      border-radius: 50%;\n",
              "      cursor: pointer;\n",
              "      display: none;\n",
              "      fill: #1967D2;\n",
              "      height: 32px;\n",
              "      padding: 0 0 0 0;\n",
              "      width: 32px;\n",
              "    }\n",
              "\n",
              "    .colab-df-convert:hover {\n",
              "      background-color: #E2EBFA;\n",
              "      box-shadow: 0px 1px 2px rgba(60, 64, 67, 0.3), 0px 1px 3px 1px rgba(60, 64, 67, 0.15);\n",
              "      fill: #174EA6;\n",
              "    }\n",
              "\n",
              "    [theme=dark] .colab-df-convert {\n",
              "      background-color: #3B4455;\n",
              "      fill: #D2E3FC;\n",
              "    }\n",
              "\n",
              "    [theme=dark] .colab-df-convert:hover {\n",
              "      background-color: #434B5C;\n",
              "      box-shadow: 0px 1px 3px 1px rgba(0, 0, 0, 0.15);\n",
              "      filter: drop-shadow(0px 1px 2px rgba(0, 0, 0, 0.3));\n",
              "      fill: #FFFFFF;\n",
              "    }\n",
              "  </style>\n",
              "\n",
              "      <script>\n",
              "        const buttonEl =\n",
              "          document.querySelector('#df-833b716d-493e-4082-a33a-a1e383e3778d button.colab-df-convert');\n",
              "        buttonEl.style.display =\n",
              "          google.colab.kernel.accessAllowed ? 'block' : 'none';\n",
              "\n",
              "        async function convertToInteractive(key) {\n",
              "          const element = document.querySelector('#df-833b716d-493e-4082-a33a-a1e383e3778d');\n",
              "          const dataTable =\n",
              "            await google.colab.kernel.invokeFunction('convertToInteractive',\n",
              "                                                     [key], {});\n",
              "          if (!dataTable) return;\n",
              "\n",
              "          const docLinkHtml = 'Like what you see? Visit the ' +\n",
              "            '<a target=\"_blank\" href=https://colab.research.google.com/notebooks/data_table.ipynb>data table notebook</a>'\n",
              "            + ' to learn more about interactive tables.';\n",
              "          element.innerHTML = '';\n",
              "          dataTable['output_type'] = 'display_data';\n",
              "          await google.colab.output.renderOutput(dataTable, element);\n",
              "          const docLink = document.createElement('div');\n",
              "          docLink.innerHTML = docLinkHtml;\n",
              "          element.appendChild(docLink);\n",
              "        }\n",
              "      </script>\n",
              "    </div>\n",
              "  </div>\n",
              "  "
            ]
          },
          "metadata": {},
          "execution_count": 27
        }
      ],
      "source": [
        "train_monthly.describe().T"
      ]
    },
    {
      "cell_type": "markdown",
      "metadata": {
        "id": "Vd2hMxH5rWif"
      },
      "source": [
        "## EDA"
      ]
    },
    {
      "cell_type": "code",
      "execution_count": null,
      "metadata": {
        "id": "XdZ-3KwurTLu"
      },
      "outputs": [],
      "source": [
        "# Grouping the data for EDA\n",
        "gp_month_mean = train_monthly.groupby([\"month\"], as_index=False)['item_cnt'].mean()\n",
        "gp_month_sum = train_monthly.groupby([\"month\"], as_index=False)['item_cnt'].sum()\n",
        "gp_shop_mean = train_monthly.groupby([\"shop_id\"], as_index=False)['item_cnt'].mean()\n",
        "gp_shop_sum = train_monthly.groupby([\"shop_id\"], as_index=False)['item_cnt'].sum()\n",
        "gp_category_mean = train_monthly.groupby([\"item_category_id\"], as_index=False)['item_cnt'].mean()\n",
        "gp_category_sum = train_monthly.groupby([\"item_category_id\"], as_index=False)['item_cnt'].sum()"
      ]
    },
    {
      "cell_type": "code",
      "execution_count": null,
      "metadata": {
        "colab": {
          "base_uri": "https://localhost:8080/",
          "height": 398
        },
        "id": "8nWoMXMtrtD5",
        "outputId": "c627cd6a-dc29-4405-8f1a-002d981f76eb"
      },
      "outputs": [
        {
          "output_type": "display_data",
          "data": {
            "text/plain": [
              "<Figure size 1584x720 with 2 Axes>"
            ],
            "image/png": "[encoded data removed]"
          },
          "metadata": {}
        }
      ],
      "source": [
        "f, axes = plt.subplots(2, 1, figsize=(22, 10), sharex=True)\n",
        "sns.lineplot(x=\"month\", y=\"item_cnt\", data=gp_month_mean, ax=axes[0]).set_title(\"Monthly mean\")\n",
        "sns.lineplot(x=\"month\", y=\"item_cnt\", data=gp_month_sum, ax=axes[1]).set_title(\"Monthly sum\")\n",
        "plt.show()"
      ]
    },
    {
      "cell_type": "code",
      "execution_count": null,
      "metadata": {
        "colab": {
          "base_uri": "https://localhost:8080/",
          "height": 398
        },
        "id": "hReODcIrrtKu",
        "outputId": "ee77152a-e0f0-435d-d41a-24106f747bac"
      },
      "outputs": [
        {
          "output_type": "display_data",
          "data": {
            "text/plain": [
              "<Figure size 1584x720 with 2 Axes>"
            ],
            "image/png": "[encoded data removed]"
          },
          "metadata": {}
        }
      ],
      "source": [
        "f, axes = plt.subplots(2, 1, figsize=(22, 10), sharex=True)\n",
        "sns.barplot(x=\"shop_id\", y=\"item_cnt\", data=gp_shop_mean, ax=axes[0], palette=\"rocket\").set_title(\"Items by shop mean\")\n",
        "sns.barplot(x=\"shop_id\", y=\"item_cnt\", data=gp_shop_sum, ax=axes[1], palette=\"rocket\").set_title(\"Items by shop sum\")\n",
        "plt.show()"
      ]
    },
    {
      "cell_type": "code",
      "execution_count": null,
      "metadata": {
        "colab": {
          "base_uri": "https://localhost:8080/",
          "height": 398
        },
        "id": "zyOk3OsfrtNF",
        "outputId": "ffbc7563-a5b4-40e4-9119-faaf030af5f8"
      },
      "outputs": [
        {
          "output_type": "display_data",
          "data": {
            "text/plain": [
              "<Figure size 1584x720 with 2 Axes>"
            ],
            "image/png": "[encoded data removed]"
          },
          "metadata": {}
        }
      ],
      "source": [
        "f, axes = plt.subplots(2, 1, figsize=(22, 10), sharex=True)\n",
        "sns.barplot(x=\"item_category_id\", y=\"item_cnt\", data=gp_category_mean, ax=axes[0], palette=\"rocket\").set_title(\"Items by category mean\")\n",
        "sns.barplot(x=\"item_category_id\", y=\"item_cnt\", data=gp_category_sum, ax=axes[1], palette=\"rocket\").set_title(\"Items by category sum\")\n",
        "plt.show()"
      ]
    },
    {
      "cell_type": "code",
      "execution_count": null,
      "metadata": {
        "colab": {
          "base_uri": "https://localhost:8080/",
          "height": 592
        },
        "id": "kc_a5uIsrtPO",
        "outputId": "507e1c76-a170-4c11-afe1-d5dab96c5f25"
      },
      "outputs": [
        {
          "output_type": "display_data",
          "data": {
            "text/plain": [
              "<Figure size 576x576 with 3 Axes>"
            ],
            "image/png": "[encoded data removed]"
          },
          "metadata": {}
        }
      ],
      "source": [
        "# Outliers\n",
        "sns.jointplot(x=\"item_cnt\", y=\"item_price\", data=train_monthly, height=8)\n",
        "plt.show()"
      ]
    },
    {
      "cell_type": "code",
      "execution_count": null,
      "metadata": {
        "colab": {
          "base_uri": "https://localhost:8080/",
          "height": 592
        },
        "id": "oqfjCMrSryQ-",
        "outputId": "b242c0d7-754b-4001-db2d-ddf1680f94ec"
      },
      "outputs": [
        {
          "output_type": "display_data",
          "data": {
            "text/plain": [
              "<Figure size 576x576 with 3 Axes>"
            ],
            "image/png": "[encoded data removed]"
          },
          "metadata": {}
        }
      ],
      "source": [
        "sns.jointplot(x=\"item_cnt\", y=\"num_transactions\", data=train_monthly, height=8)\n",
        "plt.show()"
      ]
    },
    {
      "cell_type": "code",
      "execution_count": null,
      "metadata": {
        "colab": {
          "base_uri": "https://localhost:8080/",
          "height": 337
        },
        "id": "fn8rV5hCr0l4",
        "outputId": "6fa68ac2-cb54-41c2-89d2-e6e6334064af"
      },
      "outputs": [
        {
          "output_type": "display_data",
          "data": {
            "text/plain": [
              "<Figure size 1584x576 with 1 Axes>"
            ],
            "image/png": "[encoded data removed]"
          },
          "metadata": {}
        }
      ],
      "source": [
        "plt.subplots(figsize=(22, 8))\n",
        "sns.boxplot(train_monthly['item_cnt'])\n",
        "plt.show()"
      ]
    },
    {
      "cell_type": "code",
      "execution_count": null,
      "metadata": {
        "id": "sQ3cEfZSr0oF"
      },
      "outputs": [],
      "source": [
        "train_monthly = train_monthly.query('item_price < 400000')"
      ]
    },
    {
      "cell_type": "code",
      "execution_count": null,
      "metadata": {
        "colab": {
          "base_uri": "https://localhost:8080/",
          "height": 592
        },
        "id": "BnYSz8HQr0qd",
        "outputId": "fc4eb01e-0083-4ae6-d606-4b1a88600860"
      },
      "outputs": [
        {
          "output_type": "display_data",
          "data": {
            "text/plain": [
              "<Figure size 576x576 with 3 Axes>"
            ],
            "image/png": "[encoded data removed]"
          },
          "metadata": {}
        }
      ],
      "source": [
        "sns.jointplot(x=\"item_cnt\", y=\"item_price\", data=train_monthly, height=8)\n",
        "plt.show()"
      ]
    },
    {
      "cell_type": "code",
      "execution_count": null,
      "metadata": {
        "id": "kajDYVFor0sp"
      },
      "outputs": [],
      "source": [
        "Q1_Y = train_monthly[\"item_cnt\"].quantile(0.25)\n"
      ]
    },
    {
      "cell_type": "code",
      "execution_count": null,
      "metadata": {
        "id": "JA4vdhawr0u4"
      },
      "outputs": [],
      "source": [
        "Q3_Y = train_monthly[\"item_cnt\"].quantile(0.75)"
      ]
    },
    {
      "cell_type": "code",
      "execution_count": null,
      "metadata": {
        "colab": {
          "base_uri": "https://localhost:8080/"
        },
        "id": "3zH_40xZr50O",
        "outputId": "e322230b-3d13-4406-ecc5-930e1df7794c"
      },
      "outputs": [
        {
          "output_type": "stream",
          "name": "stdout",
          "text": [
            "mean of the dataset is 0.24008703325905342\n",
            "std. deviation is 3.4537685156430697\n"
          ]
        }
      ],
      "source": [
        "mean = train_monthly[\"item_cnt\"].mean()\n",
        "std = train_monthly[\"item_cnt\"].std()\n",
        "print('mean of the dataset is', mean)\n",
        "print('std. deviation is', std)\n"
      ]
    },
    {
      "cell_type": "code",
      "execution_count": null,
      "metadata": {
        "id": "uPrt4gyar52X"
      },
      "outputs": [],
      "source": [
        "threshold = 5\n",
        "outlier = []\n",
        "for index, values in train_monthly[\"item_cnt\"].items():\n",
        "    z = (values-mean)/std\n",
        "    if z > threshold:\n",
        "        outlier.append(values)"
      ]
    },
    {
      "cell_type": "code",
      "execution_count": null,
      "metadata": {
        "colab": {
          "base_uri": "https://localhost:8080/"
        },
        "id": "jjuPILJZr9u_",
        "outputId": "b773f168-c219-4d27-a256-848e33f51c41"
      },
      "outputs": [
        {
          "output_type": "execute_result",
          "data": {
            "text/plain": [
              "7728"
            ]
          },
          "metadata": {},
          "execution_count": 41
        }
      ],
      "source": [
        "len(outlier)"
      ]
    },
    {
      "cell_type": "code",
      "execution_count": null,
      "metadata": {
        "colab": {
          "base_uri": "https://localhost:8080/"
        },
        "id": "VHudv1Ttr54e",
        "outputId": "0bf20ba2-4188-4af6-a255-e1af6cc9d0bb"
      },
      "outputs": [
        {
          "output_type": "execute_result",
          "data": {
            "text/plain": [
              "0         9.00\n",
              "1         0.00\n",
              "2         2.00\n",
              "3         3.00\n",
              "4         1.00\n",
              "          ... \n",
              "6734443   0.00\n",
              "6734444   0.00\n",
              "6734445   0.00\n",
              "6734446   0.00\n",
              "6734447   0.00\n",
              "Name: item_cnt, Length: 6734437, dtype: float64"
            ]
          },
          "metadata": {},
          "execution_count": 42
        }
      ],
      "source": [
        "train_monthly[\"item_cnt\"]"
      ]
    },
    {
      "cell_type": "code",
      "execution_count": null,
      "metadata": {
        "colab": {
          "base_uri": "https://localhost:8080/"
        },
        "id": "JPIOnw_ur56m",
        "outputId": "802daea0-9a07-4136-837a-316a67467462"
      },
      "outputs": [
        {
          "output_type": "execute_result",
          "data": {
            "text/plain": [
              "18.0"
            ]
          },
          "metadata": {},
          "execution_count": 43
        }
      ],
      "source": [
        "min(outlier)"
      ]
    },
    {
      "cell_type": "code",
      "execution_count": null,
      "metadata": {
        "colab": {
          "base_uri": "https://localhost:8080/"
        },
        "id": "ne1Zs3szr58t",
        "outputId": "7d768fcd-797d-4bbd-c5a0-50b61d868da6"
      },
      "outputs": [
        {
          "output_type": "execute_result",
          "data": {
            "text/plain": [
              "2253.0"
            ]
          },
          "metadata": {},
          "execution_count": 44
        }
      ],
      "source": [
        "max(outlier)"
      ]
    },
    {
      "cell_type": "code",
      "execution_count": null,
      "metadata": {
        "id": "tBhwyCIvr5_R"
      },
      "outputs": [],
      "source": [
        "# We will remove all data lower than 0 and higher than 18\n",
        "train_monthly = train_monthly.query('item_cnt >= 0 and item_cnt <= 18')"
      ]
    },
    {
      "cell_type": "code",
      "execution_count": null,
      "metadata": {
        "colab": {
          "base_uri": "https://localhost:8080/",
          "height": 394
        },
        "id": "NgRFy8zWsAup",
        "outputId": "3068bdec-7d6f-44c7-92e7-acded2e65545"
      },
      "outputs": [
        {
          "output_type": "execute_result",
          "data": {
            "text/plain": [
              "                      count     mean     std     min     25%      50%  \\\n",
              "date_block_num   6727085.00    16.50    9.81    0.00    8.00    16.00   \n",
              "shop_id          6727085.00    31.64   17.56    2.00   16.00    35.00   \n",
              "item_id          6727085.00 11043.33 6209.65   30.00 5386.00 11266.00   \n",
              "item_category_id 6727085.00    46.23   16.69    2.00   37.00    43.00   \n",
              "item_price       6727085.00   167.02 1727.64    0.00    0.00     0.00   \n",
              "mean_item_price  6727085.00    79.48  520.97    0.00    0.00     0.00   \n",
              "item_cnt         6727085.00     0.18    0.88    0.00    0.00     0.00   \n",
              "mean_item_cnt    6727085.00     0.09    0.31    0.00    0.00     0.00   \n",
              "num_transactions 6727085.00     0.17    0.73    0.00    0.00     0.00   \n",
              "year             6727085.00  2013.94    0.80 2013.00 2013.00  2014.00   \n",
              "month            6727085.00     6.20    3.32    1.00    3.00     6.00   \n",
              "\n",
              "                      75%       max  \n",
              "date_block_num      25.00     33.00  \n",
              "shop_id             47.00     59.00  \n",
              "item_id          16068.00  22167.00  \n",
              "item_category_id    58.00     83.00  \n",
              "item_price           0.00 364860.00  \n",
              "mean_item_price      0.00  42990.00  \n",
              "item_cnt             0.00     18.00  \n",
              "mean_item_cnt        0.00     18.00  \n",
              "num_transactions     0.00     18.00  \n",
              "year              2015.00   2015.00  \n",
              "month                9.00     12.00  "
            ],
            "text/html": [
              "\n",
              "  <div id=\"df-9070656d-1039-40d4-b116-da03dc26b3c7\">\n",
              "    <div class=\"colab-df-container\">\n",
              "      <div>\n",
              "<style scoped>\n",
              "    .dataframe tbody tr th:only-of-type {\n",
              "        vertical-align: middle;\n",
              "    }\n",
              "\n",
              "    .dataframe tbody tr th {\n",
              "        vertical-align: top;\n",
              "    }\n",
              "\n",
              "    .dataframe thead th {\n",
              "        text-align: right;\n",
              "    }\n",
              "</style>\n",
              "<table border=\"1\" class=\"dataframe\">\n",
              "  <thead>\n",
              "    <tr style=\"text-align: right;\">\n",
              "      <th></th>\n",
              "      <th>count</th>\n",
              "      <th>mean</th>\n",
              "      <th>std</th>\n",
              "      <th>min</th>\n",
              "      <th>25%</th>\n",
              "      <th>50%</th>\n",
              "      <th>75%</th>\n",
              "      <th>max</th>\n",
              "    </tr>\n",
              "  </thead>\n",
              "  <tbody>\n",
              "    <tr>\n",
              "      <th>date_block_num</th>\n",
              "      <td>6727085.00</td>\n",
              "      <td>16.50</td>\n",
              "      <td>9.81</td>\n",
              "      <td>0.00</td>\n",
              "      <td>8.00</td>\n",
              "      <td>16.00</td>\n",
              "      <td>25.00</td>\n",
              "      <td>33.00</td>\n",
              "    </tr>\n",
              "    <tr>\n",
              "      <th>shop_id</th>\n",
              "      <td>6727085.00</td>\n",
              "      <td>31.64</td>\n",
              "      <td>17.56</td>\n",
              "      <td>2.00</td>\n",
              "      <td>16.00</td>\n",
              "      <td>35.00</td>\n",
              "      <td>47.00</td>\n",
              "      <td>59.00</td>\n",
              "    </tr>\n",
              "    <tr>\n",
              "      <th>item_id</th>\n",
              "      <td>6727085.00</td>\n",
              "      <td>11043.33</td>\n",
              "      <td>6209.65</td>\n",
              "      <td>30.00</td>\n",
              "      <td>5386.00</td>\n",
              "      <td>11266.00</td>\n",
              "      <td>16068.00</td>\n",
              "      <td>22167.00</td>\n",
              "    </tr>\n",
              "    <tr>\n",
              "      <th>item_category_id</th>\n",
              "      <td>6727085.00</td>\n",
              "      <td>46.23</td>\n",
              "      <td>16.69</td>\n",
              "      <td>2.00</td>\n",
              "      <td>37.00</td>\n",
              "      <td>43.00</td>\n",
              "      <td>58.00</td>\n",
              "      <td>83.00</td>\n",
              "    </tr>\n",
              "    <tr>\n",
              "      <th>item_price</th>\n",
              "      <td>6727085.00</td>\n",
              "      <td>167.02</td>\n",
              "      <td>1727.64</td>\n",
              "      <td>0.00</td>\n",
              "      <td>0.00</td>\n",
              "      <td>0.00</td>\n",
              "      <td>0.00</td>\n",
              "      <td>364860.00</td>\n",
              "    </tr>\n",
              "    <tr>\n",
              "      <th>mean_item_price</th>\n",
              "      <td>6727085.00</td>\n",
              "      <td>79.48</td>\n",
              "      <td>520.97</td>\n",
              "      <td>0.00</td>\n",
              "      <td>0.00</td>\n",
              "      <td>0.00</td>\n",
              "      <td>0.00</td>\n",
              "      <td>42990.00</td>\n",
              "    </tr>\n",
              "    <tr>\n",
              "      <th>item_cnt</th>\n",
              "      <td>6727085.00</td>\n",
              "      <td>0.18</td>\n",
              "      <td>0.88</td>\n",
              "      <td>0.00</td>\n",
              "      <td>0.00</td>\n",
              "      <td>0.00</td>\n",
              "      <td>0.00</td>\n",
              "      <td>18.00</td>\n",
              "    </tr>\n",
              "    <tr>\n",
              "      <th>mean_item_cnt</th>\n",
              "      <td>6727085.00</td>\n",
              "      <td>0.09</td>\n",
              "      <td>0.31</td>\n",
              "      <td>0.00</td>\n",
              "      <td>0.00</td>\n",
              "      <td>0.00</td>\n",
              "      <td>0.00</td>\n",
              "      <td>18.00</td>\n",
              "    </tr>\n",
              "    <tr>\n",
              "      <th>num_transactions</th>\n",
              "      <td>6727085.00</td>\n",
              "      <td>0.17</td>\n",
              "      <td>0.73</td>\n",
              "      <td>0.00</td>\n",
              "      <td>0.00</td>\n",
              "      <td>0.00</td>\n",
              "      <td>0.00</td>\n",
              "      <td>18.00</td>\n",
              "    </tr>\n",
              "    <tr>\n",
              "      <th>year</th>\n",
              "      <td>6727085.00</td>\n",
              "      <td>2013.94</td>\n",
              "      <td>0.80</td>\n",
              "      <td>2013.00</td>\n",
              "      <td>2013.00</td>\n",
              "      <td>2014.00</td>\n",
              "      <td>2015.00</td>\n",
              "      <td>2015.00</td>\n",
              "    </tr>\n",
              "    <tr>\n",
              "      <th>month</th>\n",
              "      <td>6727085.00</td>\n",
              "      <td>6.20</td>\n",
              "      <td>3.32</td>\n",
              "      <td>1.00</td>\n",
              "      <td>3.00</td>\n",
              "      <td>6.00</td>\n",
              "      <td>9.00</td>\n",
              "      <td>12.00</td>\n",
              "    </tr>\n",
              "  </tbody>\n",
              "</table>\n",
              "</div>\n",
              "      <button class=\"colab-df-convert\" onclick=\"convertToInteractive('df-9070656d-1039-40d4-b116-da03dc26b3c7')\"\n",
              "              title=\"Convert this dataframe to an interactive table.\"\n",
              "              style=\"display:none;\">\n",
              "        \n",
              "  <svg xmlns=\"http://www.w3.org/2000/svg\" height=\"24px\"viewBox=\"0 0 24 24\"\n",
              "       width=\"24px\">\n",
              "    <path d=\"M0 0h24v24H0V0z\" fill=\"none\"/>\n",
              "    <path d=\"M18.56 5.44l.94 2.06.94-2.06 2.06-.94-2.06-.94-.94-2.06-.94 2.06-2.06.94zm-11 1L8.5 8.5l.94-2.06 2.06-.94-2.06-.94L8.5 2.5l-.94 2.06-2.06.94zm10 10l.94 2.06.94-2.06 2.06-.94-2.06-.94-.94-2.06-.94 2.06-2.06.94z\"/><path d=\"M17.41 7.96l-1.37-1.37c-.4-.4-.92-.59-1.43-.59-.52 0-1.04.2-1.43.59L10.3 9.45l-7.72 7.72c-.78.78-.78 2.05 0 2.83L4 21.41c.39.39.9.59 1.41.59.51 0 1.02-.2 1.41-.59l7.78-7.78 2.81-2.81c.8-.78.8-2.07 0-2.86zM5.41 20L4 18.59l7.72-7.72 1.47 1.35L5.41 20z\"/>\n",
              "  </svg>\n",
              "      </button>\n",
              "      \n",
              "  <style>\n",
              "    .colab-df-container {\n",
              "      display:flex;\n",
              "      flex-wrap:wrap;\n",
              "      gap: 12px;\n",
              "    }\n",
              "\n",
              "    .colab-df-convert {\n",
              "      background-color: #E8F0FE;\n",
              "      border: none;\n",
              "      border-radius: 50%;\n",
              "      cursor: pointer;\n",
              "      display: none;\n",
              "      fill: #1967D2;\n",
              "      height: 32px;\n",
              "      padding: 0 0 0 0;\n",
              "      width: 32px;\n",
              "    }\n",
              "\n",
              "    .colab-df-convert:hover {\n",
              "      background-color: #E2EBFA;\n",
              "      box-shadow: 0px 1px 2px rgba(60, 64, 67, 0.3), 0px 1px 3px 1px rgba(60, 64, 67, 0.15);\n",
              "      fill: #174EA6;\n",
              "    }\n",
              "\n",
              "    [theme=dark] .colab-df-convert {\n",
              "      background-color: #3B4455;\n",
              "      fill: #D2E3FC;\n",
              "    }\n",
              "\n",
              "    [theme=dark] .colab-df-convert:hover {\n",
              "      background-color: #434B5C;\n",
              "      box-shadow: 0px 1px 3px 1px rgba(0, 0, 0, 0.15);\n",
              "      filter: drop-shadow(0px 1px 2px rgba(0, 0, 0, 0.3));\n",
              "      fill: #FFFFFF;\n",
              "    }\n",
              "  </style>\n",
              "\n",
              "      <script>\n",
              "        const buttonEl =\n",
              "          document.querySelector('#df-9070656d-1039-40d4-b116-da03dc26b3c7 button.colab-df-convert');\n",
              "        buttonEl.style.display =\n",
              "          google.colab.kernel.accessAllowed ? 'block' : 'none';\n",
              "\n",
              "        async function convertToInteractive(key) {\n",
              "          const element = document.querySelector('#df-9070656d-1039-40d4-b116-da03dc26b3c7');\n",
              "          const dataTable =\n",
              "            await google.colab.kernel.invokeFunction('convertToInteractive',\n",
              "                                                     [key], {});\n",
              "          if (!dataTable) return;\n",
              "\n",
              "          const docLinkHtml = 'Like what you see? Visit the ' +\n",
              "            '<a target=\"_blank\" href=https://colab.research.google.com/notebooks/data_table.ipynb>data table notebook</a>'\n",
              "            + ' to learn more about interactive tables.';\n",
              "          element.innerHTML = '';\n",
              "          dataTable['output_type'] = 'display_data';\n",
              "          await google.colab.output.renderOutput(dataTable, element);\n",
              "          const docLink = document.createElement('div');\n",
              "          docLink.innerHTML = docLinkHtml;\n",
              "          element.appendChild(docLink);\n",
              "        }\n",
              "      </script>\n",
              "    </div>\n",
              "  </div>\n",
              "  "
            ]
          },
          "metadata": {},
          "execution_count": 46
        }
      ],
      "source": [
        "train_monthly.describe().T"
      ]
    },
    {
      "cell_type": "markdown",
      "metadata": {
        "id": "Qj-GPHZusEuf"
      },
      "source": [
        "## Feature Engineering"
      ]
    },
    {
      "cell_type": "code",
      "execution_count": null,
      "metadata": {
        "id": "ca7CxsEesA-6"
      },
      "outputs": [],
      "source": [
        "# Forecasting problem\n",
        "train_monthly['item_cnt_month'] = train_monthly.sort_values('date_block_num').groupby(['shop_id', 'item_id'])['item_cnt'].shift(-1)"
      ]
    },
    {
      "cell_type": "code",
      "execution_count": null,
      "metadata": {
        "colab": {
          "base_uri": "https://localhost:8080/",
          "height": 425
        },
        "id": "XjdOtD9tsBBW",
        "outputId": "0a04bb64-c732-4865-d027-9dda858c21ad"
      },
      "outputs": [
        {
          "output_type": "execute_result",
          "data": {
            "text/plain": [
              "                      count     mean     std     min     25%      50%  \\\n",
              "date_block_num   6727085.00    16.50    9.81    0.00    8.00    16.00   \n",
              "shop_id          6727085.00    31.64   17.56    2.00   16.00    35.00   \n",
              "item_id          6727085.00 11043.33 6209.65   30.00 5386.00 11266.00   \n",
              "item_category_id 6727085.00    46.23   16.69    2.00   37.00    43.00   \n",
              "item_price       6727085.00   167.02 1727.64    0.00    0.00     0.00   \n",
              "mean_item_price  6727085.00    79.48  520.97    0.00    0.00     0.00   \n",
              "item_cnt         6727085.00     0.18    0.88    0.00    0.00     0.00   \n",
              "mean_item_cnt    6727085.00     0.09    0.31    0.00    0.00     0.00   \n",
              "num_transactions 6727085.00     0.17    0.73    0.00    0.00     0.00   \n",
              "year             6727085.00  2013.94    0.80 2013.00 2013.00  2014.00   \n",
              "month            6727085.00     6.20    3.32    1.00    3.00     6.00   \n",
              "item_cnt_month   6529014.00     0.18    0.88    0.00    0.00     0.00   \n",
              "\n",
              "                      75%       max  \n",
              "date_block_num      25.00     33.00  \n",
              "shop_id             47.00     59.00  \n",
              "item_id          16068.00  22167.00  \n",
              "item_category_id    58.00     83.00  \n",
              "item_price           0.00 364860.00  \n",
              "mean_item_price      0.00  42990.00  \n",
              "item_cnt             0.00     18.00  \n",
              "mean_item_cnt        0.00     18.00  \n",
              "num_transactions     0.00     18.00  \n",
              "year              2015.00   2015.00  \n",
              "month                9.00     12.00  \n",
              "item_cnt_month       0.00     18.00  "
            ],
            "text/html": [
              "\n",
              "  <div id=\"df-bc973062-b910-4a77-8af1-34006eb2fb3e\">\n",
              "    <div class=\"colab-df-container\">\n",
              "      <div>\n",
              "<style scoped>\n",
              "    .dataframe tbody tr th:only-of-type {\n",
              "        vertical-align: middle;\n",
              "    }\n",
              "\n",
              "    .dataframe tbody tr th {\n",
              "        vertical-align: top;\n",
              "    }\n",
              "\n",
              "    .dataframe thead th {\n",
              "        text-align: right;\n",
              "    }\n",
              "</style>\n",
              "<table border=\"1\" class=\"dataframe\">\n",
              "  <thead>\n",
              "    <tr style=\"text-align: right;\">\n",
              "      <th></th>\n",
              "      <th>count</th>\n",
              "      <th>mean</th>\n",
              "      <th>std</th>\n",
              "      <th>min</th>\n",
              "      <th>25%</th>\n",
              "      <th>50%</th>\n",
              "      <th>75%</th>\n",
              "      <th>max</th>\n",
              "    </tr>\n",
              "  </thead>\n",
              "  <tbody>\n",
              "    <tr>\n",
              "      <th>date_block_num</th>\n",
              "      <td>6727085.00</td>\n",
              "      <td>16.50</td>\n",
              "      <td>9.81</td>\n",
              "      <td>0.00</td>\n",
              "      <td>8.00</td>\n",
              "      <td>16.00</td>\n",
              "      <td>25.00</td>\n",
              "      <td>33.00</td>\n",
              "    </tr>\n",
              "    <tr>\n",
              "      <th>shop_id</th>\n",
              "      <td>6727085.00</td>\n",
              "      <td>31.64</td>\n",
              "      <td>17.56</td>\n",
              "      <td>2.00</td>\n",
              "      <td>16.00</td>\n",
              "      <td>35.00</td>\n",
              "      <td>47.00</td>\n",
              "      <td>59.00</td>\n",
              "    </tr>\n",
              "    <tr>\n",
              "      <th>item_id</th>\n",
              "      <td>6727085.00</td>\n",
              "      <td>11043.33</td>\n",
              "      <td>6209.65</td>\n",
              "      <td>30.00</td>\n",
              "      <td>5386.00</td>\n",
              "      <td>11266.00</td>\n",
              "      <td>16068.00</td>\n",
              "      <td>22167.00</td>\n",
              "    </tr>\n",
              "    <tr>\n",
              "      <th>item_category_id</th>\n",
              "      <td>6727085.00</td>\n",
              "      <td>46.23</td>\n",
              "      <td>16.69</td>\n",
              "      <td>2.00</td>\n",
              "      <td>37.00</td>\n",
              "      <td>43.00</td>\n",
              "      <td>58.00</td>\n",
              "      <td>83.00</td>\n",
              "    </tr>\n",
              "    <tr>\n",
              "      <th>item_price</th>\n",
              "      <td>6727085.00</td>\n",
              "      <td>167.02</td>\n",
              "      <td>1727.64</td>\n",
              "      <td>0.00</td>\n",
              "      <td>0.00</td>\n",
              "      <td>0.00</td>\n",
              "      <td>0.00</td>\n",
              "      <td>364860.00</td>\n",
              "    </tr>\n",
              "    <tr>\n",
              "      <th>mean_item_price</th>\n",
              "      <td>6727085.00</td>\n",
              "      <td>79.48</td>\n",
              "      <td>520.97</td>\n",
              "      <td>0.00</td>\n",
              "      <td>0.00</td>\n",
              "      <td>0.00</td>\n",
              "      <td>0.00</td>\n",
              "      <td>42990.00</td>\n",
              "    </tr>\n",
              "    <tr>\n",
              "      <th>item_cnt</th>\n",
              "      <td>6727085.00</td>\n",
              "      <td>0.18</td>\n",
              "      <td>0.88</td>\n",
              "      <td>0.00</td>\n",
              "      <td>0.00</td>\n",
              "      <td>0.00</td>\n",
              "      <td>0.00</td>\n",
              "      <td>18.00</td>\n",
              "    </tr>\n",
              "    <tr>\n",
              "      <th>mean_item_cnt</th>\n",
              "      <td>6727085.00</td>\n",
              "      <td>0.09</td>\n",
              "      <td>0.31</td>\n",
              "      <td>0.00</td>\n",
              "      <td>0.00</td>\n",
              "      <td>0.00</td>\n",
              "      <td>0.00</td>\n",
              "      <td>18.00</td>\n",
              "    </tr>\n",
              "    <tr>\n",
              "      <th>num_transactions</th>\n",
              "      <td>6727085.00</td>\n",
              "      <td>0.17</td>\n",
              "      <td>0.73</td>\n",
              "      <td>0.00</td>\n",
              "      <td>0.00</td>\n",
              "      <td>0.00</td>\n",
              "      <td>0.00</td>\n",
              "      <td>18.00</td>\n",
              "    </tr>\n",
              "    <tr>\n",
              "      <th>year</th>\n",
              "      <td>6727085.00</td>\n",
              "      <td>2013.94</td>\n",
              "      <td>0.80</td>\n",
              "      <td>2013.00</td>\n",
              "      <td>2013.00</td>\n",
              "      <td>2014.00</td>\n",
              "      <td>2015.00</td>\n",
              "      <td>2015.00</td>\n",
              "    </tr>\n",
              "    <tr>\n",
              "      <th>month</th>\n",
              "      <td>6727085.00</td>\n",
              "      <td>6.20</td>\n",
              "      <td>3.32</td>\n",
              "      <td>1.00</td>\n",
              "      <td>3.00</td>\n",
              "      <td>6.00</td>\n",
              "      <td>9.00</td>\n",
              "      <td>12.00</td>\n",
              "    </tr>\n",
              "    <tr>\n",
              "      <th>item_cnt_month</th>\n",
              "      <td>6529014.00</td>\n",
              "      <td>0.18</td>\n",
              "      <td>0.88</td>\n",
              "      <td>0.00</td>\n",
              "      <td>0.00</td>\n",
              "      <td>0.00</td>\n",
              "      <td>0.00</td>\n",
              "      <td>18.00</td>\n",
              "    </tr>\n",
              "  </tbody>\n",
              "</table>\n",
              "</div>\n",
              "      <button class=\"colab-df-convert\" onclick=\"convertToInteractive('df-bc973062-b910-4a77-8af1-34006eb2fb3e')\"\n",
              "              title=\"Convert this dataframe to an interactive table.\"\n",
              "              style=\"display:none;\">\n",
              "        \n",
              "  <svg xmlns=\"http://www.w3.org/2000/svg\" height=\"24px\"viewBox=\"0 0 24 24\"\n",
              "       width=\"24px\">\n",
              "    <path d=\"M0 0h24v24H0V0z\" fill=\"none\"/>\n",
              "    <path d=\"M18.56 5.44l.94 2.06.94-2.06 2.06-.94-2.06-.94-.94-2.06-.94 2.06-2.06.94zm-11 1L8.5 8.5l.94-2.06 2.06-.94-2.06-.94L8.5 2.5l-.94 2.06-2.06.94zm10 10l.94 2.06.94-2.06 2.06-.94-2.06-.94-.94-2.06-.94 2.06-2.06.94z\"/><path d=\"M17.41 7.96l-1.37-1.37c-.4-.4-.92-.59-1.43-.59-.52 0-1.04.2-1.43.59L10.3 9.45l-7.72 7.72c-.78.78-.78 2.05 0 2.83L4 21.41c.39.39.9.59 1.41.59.51 0 1.02-.2 1.41-.59l7.78-7.78 2.81-2.81c.8-.78.8-2.07 0-2.86zM5.41 20L4 18.59l7.72-7.72 1.47 1.35L5.41 20z\"/>\n",
              "  </svg>\n",
              "      </button>\n",
              "      \n",
              "  <style>\n",
              "    .colab-df-container {\n",
              "      display:flex;\n",
              "      flex-wrap:wrap;\n",
              "      gap: 12px;\n",
              "    }\n",
              "\n",
              "    .colab-df-convert {\n",
              "      background-color: #E8F0FE;\n",
              "      border: none;\n",
              "      border-radius: 50%;\n",
              "      cursor: pointer;\n",
              "      display: none;\n",
              "      fill: #1967D2;\n",
              "      height: 32px;\n",
              "      padding: 0 0 0 0;\n",
              "      width: 32px;\n",
              "    }\n",
              "\n",
              "    .colab-df-convert:hover {\n",
              "      background-color: #E2EBFA;\n",
              "      box-shadow: 0px 1px 2px rgba(60, 64, 67, 0.3), 0px 1px 3px 1px rgba(60, 64, 67, 0.15);\n",
              "      fill: #174EA6;\n",
              "    }\n",
              "\n",
              "    [theme=dark] .colab-df-convert {\n",
              "      background-color: #3B4455;\n",
              "      fill: #D2E3FC;\n",
              "    }\n",
              "\n",
              "    [theme=dark] .colab-df-convert:hover {\n",
              "      background-color: #434B5C;\n",
              "      box-shadow: 0px 1px 3px 1px rgba(0, 0, 0, 0.15);\n",
              "      filter: drop-shadow(0px 1px 2px rgba(0, 0, 0, 0.3));\n",
              "      fill: #FFFFFF;\n",
              "    }\n",
              "  </style>\n",
              "\n",
              "      <script>\n",
              "        const buttonEl =\n",
              "          document.querySelector('#df-bc973062-b910-4a77-8af1-34006eb2fb3e button.colab-df-convert');\n",
              "        buttonEl.style.display =\n",
              "          google.colab.kernel.accessAllowed ? 'block' : 'none';\n",
              "\n",
              "        async function convertToInteractive(key) {\n",
              "          const element = document.querySelector('#df-bc973062-b910-4a77-8af1-34006eb2fb3e');\n",
              "          const dataTable =\n",
              "            await google.colab.kernel.invokeFunction('convertToInteractive',\n",
              "                                                     [key], {});\n",
              "          if (!dataTable) return;\n",
              "\n",
              "          const docLinkHtml = 'Like what you see? Visit the ' +\n",
              "            '<a target=\"_blank\" href=https://colab.research.google.com/notebooks/data_table.ipynb>data table notebook</a>'\n",
              "            + ' to learn more about interactive tables.';\n",
              "          element.innerHTML = '';\n",
              "          dataTable['output_type'] = 'display_data';\n",
              "          await google.colab.output.renderOutput(dataTable, element);\n",
              "          const docLink = document.createElement('div');\n",
              "          docLink.innerHTML = docLinkHtml;\n",
              "          element.appendChild(docLink);\n",
              "        }\n",
              "      </script>\n",
              "    </div>\n",
              "  </div>\n",
              "  "
            ]
          },
          "metadata": {},
          "execution_count": 48
        }
      ],
      "source": [
        "train_monthly.describe().T"
      ]
    },
    {
      "cell_type": "code",
      "execution_count": null,
      "metadata": {
        "id": "uXmoL65CsBDO"
      },
      "outputs": [],
      "source": [
        "# Price by unit and minimum/maximum prices\n",
        "train_monthly[\"item_price_unit\"] = train_monthly[\"item_price\"] / train_monthly[\"item_cnt\"]\n",
        "train_monthly[\"item_price_unit\"].replace([np.inf, -np.inf], np.nan, inplace=True)\n",
        "train_monthly[\"item_price_unit\"].fillna(0, inplace=True)\n",
        "\n",
        "gp_item_price = train_monthly.sort_values('date_block_num').groupby(['item_id'], as_index=False).agg({'item_price':[np.min, np.max]})\n",
        "gp_item_price.columns = ['item_id', 'hist_min_item_price', 'hist_max_item_price']\n",
        "train_monthly = pd.merge(train_monthly, gp_item_price, on=\"item_id\", how=\"left\")"
      ]
    },
    {
      "cell_type": "code",
      "execution_count": null,
      "metadata": {
        "colab": {
          "base_uri": "https://localhost:8080/",
          "height": 519
        },
        "id": "i-paxv-PsBFf",
        "outputId": "3f69a5d3-f4ee-4d7b-f22b-e237f7225e82"
      },
      "outputs": [
        {
          "output_type": "execute_result",
          "data": {
            "text/plain": [
              "                           0        1       2        3        4\n",
              "date_block_num          0.00     0.00    0.00     0.00     0.00\n",
              "shop_id                 2.00     2.00    2.00     2.00     2.00\n",
              "item_id              5572.00  5643.00 5583.00  7893.00  7894.00\n",
              "item_category_id        2.00     2.00    5.00     6.00     6.00\n",
              "item_price          10730.00  4775.21 1188.30  5970.00  1490.00\n",
              "mean_item_price      1532.86  2387.60  594.15  1990.00  1490.00\n",
              "item_cnt                9.00     0.00    2.00     3.00     1.00\n",
              "mean_item_cnt           1.29     0.00    1.00     1.00     1.00\n",
              "num_transactions        7.00     2.00    2.00     3.00     1.00\n",
              "year                 2013.00  2013.00 2013.00  2013.00  2013.00\n",
              "month                   1.00     1.00    1.00     1.00     1.00\n",
              "item_cnt_month          1.00     0.00    1.00     2.00     2.00\n",
              "item_price_unit      1192.22     0.00  594.15  1990.00  1490.00\n",
              "hist_min_item_price     0.00     0.00    0.00     0.00     0.00\n",
              "hist_max_item_price 18979.50 30180.00 5592.00 27950.00 25880.00"
            ],
            "text/html": [
              "\n",
              "  <div id=\"df-cba29c7b-99e8-4e7f-aa9c-f6acfa57786d\">\n",
              "    <div class=\"colab-df-container\">\n",
              "      <div>\n",
              "<style scoped>\n",
              "    .dataframe tbody tr th:only-of-type {\n",
              "        vertical-align: middle;\n",
              "    }\n",
              "\n",
              "    .dataframe tbody tr th {\n",
              "        vertical-align: top;\n",
              "    }\n",
              "\n",
              "    .dataframe thead th {\n",
              "        text-align: right;\n",
              "    }\n",
              "</style>\n",
              "<table border=\"1\" class=\"dataframe\">\n",
              "  <thead>\n",
              "    <tr style=\"text-align: right;\">\n",
              "      <th></th>\n",
              "      <th>0</th>\n",
              "      <th>1</th>\n",
              "      <th>2</th>\n",
              "      <th>3</th>\n",
              "      <th>4</th>\n",
              "    </tr>\n",
              "  </thead>\n",
              "  <tbody>\n",
              "    <tr>\n",
              "      <th>date_block_num</th>\n",
              "      <td>0.00</td>\n",
              "      <td>0.00</td>\n",
              "      <td>0.00</td>\n",
              "      <td>0.00</td>\n",
              "      <td>0.00</td>\n",
              "    </tr>\n",
              "    <tr>\n",
              "      <th>shop_id</th>\n",
              "      <td>2.00</td>\n",
              "      <td>2.00</td>\n",
              "      <td>2.00</td>\n",
              "      <td>2.00</td>\n",
              "      <td>2.00</td>\n",
              "    </tr>\n",
              "    <tr>\n",
              "      <th>item_id</th>\n",
              "      <td>5572.00</td>\n",
              "      <td>5643.00</td>\n",
              "      <td>5583.00</td>\n",
              "      <td>7893.00</td>\n",
              "      <td>7894.00</td>\n",
              "    </tr>\n",
              "    <tr>\n",
              "      <th>item_category_id</th>\n",
              "      <td>2.00</td>\n",
              "      <td>2.00</td>\n",
              "      <td>5.00</td>\n",
              "      <td>6.00</td>\n",
              "      <td>6.00</td>\n",
              "    </tr>\n",
              "    <tr>\n",
              "      <th>item_price</th>\n",
              "      <td>10730.00</td>\n",
              "      <td>4775.21</td>\n",
              "      <td>1188.30</td>\n",
              "      <td>5970.00</td>\n",
              "      <td>1490.00</td>\n",
              "    </tr>\n",
              "    <tr>\n",
              "      <th>mean_item_price</th>\n",
              "      <td>1532.86</td>\n",
              "      <td>2387.60</td>\n",
              "      <td>594.15</td>\n",
              "      <td>1990.00</td>\n",
              "      <td>1490.00</td>\n",
              "    </tr>\n",
              "    <tr>\n",
              "      <th>item_cnt</th>\n",
              "      <td>9.00</td>\n",
              "      <td>0.00</td>\n",
              "      <td>2.00</td>\n",
              "      <td>3.00</td>\n",
              "      <td>1.00</td>\n",
              "    </tr>\n",
              "    <tr>\n",
              "      <th>mean_item_cnt</th>\n",
              "      <td>1.29</td>\n",
              "      <td>0.00</td>\n",
              "      <td>1.00</td>\n",
              "      <td>1.00</td>\n",
              "      <td>1.00</td>\n",
              "    </tr>\n",
              "    <tr>\n",
              "      <th>num_transactions</th>\n",
              "      <td>7.00</td>\n",
              "      <td>2.00</td>\n",
              "      <td>2.00</td>\n",
              "      <td>3.00</td>\n",
              "      <td>1.00</td>\n",
              "    </tr>\n",
              "    <tr>\n",
              "      <th>year</th>\n",
              "      <td>2013.00</td>\n",
              "      <td>2013.00</td>\n",
              "      <td>2013.00</td>\n",
              "      <td>2013.00</td>\n",
              "      <td>2013.00</td>\n",
              "    </tr>\n",
              "    <tr>\n",
              "      <th>month</th>\n",
              "      <td>1.00</td>\n",
              "      <td>1.00</td>\n",
              "      <td>1.00</td>\n",
              "      <td>1.00</td>\n",
              "      <td>1.00</td>\n",
              "    </tr>\n",
              "    <tr>\n",
              "      <th>item_cnt_month</th>\n",
              "      <td>1.00</td>\n",
              "      <td>0.00</td>\n",
              "      <td>1.00</td>\n",
              "      <td>2.00</td>\n",
              "      <td>2.00</td>\n",
              "    </tr>\n",
              "    <tr>\n",
              "      <th>item_price_unit</th>\n",
              "      <td>1192.22</td>\n",
              "      <td>0.00</td>\n",
              "      <td>594.15</td>\n",
              "      <td>1990.00</td>\n",
              "      <td>1490.00</td>\n",
              "    </tr>\n",
              "    <tr>\n",
              "      <th>hist_min_item_price</th>\n",
              "      <td>0.00</td>\n",
              "      <td>0.00</td>\n",
              "      <td>0.00</td>\n",
              "      <td>0.00</td>\n",
              "      <td>0.00</td>\n",
              "    </tr>\n",
              "    <tr>\n",
              "      <th>hist_max_item_price</th>\n",
              "      <td>18979.50</td>\n",
              "      <td>30180.00</td>\n",
              "      <td>5592.00</td>\n",
              "      <td>27950.00</td>\n",
              "      <td>25880.00</td>\n",
              "    </tr>\n",
              "  </tbody>\n",
              "</table>\n",
              "</div>\n",
              "      <button class=\"colab-df-convert\" onclick=\"convertToInteractive('df-cba29c7b-99e8-4e7f-aa9c-f6acfa57786d')\"\n",
              "              title=\"Convert this dataframe to an interactive table.\"\n",
              "              style=\"display:none;\">\n",
              "        \n",
              "  <svg xmlns=\"http://www.w3.org/2000/svg\" height=\"24px\"viewBox=\"0 0 24 24\"\n",
              "       width=\"24px\">\n",
              "    <path d=\"M0 0h24v24H0V0z\" fill=\"none\"/>\n",
              "    <path d=\"M18.56 5.44l.94 2.06.94-2.06 2.06-.94-2.06-.94-.94-2.06-.94 2.06-2.06.94zm-11 1L8.5 8.5l.94-2.06 2.06-.94-2.06-.94L8.5 2.5l-.94 2.06-2.06.94zm10 10l.94 2.06.94-2.06 2.06-.94-2.06-.94-.94-2.06-.94 2.06-2.06.94z\"/><path d=\"M17.41 7.96l-1.37-1.37c-.4-.4-.92-.59-1.43-.59-.52 0-1.04.2-1.43.59L10.3 9.45l-7.72 7.72c-.78.78-.78 2.05 0 2.83L4 21.41c.39.39.9.59 1.41.59.51 0 1.02-.2 1.41-.59l7.78-7.78 2.81-2.81c.8-.78.8-2.07 0-2.86zM5.41 20L4 18.59l7.72-7.72 1.47 1.35L5.41 20z\"/>\n",
              "  </svg>\n",
              "      </button>\n",
              "      \n",
              "  <style>\n",
              "    .colab-df-container {\n",
              "      display:flex;\n",
              "      flex-wrap:wrap;\n",
              "      gap: 12px;\n",
              "    }\n",
              "\n",
              "    .colab-df-convert {\n",
              "      background-color: #E8F0FE;\n",
              "      border: none;\n",
              "      border-radius: 50%;\n",
              "      cursor: pointer;\n",
              "      display: none;\n",
              "      fill: #1967D2;\n",
              "      height: 32px;\n",
              "      padding: 0 0 0 0;\n",
              "      width: 32px;\n",
              "    }\n",
              "\n",
              "    .colab-df-convert:hover {\n",
              "      background-color: #E2EBFA;\n",
              "      box-shadow: 0px 1px 2px rgba(60, 64, 67, 0.3), 0px 1px 3px 1px rgba(60, 64, 67, 0.15);\n",
              "      fill: #174EA6;\n",
              "    }\n",
              "\n",
              "    [theme=dark] .colab-df-convert {\n",
              "      background-color: #3B4455;\n",
              "      fill: #D2E3FC;\n",
              "    }\n",
              "\n",
              "    [theme=dark] .colab-df-convert:hover {\n",
              "      background-color: #434B5C;\n",
              "      box-shadow: 0px 1px 3px 1px rgba(0, 0, 0, 0.15);\n",
              "      filter: drop-shadow(0px 1px 2px rgba(0, 0, 0, 0.3));\n",
              "      fill: #FFFFFF;\n",
              "    }\n",
              "  </style>\n",
              "\n",
              "      <script>\n",
              "        const buttonEl =\n",
              "          document.querySelector('#df-cba29c7b-99e8-4e7f-aa9c-f6acfa57786d button.colab-df-convert');\n",
              "        buttonEl.style.display =\n",
              "          google.colab.kernel.accessAllowed ? 'block' : 'none';\n",
              "\n",
              "        async function convertToInteractive(key) {\n",
              "          const element = document.querySelector('#df-cba29c7b-99e8-4e7f-aa9c-f6acfa57786d');\n",
              "          const dataTable =\n",
              "            await google.colab.kernel.invokeFunction('convertToInteractive',\n",
              "                                                     [key], {});\n",
              "          if (!dataTable) return;\n",
              "\n",
              "          const docLinkHtml = 'Like what you see? Visit the ' +\n",
              "            '<a target=\"_blank\" href=https://colab.research.google.com/notebooks/data_table.ipynb>data table notebook</a>'\n",
              "            + ' to learn more about interactive tables.';\n",
              "          element.innerHTML = '';\n",
              "          dataTable['output_type'] = 'display_data';\n",
              "          await google.colab.output.renderOutput(dataTable, element);\n",
              "          const docLink = document.createElement('div');\n",
              "          docLink.innerHTML = docLinkHtml;\n",
              "          element.appendChild(docLink);\n",
              "        }\n",
              "      </script>\n",
              "    </div>\n",
              "  </div>\n",
              "  "
            ]
          },
          "metadata": {},
          "execution_count": 50
        }
      ],
      "source": [
        "train_monthly.head().T"
      ]
    },
    {
      "cell_type": "code",
      "execution_count": null,
      "metadata": {
        "id": "u5OT8FxHsBIE"
      },
      "outputs": [],
      "source": [
        "# How much each item's price changed from its (lowest/highest) historical price\n",
        "\n",
        "train_monthly[\"price_increase\"] = train_monthly[\"item_price\"] - train_monthly[\"hist_min_item_price\"]\n",
        "train_monthly[\"price_decrease\"] = train_monthly[\"hist_max_item_price\"] - train_monthly[\"item_price\"]"
      ]
    },
    {
      "cell_type": "code",
      "execution_count": null,
      "metadata": {
        "id": "5nLqcQO_scla"
      },
      "outputs": [],
      "source": [
        "def f_min(x):\n",
        "    y = x.rolling(window=3, min_periods=1).min()\n",
        "    return y"
      ]
    },
    {
      "cell_type": "code",
      "execution_count": null,
      "metadata": {
        "id": "dJZsPuZuscnm"
      },
      "outputs": [],
      "source": [
        "def f_max(x):\n",
        "    y = x.rolling(window=3, min_periods=1).max()\n",
        "    return y"
      ]
    },
    {
      "cell_type": "code",
      "execution_count": null,
      "metadata": {
        "id": "_EePIFBAscqL"
      },
      "outputs": [],
      "source": [
        "def f_mean(x):\n",
        "    y = x.rolling(window=3, min_periods=1).mean()\n",
        "    return y"
      ]
    },
    {
      "cell_type": "code",
      "execution_count": null,
      "metadata": {
        "id": "tZ9u5FvvscsX"
      },
      "outputs": [],
      "source": [
        "def f_std(x):\n",
        "    y = x.rolling(window=3, min_periods=1).std()\n",
        "    return y"
      ]
    },
    {
      "cell_type": "code",
      "execution_count": null,
      "metadata": {
        "id": "f7R4Jgpescum"
      },
      "outputs": [],
      "source": [
        "function_list = [f_min, f_max, f_mean, f_std]\n",
        "function_name = ['min', 'max', 'mean', 'std']"
      ]
    },
    {
      "cell_type": "code",
      "execution_count": null,
      "metadata": {
        "id": "L2uSHI1escw-"
      },
      "outputs": [],
      "source": [
        "for i in range(len(function_list)):\n",
        "    train_monthly[(\"item_cnt_%s\" % function_name[i])] = train_monthly.sort_values(\"date_block_num\").groupby([\"shop_id\",\"item_category_id\",\"item_id\"])[\"item_cnt\"].apply(function_list[i])"
      ]
    },
    {
      "cell_type": "code",
      "execution_count": null,
      "metadata": {
        "id": "M8Wq3Mx6sczC"
      },
      "outputs": [],
      "source": [
        "train_monthly['item_cnt_std'].fillna(0, inplace=True)"
      ]
    },
    {
      "cell_type": "code",
      "execution_count": null,
      "metadata": {
        "id": "NR9T42L6sc2D"
      },
      "outputs": [],
      "source": [
        "# Lag based features\n",
        "\n",
        "lag_list = [1, 2, 3]\n",
        "\n",
        "for lag in lag_list:\n",
        "    ft_name = (\"item_cnt_shift%s\" % lag)\n",
        "    train_monthly[ft_name] = train_monthly.sort_values(\"date_block_num\").groupby([\"shop_id\",\"item_category_id\",\"item_id\"])[\"item_cnt\"].shift(lag)\n",
        "    train_monthly[ft_name].fillna(0, inplace=True)\n",
        "    "
      ]
    },
    {
      "cell_type": "code",
      "execution_count": null,
      "metadata": {
        "id": "lPFwJGIvsc4V"
      },
      "outputs": [],
      "source": [
        "# Trend items count\n",
        "\n",
        "train_monthly['item_trend'] = train_monthly['item_cnt']\n",
        "\n",
        "for lag in lag_list:\n",
        "    ft_name = (\"item_cnt_shift%s\" % lag)\n",
        "    train_monthly['item_trend'] += train_monthly[ft_name]\n",
        "\n",
        "train_monthly['item_trend'] /= len(lag_list) + 1"
      ]
    },
    {
      "cell_type": "code",
      "execution_count": null,
      "metadata": {
        "colab": {
          "base_uri": "https://localhost:8080/",
          "height": 833
        },
        "id": "2ZsnaIBHsc6W",
        "outputId": "576e6ee5-f54e-4007-b551-6eb92d6c4e2e"
      },
      "outputs": [
        {
          "output_type": "execute_result",
          "data": {
            "text/plain": [
              "                           0        1       2        3        4\n",
              "date_block_num          0.00     0.00    0.00     0.00     0.00\n",
              "shop_id                 2.00     2.00    2.00     2.00     2.00\n",
              "item_id              5572.00  5643.00 5583.00  7893.00  7894.00\n",
              "item_category_id        2.00     2.00    5.00     6.00     6.00\n",
              "item_price          10730.00  4775.21 1188.30  5970.00  1490.00\n",
              "mean_item_price      1532.86  2387.60  594.15  1990.00  1490.00\n",
              "item_cnt                9.00     0.00    2.00     3.00     1.00\n",
              "mean_item_cnt           1.29     0.00    1.00     1.00     1.00\n",
              "num_transactions        7.00     2.00    2.00     3.00     1.00\n",
              "year                 2013.00  2013.00 2013.00  2013.00  2013.00\n",
              "month                   1.00     1.00    1.00     1.00     1.00\n",
              "item_cnt_month          1.00     0.00    1.00     2.00     2.00\n",
              "item_price_unit      1192.22     0.00  594.15  1990.00  1490.00\n",
              "hist_min_item_price     0.00     0.00    0.00     0.00     0.00\n",
              "hist_max_item_price 18979.50 30180.00 5592.00 27950.00 25880.00\n",
              "price_increase      10730.00  4775.21 1188.30  5970.00  1490.00\n",
              "price_decrease       8249.50 25404.79 4403.70 21980.00 24390.00\n",
              "item_cnt_min            9.00     0.00    2.00     3.00     1.00\n",
              "item_cnt_max            9.00     0.00    2.00     3.00     1.00\n",
              "item_cnt_mean           9.00     0.00    2.00     3.00     1.00\n",
              "item_cnt_std            0.00     0.00    0.00     0.00     0.00\n",
              "item_cnt_shift1         0.00     0.00    0.00     0.00     0.00\n",
              "item_cnt_shift2         0.00     0.00    0.00     0.00     0.00\n",
              "item_cnt_shift3         0.00     0.00    0.00     0.00     0.00\n",
              "item_trend              2.25     0.00    0.50     0.75     0.25"
            ],
            "text/html": [
              "\n",
              "  <div id=\"df-4371bb38-5b18-40c5-baf7-f47f1006d277\">\n",
              "    <div class=\"colab-df-container\">\n",
              "      <div>\n",
              "<style scoped>\n",
              "    .dataframe tbody tr th:only-of-type {\n",
              "        vertical-align: middle;\n",
              "    }\n",
              "\n",
              "    .dataframe tbody tr th {\n",
              "        vertical-align: top;\n",
              "    }\n",
              "\n",
              "    .dataframe thead th {\n",
              "        text-align: right;\n",
              "    }\n",
              "</style>\n",
              "<table border=\"1\" class=\"dataframe\">\n",
              "  <thead>\n",
              "    <tr style=\"text-align: right;\">\n",
              "      <th></th>\n",
              "      <th>0</th>\n",
              "      <th>1</th>\n",
              "      <th>2</th>\n",
              "      <th>3</th>\n",
              "      <th>4</th>\n",
              "    </tr>\n",
              "  </thead>\n",
              "  <tbody>\n",
              "    <tr>\n",
              "      <th>date_block_num</th>\n",
              "      <td>0.00</td>\n",
              "      <td>0.00</td>\n",
              "      <td>0.00</td>\n",
              "      <td>0.00</td>\n",
              "      <td>0.00</td>\n",
              "    </tr>\n",
              "    <tr>\n",
              "      <th>shop_id</th>\n",
              "      <td>2.00</td>\n",
              "      <td>2.00</td>\n",
              "      <td>2.00</td>\n",
              "      <td>2.00</td>\n",
              "      <td>2.00</td>\n",
              "    </tr>\n",
              "    <tr>\n",
              "      <th>item_id</th>\n",
              "      <td>5572.00</td>\n",
              "      <td>5643.00</td>\n",
              "      <td>5583.00</td>\n",
              "      <td>7893.00</td>\n",
              "      <td>7894.00</td>\n",
              "    </tr>\n",
              "    <tr>\n",
              "      <th>item_category_id</th>\n",
              "      <td>2.00</td>\n",
              "      <td>2.00</td>\n",
              "      <td>5.00</td>\n",
              "      <td>6.00</td>\n",
              "      <td>6.00</td>\n",
              "    </tr>\n",
              "    <tr>\n",
              "      <th>item_price</th>\n",
              "      <td>10730.00</td>\n",
              "      <td>4775.21</td>\n",
              "      <td>1188.30</td>\n",
              "      <td>5970.00</td>\n",
              "      <td>1490.00</td>\n",
              "    </tr>\n",
              "    <tr>\n",
              "      <th>mean_item_price</th>\n",
              "      <td>1532.86</td>\n",
              "      <td>2387.60</td>\n",
              "      <td>594.15</td>\n",
              "      <td>1990.00</td>\n",
              "      <td>1490.00</td>\n",
              "    </tr>\n",
              "    <tr>\n",
              "      <th>item_cnt</th>\n",
              "      <td>9.00</td>\n",
              "      <td>0.00</td>\n",
              "      <td>2.00</td>\n",
              "      <td>3.00</td>\n",
              "      <td>1.00</td>\n",
              "    </tr>\n",
              "    <tr>\n",
              "      <th>mean_item_cnt</th>\n",
              "      <td>1.29</td>\n",
              "      <td>0.00</td>\n",
              "      <td>1.00</td>\n",
              "      <td>1.00</td>\n",
              "      <td>1.00</td>\n",
              "    </tr>\n",
              "    <tr>\n",
              "      <th>num_transactions</th>\n",
              "      <td>7.00</td>\n",
              "      <td>2.00</td>\n",
              "      <td>2.00</td>\n",
              "      <td>3.00</td>\n",
              "      <td>1.00</td>\n",
              "    </tr>\n",
              "    <tr>\n",
              "      <th>year</th>\n",
              "      <td>2013.00</td>\n",
              "      <td>2013.00</td>\n",
              "      <td>2013.00</td>\n",
              "      <td>2013.00</td>\n",
              "      <td>2013.00</td>\n",
              "    </tr>\n",
              "    <tr>\n",
              "      <th>month</th>\n",
              "      <td>1.00</td>\n",
              "      <td>1.00</td>\n",
              "      <td>1.00</td>\n",
              "      <td>1.00</td>\n",
              "      <td>1.00</td>\n",
              "    </tr>\n",
              "    <tr>\n",
              "      <th>item_cnt_month</th>\n",
              "      <td>1.00</td>\n",
              "      <td>0.00</td>\n",
              "      <td>1.00</td>\n",
              "      <td>2.00</td>\n",
              "      <td>2.00</td>\n",
              "    </tr>\n",
              "    <tr>\n",
              "      <th>item_price_unit</th>\n",
              "      <td>1192.22</td>\n",
              "      <td>0.00</td>\n",
              "      <td>594.15</td>\n",
              "      <td>1990.00</td>\n",
              "      <td>1490.00</td>\n",
              "    </tr>\n",
              "    <tr>\n",
              "      <th>hist_min_item_price</th>\n",
              "      <td>0.00</td>\n",
              "      <td>0.00</td>\n",
              "      <td>0.00</td>\n",
              "      <td>0.00</td>\n",
              "      <td>0.00</td>\n",
              "    </tr>\n",
              "    <tr>\n",
              "      <th>hist_max_item_price</th>\n",
              "      <td>18979.50</td>\n",
              "      <td>30180.00</td>\n",
              "      <td>5592.00</td>\n",
              "      <td>27950.00</td>\n",
              "      <td>25880.00</td>\n",
              "    </tr>\n",
              "    <tr>\n",
              "      <th>price_increase</th>\n",
              "      <td>10730.00</td>\n",
              "      <td>4775.21</td>\n",
              "      <td>1188.30</td>\n",
              "      <td>5970.00</td>\n",
              "      <td>1490.00</td>\n",
              "    </tr>\n",
              "    <tr>\n",
              "      <th>price_decrease</th>\n",
              "      <td>8249.50</td>\n",
              "      <td>25404.79</td>\n",
              "      <td>4403.70</td>\n",
              "      <td>21980.00</td>\n",
              "      <td>24390.00</td>\n",
              "    </tr>\n",
              "    <tr>\n",
              "      <th>item_cnt_min</th>\n",
              "      <td>9.00</td>\n",
              "      <td>0.00</td>\n",
              "      <td>2.00</td>\n",
              "      <td>3.00</td>\n",
              "      <td>1.00</td>\n",
              "    </tr>\n",
              "    <tr>\n",
              "      <th>item_cnt_max</th>\n",
              "      <td>9.00</td>\n",
              "      <td>0.00</td>\n",
              "      <td>2.00</td>\n",
              "      <td>3.00</td>\n",
              "      <td>1.00</td>\n",
              "    </tr>\n",
              "    <tr>\n",
              "      <th>item_cnt_mean</th>\n",
              "      <td>9.00</td>\n",
              "      <td>0.00</td>\n",
              "      <td>2.00</td>\n",
              "      <td>3.00</td>\n",
              "      <td>1.00</td>\n",
              "    </tr>\n",
              "    <tr>\n",
              "      <th>item_cnt_std</th>\n",
              "      <td>0.00</td>\n",
              "      <td>0.00</td>\n",
              "      <td>0.00</td>\n",
              "      <td>0.00</td>\n",
              "      <td>0.00</td>\n",
              "    </tr>\n",
              "    <tr>\n",
              "      <th>item_cnt_shift1</th>\n",
              "      <td>0.00</td>\n",
              "      <td>0.00</td>\n",
              "      <td>0.00</td>\n",
              "      <td>0.00</td>\n",
              "      <td>0.00</td>\n",
              "    </tr>\n",
              "    <tr>\n",
              "      <th>item_cnt_shift2</th>\n",
              "      <td>0.00</td>\n",
              "      <td>0.00</td>\n",
              "      <td>0.00</td>\n",
              "      <td>0.00</td>\n",
              "      <td>0.00</td>\n",
              "    </tr>\n",
              "    <tr>\n",
              "      <th>item_cnt_shift3</th>\n",
              "      <td>0.00</td>\n",
              "      <td>0.00</td>\n",
              "      <td>0.00</td>\n",
              "      <td>0.00</td>\n",
              "      <td>0.00</td>\n",
              "    </tr>\n",
              "    <tr>\n",
              "      <th>item_trend</th>\n",
              "      <td>2.25</td>\n",
              "      <td>0.00</td>\n",
              "      <td>0.50</td>\n",
              "      <td>0.75</td>\n",
              "      <td>0.25</td>\n",
              "    </tr>\n",
              "  </tbody>\n",
              "</table>\n",
              "</div>\n",
              "      <button class=\"colab-df-convert\" onclick=\"convertToInteractive('df-4371bb38-5b18-40c5-baf7-f47f1006d277')\"\n",
              "              title=\"Convert this dataframe to an interactive table.\"\n",
              "              style=\"display:none;\">\n",
              "        \n",
              "  <svg xmlns=\"http://www.w3.org/2000/svg\" height=\"24px\"viewBox=\"0 0 24 24\"\n",
              "       width=\"24px\">\n",
              "    <path d=\"M0 0h24v24H0V0z\" fill=\"none\"/>\n",
              "    <path d=\"M18.56 5.44l.94 2.06.94-2.06 2.06-.94-2.06-.94-.94-2.06-.94 2.06-2.06.94zm-11 1L8.5 8.5l.94-2.06 2.06-.94-2.06-.94L8.5 2.5l-.94 2.06-2.06.94zm10 10l.94 2.06.94-2.06 2.06-.94-2.06-.94-.94-2.06-.94 2.06-2.06.94z\"/><path d=\"M17.41 7.96l-1.37-1.37c-.4-.4-.92-.59-1.43-.59-.52 0-1.04.2-1.43.59L10.3 9.45l-7.72 7.72c-.78.78-.78 2.05 0 2.83L4 21.41c.39.39.9.59 1.41.59.51 0 1.02-.2 1.41-.59l7.78-7.78 2.81-2.81c.8-.78.8-2.07 0-2.86zM5.41 20L4 18.59l7.72-7.72 1.47 1.35L5.41 20z\"/>\n",
              "  </svg>\n",
              "      </button>\n",
              "      \n",
              "  <style>\n",
              "    .colab-df-container {\n",
              "      display:flex;\n",
              "      flex-wrap:wrap;\n",
              "      gap: 12px;\n",
              "    }\n",
              "\n",
              "    .colab-df-convert {\n",
              "      background-color: #E8F0FE;\n",
              "      border: none;\n",
              "      border-radius: 50%;\n",
              "      cursor: pointer;\n",
              "      display: none;\n",
              "      fill: #1967D2;\n",
              "      height: 32px;\n",
              "      padding: 0 0 0 0;\n",
              "      width: 32px;\n",
              "    }\n",
              "\n",
              "    .colab-df-convert:hover {\n",
              "      background-color: #E2EBFA;\n",
              "      box-shadow: 0px 1px 2px rgba(60, 64, 67, 0.3), 0px 1px 3px 1px rgba(60, 64, 67, 0.15);\n",
              "      fill: #174EA6;\n",
              "    }\n",
              "\n",
              "    [theme=dark] .colab-df-convert {\n",
              "      background-color: #3B4455;\n",
              "      fill: #D2E3FC;\n",
              "    }\n",
              "\n",
              "    [theme=dark] .colab-df-convert:hover {\n",
              "      background-color: #434B5C;\n",
              "      box-shadow: 0px 1px 3px 1px rgba(0, 0, 0, 0.15);\n",
              "      filter: drop-shadow(0px 1px 2px rgba(0, 0, 0, 0.3));\n",
              "      fill: #FFFFFF;\n",
              "    }\n",
              "  </style>\n",
              "\n",
              "      <script>\n",
              "        const buttonEl =\n",
              "          document.querySelector('#df-4371bb38-5b18-40c5-baf7-f47f1006d277 button.colab-df-convert');\n",
              "        buttonEl.style.display =\n",
              "          google.colab.kernel.accessAllowed ? 'block' : 'none';\n",
              "\n",
              "        async function convertToInteractive(key) {\n",
              "          const element = document.querySelector('#df-4371bb38-5b18-40c5-baf7-f47f1006d277');\n",
              "          const dataTable =\n",
              "            await google.colab.kernel.invokeFunction('convertToInteractive',\n",
              "                                                     [key], {});\n",
              "          if (!dataTable) return;\n",
              "\n",
              "          const docLinkHtml = 'Like what you see? Visit the ' +\n",
              "            '<a target=\"_blank\" href=https://colab.research.google.com/notebooks/data_table.ipynb>data table notebook</a>'\n",
              "            + ' to learn more about interactive tables.';\n",
              "          element.innerHTML = '';\n",
              "          dataTable['output_type'] = 'display_data';\n",
              "          await google.colab.output.renderOutput(dataTable, element);\n",
              "          const docLink = document.createElement('div');\n",
              "          docLink.innerHTML = docLinkHtml;\n",
              "          element.appendChild(docLink);\n",
              "        }\n",
              "      </script>\n",
              "    </div>\n",
              "  </div>\n",
              "  "
            ]
          },
          "metadata": {},
          "execution_count": 61
        }
      ],
      "source": [
        "train_monthly.head().T"
      ]
    },
    {
      "cell_type": "markdown",
      "metadata": {
        "id": "CahCLi97soZI"
      },
      "source": [
        "### Train/validation split\n"
      ]
    },
    {
      "cell_type": "markdown",
      "metadata": {
        "id": "SjG2YF7Wsp2X"
      },
      "source": [
        "- As we know the test set in on the future, so we should try to simulate the same distribution on our train/validation split.\n",
        "- Our train set will be the first 3-28 blocks, validation will be last 5 blocks (29~32) and test will be block 33.\n",
        "- I'm leaving the first 3 months out because we use a 3 month window to generate features, so these first 3 month won't have really windowed useful features."
      ]
    },
    {
      "cell_type": "code",
      "source": [
        "train_monthly[\"date_block_num\"].unique()"
      ],
      "metadata": {
        "colab": {
          "base_uri": "https://localhost:8080/"
        },
        "id": "JwHgzpzaCKul",
        "outputId": "ddbdaf5d-c8c8-42d6-bc99-4139070370d5"
      },
      "execution_count": null,
      "outputs": [
        {
          "output_type": "execute_result",
          "data": {
            "text/plain": [
              "array([ 0,  1,  2,  3,  4,  5,  6,  7,  8,  9, 10, 11, 12, 13, 14, 15, 16,\n",
              "       17, 18, 19, 20, 21, 22, 23, 24, 25, 26, 27, 28, 29, 30, 31, 32, 33])"
            ]
          },
          "metadata": {},
          "execution_count": 62
        }
      ]
    },
    {
      "cell_type": "code",
      "execution_count": null,
      "metadata": {
        "colab": {
          "base_uri": "https://localhost:8080/"
        },
        "id": "weKZas4gsqZ_",
        "outputId": "a72ef051-724c-4a38-a7a5-c29f3ec8b151"
      },
      "outputs": [
        {
          "output_type": "execute_result",
          "data": {
            "text/plain": [
              "array([nan])"
            ]
          },
          "metadata": {},
          "execution_count": 63
        }
      ],
      "source": [
        "train_monthly[train_monthly[\"date_block_num\"]==33][\"item_cnt_month\"].unique()"
      ]
    },
    {
      "cell_type": "code",
      "execution_count": null,
      "metadata": {
        "id": "vSpbjhRZstAP"
      },
      "outputs": [],
      "source": [
        "train_set = train_monthly.query('date_block_num >= 3 and date_block_num <= 28').copy()\n",
        "validation_set = train_monthly.query('date_block_num >= 29 and date_block_num < 33').copy()\n",
        "test_set = train_monthly.query('date_block_num == 33').copy()"
      ]
    },
    {
      "cell_type": "code",
      "execution_count": null,
      "metadata": {
        "id": "wAduiy46stC2"
      },
      "outputs": [],
      "source": [
        "train_set.dropna(subset=['item_cnt_month'], inplace = True)\n",
        "validation_set.dropna(subset=['item_cnt_month'], inplace = True)\n",
        "\n",
        "train_set.dropna(inplace = True)\n",
        "validation_set.dropna(inplace = True)"
      ]
    },
    {
      "cell_type": "code",
      "execution_count": null,
      "metadata": {
        "colab": {
          "base_uri": "https://localhost:8080/"
        },
        "id": "CbfPX2dzstE_",
        "outputId": "c2dc1a9e-3716-471b-b76c-3de5600a42dc"
      },
      "outputs": [
        {
          "output_type": "stream",
          "name": "stdout",
          "text": [
            "Train set records: 5143811\n",
            "Validation set records: 791412\n",
            "Test set records: 197855\n",
            "Train set records: 5143811 (76% of complete data)\n",
            "Validation set records: 791412 (12% of complete data)\n"
          ]
        }
      ],
      "source": [
        "print('Train set records:', train_set.shape[0])\n",
        "print('Validation set records:', validation_set.shape[0])\n",
        "print('Test set records:', test_set.shape[0])\n",
        "\n",
        "print('Train set records: %s (%.f%% of complete data)' % (train_set.shape[0], ((train_set.shape[0]/train_monthly.shape[0])*100)))\n",
        "print('Validation set records: %s (%.f%% of complete data)' % (validation_set.shape[0], ((validation_set.shape[0]/train_monthly.shape[0])*100)))"
      ]
    },
    {
      "cell_type": "code",
      "execution_count": null,
      "metadata": {
        "id": "479Ue8MNstHW"
      },
      "outputs": [],
      "source": [
        "# MEAN ENCODING\n",
        "\n",
        "me_shop_mean = train_set.groupby(['shop_id']).agg({'item_cnt_month': [\"mean\"]})\n",
        "me_shop_mean.columns = [\"shop_mean\"]\n",
        "me_shop_mean.reset_index(inplace=True)\n",
        "\n",
        "me_item_mean = train_set.groupby(['item_id']).agg({'item_cnt_month': [\"mean\"]})\n",
        "me_item_mean.columns = [\"item_mean\"]\n",
        "me_item_mean.reset_index(inplace=True)\n",
        "\n",
        "me_shop_item_mean = train_set.groupby(['shop_id', 'item_id']).agg({'item_cnt_month': ['mean']})\n",
        "me_shop_item_mean.columns = ['shop_item_mean']\n",
        "me_shop_item_mean.reset_index(inplace=True)\n",
        "\n",
        "me_year_mean = train_set.groupby(['year']).agg({'item_cnt_month': ['mean']})\n",
        "me_year_mean.columns = ['year_mean']\n",
        "me_year_mean.reset_index(inplace=True)\n",
        "\n",
        "me_month_mean = train_set.groupby(['month']).agg({'item_cnt_month': ['mean']})\n",
        "me_month_mean.columns = ['month_mean']\n",
        "me_month_mean.reset_index(inplace=True)"
      ]
    },
    {
      "cell_type": "code",
      "execution_count": null,
      "metadata": {
        "id": "M2Pf5e8bstJW"
      },
      "outputs": [],
      "source": [
        "# Add mean encoding features to train set.\n",
        "train_set = pd.merge(train_set, me_shop_mean, on=['shop_id'], how='left')\n",
        "train_set = pd.merge(train_set, me_item_mean, on=['item_id'], how='left')\n",
        "train_set = pd.merge(train_set, me_shop_item_mean, on=['shop_id', 'item_id'], how='left')\n",
        "train_set = pd.merge(train_set, me_year_mean, on=['year'], how='left')\n",
        "train_set = pd.merge(train_set, me_month_mean, on=['month'], how='left')\n",
        "# Add mean encoding features to validation set.\n",
        "validation_set = pd.merge(validation_set, me_shop_mean, on=['shop_id'], how='left')\n",
        "validation_set = pd.merge(validation_set, me_item_mean, on=['item_id'], how='left')\n",
        "validation_set = pd.merge(validation_set, me_shop_item_mean, on=['shop_id', 'item_id'], how='left')\n",
        "validation_set = pd.merge(validation_set, me_year_mean, on=['year'], how='left')\n",
        "validation_set = pd.merge(validation_set, me_month_mean, on=['month'], how='left')"
      ]
    },
    {
      "cell_type": "code",
      "execution_count": null,
      "metadata": {
        "id": "9bG8Wxd7stL4"
      },
      "outputs": [],
      "source": [
        "# Create train and validation sets and labels\n",
        "X_train = train_set.drop([\"item_cnt_month\", \"date_block_num\"], axis=1)\n",
        "y_train = train_set[\"item_cnt_month\"].astype(int)\n",
        "\n",
        "X_valid = validation_set.drop([\"item_cnt_month\", \"date_block_num\"], axis=1)\n",
        "y_valid = validation_set[\"item_cnt_month\"].astype(int)"
      ]
    },
    {
      "cell_type": "code",
      "execution_count": null,
      "metadata": {
        "id": "12Ug65T1stN0"
      },
      "outputs": [],
      "source": [
        "# Integer features (used by catboost model).\n",
        "int_features = ['shop_id', 'item_id', 'year', 'month']\n",
        "\n",
        "X_train[int_features] = X_train[int_features].astype('int32')\n",
        "X_valid[int_features] = X_valid[int_features].astype('int32')"
      ]
    },
    {
      "cell_type": "code",
      "execution_count": null,
      "metadata": {
        "colab": {
          "base_uri": "https://localhost:8080/",
          "height": 927
        },
        "id": "RnIpYFapstQE",
        "outputId": "02ef3f7c-261a-420a-9431-232f782f5517"
      },
      "outputs": [
        {
          "output_type": "execute_result",
          "data": {
            "text/plain": [
              "                           0        1       2        3        4\n",
              "shop_id                 2.00     2.00    2.00     2.00     2.00\n",
              "item_id              5572.00  5643.00 5583.00  7893.00  7894.00\n",
              "item_category_id        2.00     2.00    5.00     6.00     6.00\n",
              "item_price           2980.00     0.00    0.00  9350.00     0.00\n",
              "mean_item_price      1490.00     0.00    0.00  1870.00     0.00\n",
              "item_cnt                2.00     0.00    0.00     5.00     0.00\n",
              "mean_item_cnt           1.00     0.00    0.00     1.00     0.00\n",
              "num_transactions        2.00     0.00    0.00     5.00     0.00\n",
              "year                 2013.00  2013.00 2013.00  2013.00  2013.00\n",
              "month                   4.00     4.00    4.00     4.00     4.00\n",
              "item_price_unit      1490.00     0.00    0.00  1870.00     0.00\n",
              "hist_min_item_price     0.00     0.00    0.00     0.00     0.00\n",
              "hist_max_item_price 18979.50 30180.00 5592.00 27950.00 25880.00\n",
              "price_increase       2980.00     0.00    0.00  9350.00     0.00\n",
              "price_decrease      15999.50 30180.00 5592.00 18600.00 25880.00\n",
              "item_cnt_min            1.00     0.00    0.00     1.00     0.00\n",
              "item_cnt_max            2.00     0.00    1.00     5.00     2.00\n",
              "item_cnt_mean           1.33     0.00    0.33     2.67     1.00\n",
              "item_cnt_std            0.58     0.00    0.58     2.08     1.00\n",
              "item_cnt_shift1         1.00     0.00    0.00     1.00     1.00\n",
              "item_cnt_shift2         1.00     0.00    1.00     2.00     2.00\n",
              "item_cnt_shift3         9.00     0.00    2.00     3.00     1.00\n",
              "item_trend              3.25     0.00    0.75     2.75     1.00\n",
              "shop_mean               0.10     0.10    0.10     0.10     0.10\n",
              "item_mean               0.98     1.75    0.58     2.99     3.52\n",
              "shop_item_mean          0.81     1.77    0.04     3.15     1.65\n",
              "year_mean               0.13     0.13    0.13     0.13     0.13\n",
              "month_mean              0.16     0.16    0.16     0.16     0.16"
            ],
            "text/html": [
              "\n",
              "  <div id=\"df-488559b5-4bbc-466d-ba0c-60a7324948b6\">\n",
              "    <div class=\"colab-df-container\">\n",
              "      <div>\n",
              "<style scoped>\n",
              "    .dataframe tbody tr th:only-of-type {\n",
              "        vertical-align: middle;\n",
              "    }\n",
              "\n",
              "    .dataframe tbody tr th {\n",
              "        vertical-align: top;\n",
              "    }\n",
              "\n",
              "    .dataframe thead th {\n",
              "        text-align: right;\n",
              "    }\n",
              "</style>\n",
              "<table border=\"1\" class=\"dataframe\">\n",
              "  <thead>\n",
              "    <tr style=\"text-align: right;\">\n",
              "      <th></th>\n",
              "      <th>0</th>\n",
              "      <th>1</th>\n",
              "      <th>2</th>\n",
              "      <th>3</th>\n",
              "      <th>4</th>\n",
              "    </tr>\n",
              "  </thead>\n",
              "  <tbody>\n",
              "    <tr>\n",
              "      <th>shop_id</th>\n",
              "      <td>2.00</td>\n",
              "      <td>2.00</td>\n",
              "      <td>2.00</td>\n",
              "      <td>2.00</td>\n",
              "      <td>2.00</td>\n",
              "    </tr>\n",
              "    <tr>\n",
              "      <th>item_id</th>\n",
              "      <td>5572.00</td>\n",
              "      <td>5643.00</td>\n",
              "      <td>5583.00</td>\n",
              "      <td>7893.00</td>\n",
              "      <td>7894.00</td>\n",
              "    </tr>\n",
              "    <tr>\n",
              "      <th>item_category_id</th>\n",
              "      <td>2.00</td>\n",
              "      <td>2.00</td>\n",
              "      <td>5.00</td>\n",
              "      <td>6.00</td>\n",
              "      <td>6.00</td>\n",
              "    </tr>\n",
              "    <tr>\n",
              "      <th>item_price</th>\n",
              "      <td>2980.00</td>\n",
              "      <td>0.00</td>\n",
              "      <td>0.00</td>\n",
              "      <td>9350.00</td>\n",
              "      <td>0.00</td>\n",
              "    </tr>\n",
              "    <tr>\n",
              "      <th>mean_item_price</th>\n",
              "      <td>1490.00</td>\n",
              "      <td>0.00</td>\n",
              "      <td>0.00</td>\n",
              "      <td>1870.00</td>\n",
              "      <td>0.00</td>\n",
              "    </tr>\n",
              "    <tr>\n",
              "      <th>item_cnt</th>\n",
              "      <td>2.00</td>\n",
              "      <td>0.00</td>\n",
              "      <td>0.00</td>\n",
              "      <td>5.00</td>\n",
              "      <td>0.00</td>\n",
              "    </tr>\n",
              "    <tr>\n",
              "      <th>mean_item_cnt</th>\n",
              "      <td>1.00</td>\n",
              "      <td>0.00</td>\n",
              "      <td>0.00</td>\n",
              "      <td>1.00</td>\n",
              "      <td>0.00</td>\n",
              "    </tr>\n",
              "    <tr>\n",
              "      <th>num_transactions</th>\n",
              "      <td>2.00</td>\n",
              "      <td>0.00</td>\n",
              "      <td>0.00</td>\n",
              "      <td>5.00</td>\n",
              "      <td>0.00</td>\n",
              "    </tr>\n",
              "    <tr>\n",
              "      <th>year</th>\n",
              "      <td>2013.00</td>\n",
              "      <td>2013.00</td>\n",
              "      <td>2013.00</td>\n",
              "      <td>2013.00</td>\n",
              "      <td>2013.00</td>\n",
              "    </tr>\n",
              "    <tr>\n",
              "      <th>month</th>\n",
              "      <td>4.00</td>\n",
              "      <td>4.00</td>\n",
              "      <td>4.00</td>\n",
              "      <td>4.00</td>\n",
              "      <td>4.00</td>\n",
              "    </tr>\n",
              "    <tr>\n",
              "      <th>item_price_unit</th>\n",
              "      <td>1490.00</td>\n",
              "      <td>0.00</td>\n",
              "      <td>0.00</td>\n",
              "      <td>1870.00</td>\n",
              "      <td>0.00</td>\n",
              "    </tr>\n",
              "    <tr>\n",
              "      <th>hist_min_item_price</th>\n",
              "      <td>0.00</td>\n",
              "      <td>0.00</td>\n",
              "      <td>0.00</td>\n",
              "      <td>0.00</td>\n",
              "      <td>0.00</td>\n",
              "    </tr>\n",
              "    <tr>\n",
              "      <th>hist_max_item_price</th>\n",
              "      <td>18979.50</td>\n",
              "      <td>30180.00</td>\n",
              "      <td>5592.00</td>\n",
              "      <td>27950.00</td>\n",
              "      <td>25880.00</td>\n",
              "    </tr>\n",
              "    <tr>\n",
              "      <th>price_increase</th>\n",
              "      <td>2980.00</td>\n",
              "      <td>0.00</td>\n",
              "      <td>0.00</td>\n",
              "      <td>9350.00</td>\n",
              "      <td>0.00</td>\n",
              "    </tr>\n",
              "    <tr>\n",
              "      <th>price_decrease</th>\n",
              "      <td>15999.50</td>\n",
              "      <td>30180.00</td>\n",
              "      <td>5592.00</td>\n",
              "      <td>18600.00</td>\n",
              "      <td>25880.00</td>\n",
              "    </tr>\n",
              "    <tr>\n",
              "      <th>item_cnt_min</th>\n",
              "      <td>1.00</td>\n",
              "      <td>0.00</td>\n",
              "      <td>0.00</td>\n",
              "      <td>1.00</td>\n",
              "      <td>0.00</td>\n",
              "    </tr>\n",
              "    <tr>\n",
              "      <th>item_cnt_max</th>\n",
              "      <td>2.00</td>\n",
              "      <td>0.00</td>\n",
              "      <td>1.00</td>\n",
              "      <td>5.00</td>\n",
              "      <td>2.00</td>\n",
              "    </tr>\n",
              "    <tr>\n",
              "      <th>item_cnt_mean</th>\n",
              "      <td>1.33</td>\n",
              "      <td>0.00</td>\n",
              "      <td>0.33</td>\n",
              "      <td>2.67</td>\n",
              "      <td>1.00</td>\n",
              "    </tr>\n",
              "    <tr>\n",
              "      <th>item_cnt_std</th>\n",
              "      <td>0.58</td>\n",
              "      <td>0.00</td>\n",
              "      <td>0.58</td>\n",
              "      <td>2.08</td>\n",
              "      <td>1.00</td>\n",
              "    </tr>\n",
              "    <tr>\n",
              "      <th>item_cnt_shift1</th>\n",
              "      <td>1.00</td>\n",
              "      <td>0.00</td>\n",
              "      <td>0.00</td>\n",
              "      <td>1.00</td>\n",
              "      <td>1.00</td>\n",
              "    </tr>\n",
              "    <tr>\n",
              "      <th>item_cnt_shift2</th>\n",
              "      <td>1.00</td>\n",
              "      <td>0.00</td>\n",
              "      <td>1.00</td>\n",
              "      <td>2.00</td>\n",
              "      <td>2.00</td>\n",
              "    </tr>\n",
              "    <tr>\n",
              "      <th>item_cnt_shift3</th>\n",
              "      <td>9.00</td>\n",
              "      <td>0.00</td>\n",
              "      <td>2.00</td>\n",
              "      <td>3.00</td>\n",
              "      <td>1.00</td>\n",
              "    </tr>\n",
              "    <tr>\n",
              "      <th>item_trend</th>\n",
              "      <td>3.25</td>\n",
              "      <td>0.00</td>\n",
              "      <td>0.75</td>\n",
              "      <td>2.75</td>\n",
              "      <td>1.00</td>\n",
              "    </tr>\n",
              "    <tr>\n",
              "      <th>shop_mean</th>\n",
              "      <td>0.10</td>\n",
              "      <td>0.10</td>\n",
              "      <td>0.10</td>\n",
              "      <td>0.10</td>\n",
              "      <td>0.10</td>\n",
              "    </tr>\n",
              "    <tr>\n",
              "      <th>item_mean</th>\n",
              "      <td>0.98</td>\n",
              "      <td>1.75</td>\n",
              "      <td>0.58</td>\n",
              "      <td>2.99</td>\n",
              "      <td>3.52</td>\n",
              "    </tr>\n",
              "    <tr>\n",
              "      <th>shop_item_mean</th>\n",
              "      <td>0.81</td>\n",
              "      <td>1.77</td>\n",
              "      <td>0.04</td>\n",
              "      <td>3.15</td>\n",
              "      <td>1.65</td>\n",
              "    </tr>\n",
              "    <tr>\n",
              "      <th>year_mean</th>\n",
              "      <td>0.13</td>\n",
              "      <td>0.13</td>\n",
              "      <td>0.13</td>\n",
              "      <td>0.13</td>\n",
              "      <td>0.13</td>\n",
              "    </tr>\n",
              "    <tr>\n",
              "      <th>month_mean</th>\n",
              "      <td>0.16</td>\n",
              "      <td>0.16</td>\n",
              "      <td>0.16</td>\n",
              "      <td>0.16</td>\n",
              "      <td>0.16</td>\n",
              "    </tr>\n",
              "  </tbody>\n",
              "</table>\n",
              "</div>\n",
              "      <button class=\"colab-df-convert\" onclick=\"convertToInteractive('df-488559b5-4bbc-466d-ba0c-60a7324948b6')\"\n",
              "              title=\"Convert this dataframe to an interactive table.\"\n",
              "              style=\"display:none;\">\n",
              "        \n",
              "  <svg xmlns=\"http://www.w3.org/2000/svg\" height=\"24px\"viewBox=\"0 0 24 24\"\n",
              "       width=\"24px\">\n",
              "    <path d=\"M0 0h24v24H0V0z\" fill=\"none\"/>\n",
              "    <path d=\"M18.56 5.44l.94 2.06.94-2.06 2.06-.94-2.06-.94-.94-2.06-.94 2.06-2.06.94zm-11 1L8.5 8.5l.94-2.06 2.06-.94-2.06-.94L8.5 2.5l-.94 2.06-2.06.94zm10 10l.94 2.06.94-2.06 2.06-.94-2.06-.94-.94-2.06-.94 2.06-2.06.94z\"/><path d=\"M17.41 7.96l-1.37-1.37c-.4-.4-.92-.59-1.43-.59-.52 0-1.04.2-1.43.59L10.3 9.45l-7.72 7.72c-.78.78-.78 2.05 0 2.83L4 21.41c.39.39.9.59 1.41.59.51 0 1.02-.2 1.41-.59l7.78-7.78 2.81-2.81c.8-.78.8-2.07 0-2.86zM5.41 20L4 18.59l7.72-7.72 1.47 1.35L5.41 20z\"/>\n",
              "  </svg>\n",
              "      </button>\n",
              "      \n",
              "  <style>\n",
              "    .colab-df-container {\n",
              "      display:flex;\n",
              "      flex-wrap:wrap;\n",
              "      gap: 12px;\n",
              "    }\n",
              "\n",
              "    .colab-df-convert {\n",
              "      background-color: #E8F0FE;\n",
              "      border: none;\n",
              "      border-radius: 50%;\n",
              "      cursor: pointer;\n",
              "      display: none;\n",
              "      fill: #1967D2;\n",
              "      height: 32px;\n",
              "      padding: 0 0 0 0;\n",
              "      width: 32px;\n",
              "    }\n",
              "\n",
              "    .colab-df-convert:hover {\n",
              "      background-color: #E2EBFA;\n",
              "      box-shadow: 0px 1px 2px rgba(60, 64, 67, 0.3), 0px 1px 3px 1px rgba(60, 64, 67, 0.15);\n",
              "      fill: #174EA6;\n",
              "    }\n",
              "\n",
              "    [theme=dark] .colab-df-convert {\n",
              "      background-color: #3B4455;\n",
              "      fill: #D2E3FC;\n",
              "    }\n",
              "\n",
              "    [theme=dark] .colab-df-convert:hover {\n",
              "      background-color: #434B5C;\n",
              "      box-shadow: 0px 1px 3px 1px rgba(0, 0, 0, 0.15);\n",
              "      filter: drop-shadow(0px 1px 2px rgba(0, 0, 0, 0.3));\n",
              "      fill: #FFFFFF;\n",
              "    }\n",
              "  </style>\n",
              "\n",
              "      <script>\n",
              "        const buttonEl =\n",
              "          document.querySelector('#df-488559b5-4bbc-466d-ba0c-60a7324948b6 button.colab-df-convert');\n",
              "        buttonEl.style.display =\n",
              "          google.colab.kernel.accessAllowed ? 'block' : 'none';\n",
              "\n",
              "        async function convertToInteractive(key) {\n",
              "          const element = document.querySelector('#df-488559b5-4bbc-466d-ba0c-60a7324948b6');\n",
              "          const dataTable =\n",
              "            await google.colab.kernel.invokeFunction('convertToInteractive',\n",
              "                                                     [key], {});\n",
              "          if (!dataTable) return;\n",
              "\n",
              "          const docLinkHtml = 'Like what you see? Visit the ' +\n",
              "            '<a target=\"_blank\" href=https://colab.research.google.com/notebooks/data_table.ipynb>data table notebook</a>'\n",
              "            + ' to learn more about interactive tables.';\n",
              "          element.innerHTML = '';\n",
              "          dataTable['output_type'] = 'display_data';\n",
              "          await google.colab.output.renderOutput(dataTable, element);\n",
              "          const docLink = document.createElement('div');\n",
              "          docLink.innerHTML = docLinkHtml;\n",
              "          element.appendChild(docLink);\n",
              "        }\n",
              "      </script>\n",
              "    </div>\n",
              "  </div>\n",
              "  "
            ]
          },
          "metadata": {},
          "execution_count": 71
        }
      ],
      "source": [
        "X_train.head().T"
      ]
    },
    {
      "cell_type": "markdown",
      "metadata": {
        "id": "0PRd1V8hs2i4"
      },
      "source": [
        "## Build Test Set"
      ]
    },
    {
      "cell_type": "code",
      "execution_count": null,
      "metadata": {
        "id": "k13fDlVPs5xX"
      },
      "outputs": [],
      "source": [
        "# Latest date_block_num 33 is october 2015 we have all previous features joining with shop/item from november to predict next month\n",
        "# So Train/Validation to train, X_test to predict from october 2015 to november 2015. In other words we use block 33 because we want to forecast values for block 34.\n"
      ]
    },
    {
      "cell_type": "code",
      "execution_count": null,
      "metadata": {
        "id": "V6EBatPhs74O"
      },
      "outputs": [],
      "source": [
        "# Merging test & latest record with all the feature via shop_id and item_id\n",
        "latest_rec = pd.concat([train_set, validation_set]).drop_duplicates(subset=['shop_id', 'item_id'], keep='last')\n",
        "X_test = pd.merge(test, latest_rec, on=[\"shop_id\",\"item_id\"], how='left', suffixes=['','_'])"
      ]
    },
    {
      "cell_type": "code",
      "execution_count": null,
      "metadata": {
        "id": "U5ez_M-Zx0VJ"
      },
      "outputs": [],
      "source": [
        "X_test[\"year\"] = 2015\n",
        "X_test[\"month\"] = 9+1\n",
        "#Variable to be predicted dropped\n",
        "X_test.drop('item_cnt_month', axis=1, inplace=True) \n",
        "X_test[int_features] = X_test[int_features].astype('int32')\n",
        "X_test = X_test[X_train.columns]"
      ]
    },
    {
      "cell_type": "code",
      "execution_count": null,
      "metadata": {
        "id": "k3z0iWNBs76f"
      },
      "outputs": [],
      "source": [
        "# Replace missing values with the median of each shop. \n",
        "\n",
        "sets = [X_train, X_valid, X_test]\n",
        "\n",
        "for dataset in sets:\n",
        "    for shop in dataset['shop_id'].unique():\n",
        "        for column in dataset.columns:\n",
        "            shop_median = dataset[(dataset[\"shop_id\"]==shop)][column].median()\n",
        "            dataset.loc[(dataset[column].isnull()) & (dataset[\"shop_id\"]==shop), column] = shop_median\n",
        "            "
      ]
    },
    {
      "cell_type": "code",
      "execution_count": null,
      "metadata": {
        "id": "I5wbYcdqs7-y"
      },
      "outputs": [],
      "source": [
        "# I'm dropping \"item_category_id\", we don't have it on test set and would be a little hard to create categories for items that exist only on test set.\n",
        "X_train.drop(['item_category_id'], axis=1, inplace=True)\n",
        "X_valid.drop(['item_category_id'], axis=1, inplace=True)\n",
        "X_test.drop(['item_category_id'], axis=1, inplace=True)"
      ]
    },
    {
      "cell_type": "markdown",
      "metadata": {
        "id": "Ct4C-HOBtE0v"
      },
      "source": [
        "## MODELING"
      ]
    },
    {
      "cell_type": "markdown",
      "metadata": {
        "id": "MXdddTwN3ZqG"
      },
      "source": [
        "### XGBOOST"
      ]
    },
    {
      "cell_type": "code",
      "execution_count": null,
      "metadata": {
        "colab": {
          "base_uri": "https://localhost:8080/"
        },
        "id": "F6WTNJyq3dM_",
        "outputId": "4cb7f30c-fb58-485f-f8a0-ebe65b6195eb"
      },
      "outputs": [
        {
          "output_type": "stream",
          "name": "stdout",
          "text": [
            "[09:17:13] WARNING: /workspace/src/objective/regression_obj.cu:152: reg:linear is now deprecated in favor of reg:squarederror.\n",
            "[09:17:13] WARNING: /workspace/src/learner.cc:686: Tree method is automatically selected to be 'approx' for faster speed. To use old behavior (exact greedy algorithm on single machine), set tree_method to 'exact'.\n",
            "[0]\tvalidation_0-rmse:0.899292\tvalidation_1-rmse:0.913898\n",
            "Multiple eval metrics have been passed: 'validation_1-rmse' will be used for early stopping.\n",
            "\n",
            "Will train until validation_1-rmse hasn't improved in 20 rounds.\n",
            "[20]\tvalidation_0-rmse:0.64715\tvalidation_1-rmse:0.783808\n",
            "[40]\tvalidation_0-rmse:0.632067\tvalidation_1-rmse:0.791519\n",
            "Stopping. Best iteration:\n",
            "[25]\tvalidation_0-rmse:0.642043\tvalidation_1-rmse:0.778334\n",
            "\n"
          ]
        },
        {
          "output_type": "execute_result",
          "data": {
            "text/plain": [
              "XGBRegressor(colsample_bytree=0.7, eta=0.3, max_depth=8, min_child_weight=1000,\n",
              "             n_estimators=500, seed=0, subsample=0.7)"
            ]
          },
          "metadata": {},
          "execution_count": 77
        }
      ],
      "source": [
        "xgb_model = XGBRegressor(max_depth=8, \n",
        "                         n_estimators=500, \n",
        "                         min_child_weight=1000,  \n",
        "                         colsample_bytree=0.7, \n",
        "                         subsample=0.7, \n",
        "                         eta=0.3, \n",
        "                         seed=0)\n",
        "xgb_model.fit(X_train, \n",
        "              y_train, \n",
        "              eval_metric=\"rmse\", \n",
        "              eval_set=[(X_train, y_train), (X_valid, y_valid)], \n",
        "              verbose=20, \n",
        "              early_stopping_rounds=20)"
      ]
    },
    {
      "cell_type": "code",
      "execution_count": null,
      "metadata": {
        "colab": {
          "base_uri": "https://localhost:8080/",
          "height": 342
        },
        "id": "X_2dJUMo3gq-",
        "outputId": "9f296406-756b-4b31-80bb-d975c8ba0eb2"
      },
      "outputs": [
        {
          "output_type": "display_data",
          "data": {
            "text/plain": [
              "<Figure size 1080x432 with 1 Axes>"
            ],
            "image/png": "[encoded data removed]"
          },
          "metadata": {}
        }
      ],
      "source": [
        "plt.rcParams[\"figure.figsize\"] = (15, 6)\n",
        "plot_importance(xgb_model)\n",
        "plt.show()"
      ]
    },
    {
      "cell_type": "code",
      "execution_count": null,
      "metadata": {
        "id": "ufnFcs9W3iQ-"
      },
      "outputs": [],
      "source": [
        "xgb_train_pred = xgb_model.predict(X_train)\n",
        "xgb_val_pred = xgb_model.predict(X_valid)\n",
        "xgb_test_pred = xgb_model.predict(X_test)"
      ]
    },
    {
      "cell_type": "code",
      "execution_count": null,
      "metadata": {
        "colab": {
          "base_uri": "https://localhost:8080/"
        },
        "id": "M3pGyILd3j3D",
        "outputId": "bdf68329-c04e-4c37-f638-5a5dd3b7bf54"
      },
      "outputs": [
        {
          "output_type": "stream",
          "name": "stdout",
          "text": [
            "Train rmse: 0.6420424935450978\n",
            "Validation rmse: 0.778334144601914\n"
          ]
        }
      ],
      "source": [
        "print('Train rmse:', np.sqrt(mean_squared_error(y_train, xgb_train_pred)))\n",
        "print('Validation rmse:', np.sqrt(mean_squared_error(y_valid, xgb_val_pred)))"
      ]
    },
    {
      "cell_type": "markdown",
      "metadata": {
        "id": "YNAaMGqHtZSv"
      },
      "source": [
        "### Random Forest"
      ]
    },
    {
      "cell_type": "code",
      "execution_count": null,
      "metadata": {
        "colab": {
          "base_uri": "https://localhost:8080/"
        },
        "id": "Wq6Ha8hntWpO",
        "outputId": "3261c613-9ce1-4edd-b551-90d6de3c0cde"
      },
      "outputs": [
        {
          "output_type": "execute_result",
          "data": {
            "text/plain": [
              "RandomForestRegressor(max_depth=7, n_estimators=50, n_jobs=-1, random_state=0)"
            ]
          },
          "metadata": {},
          "execution_count": 81
        }
      ],
      "source": [
        "rf_model = RandomForestRegressor(n_estimators=50, max_depth=7, random_state=0, n_jobs=-1)\n",
        "rf_model.fit(X_train, y_train)"
      ]
    },
    {
      "cell_type": "code",
      "execution_count": null,
      "metadata": {
        "id": "GQbfmY_JtWr5"
      },
      "outputs": [],
      "source": [
        "rf_train_pred = rf_model.predict(X_train)\n",
        "rf_val_pred = rf_model.predict(X_valid)\n",
        "rf_test_pred = rf_model.predict(X_test)"
      ]
    },
    {
      "cell_type": "code",
      "execution_count": null,
      "metadata": {
        "colab": {
          "base_uri": "https://localhost:8080/"
        },
        "id": "L8JWtCPotWtT",
        "outputId": "12b87263-03c5-49f3-fd55-f2fd547f5cbe"
      },
      "outputs": [
        {
          "output_type": "stream",
          "name": "stdout",
          "text": [
            "Train rmse: 0.6438789358333353\n",
            "Validation rmse: 0.8171586101329176\n"
          ]
        }
      ],
      "source": [
        "print('Train rmse:', np.sqrt(mean_squared_error(y_train, rf_train_pred)))\n",
        "print('Validation rmse:', np.sqrt(mean_squared_error(y_valid, rf_val_pred)))"
      ]
    },
    {
      "cell_type": "markdown",
      "metadata": {
        "id": "2G5Olw7RtfIp"
      },
      "source": [
        "### KNN REGRESSOR"
      ]
    },
    {
      "cell_type": "code",
      "execution_count": null,
      "metadata": {
        "id": "iNBeZECetWvw"
      },
      "outputs": [],
      "source": [
        "knn_features = ['item_cnt', 'item_cnt_mean', 'item_cnt_std', 'item_cnt_shift1',\n",
        "                'item_cnt_shift2', 'shop_mean', 'shop_item_mean', \n",
        "                'item_trend', 'mean_item_cnt']\n",
        "\n",
        "# Subsample train set (using the whole data was taking too long).\n",
        "X_train_sampled = X_train[:100000]\n",
        "y_train_sampled = y_train[:100000]\n",
        "\n",
        "knn_train = X_train_sampled[knn_features]\n",
        "knn_val = X_valid[knn_features]\n",
        "knn_test = X_test[knn_features]"
      ]
    },
    {
      "cell_type": "code",
      "execution_count": null,
      "metadata": {
        "id": "V1DIxl5rtWxh"
      },
      "outputs": [],
      "source": [
        "knn_scaler = MinMaxScaler()\n",
        "knn_scaler.fit(knn_train)\n",
        "knn_train = knn_scaler.transform(knn_train)\n",
        "knn_val = knn_scaler.transform(knn_val)\n",
        "knn_test = knn_scaler.transform(knn_test)"
      ]
    },
    {
      "cell_type": "code",
      "execution_count": null,
      "metadata": {
        "colab": {
          "base_uri": "https://localhost:8080/"
        },
        "id": "vC4-DJUDtirA",
        "outputId": "a9c14563-c366-474c-d4b9-a6007e754397"
      },
      "outputs": [
        {
          "output_type": "execute_result",
          "data": {
            "text/plain": [
              "KNeighborsRegressor(leaf_size=13, n_jobs=-1, n_neighbors=9)"
            ]
          },
          "metadata": {},
          "execution_count": 86
        }
      ],
      "source": [
        "knn_model = KNeighborsRegressor(n_neighbors=9, leaf_size=13, n_jobs=-1)\n",
        "knn_model.fit(knn_train, y_train_sampled)"
      ]
    },
    {
      "cell_type": "code",
      "execution_count": null,
      "metadata": {
        "id": "XwB782SetitX"
      },
      "outputs": [],
      "source": [
        "knn_train_pred = knn_model.predict(knn_train)\n",
        "knn_val_pred = knn_model.predict(knn_val)\n",
        "knn_test_pred = knn_model.predict(knn_test)"
      ]
    },
    {
      "cell_type": "code",
      "execution_count": null,
      "metadata": {
        "colab": {
          "base_uri": "https://localhost:8080/"
        },
        "id": "h4KilBXrtivp",
        "outputId": "4439455b-cf52-4d39-84d2-fc921c91da25"
      },
      "outputs": [
        {
          "output_type": "stream",
          "name": "stdout",
          "text": [
            "Train rmse: 0.4608785223306452\n",
            "Validation rmse: 0.7850377099307275\n"
          ]
        }
      ],
      "source": [
        "print('Train rmse:', np.sqrt(mean_squared_error(y_train_sampled, knn_train_pred)))\n",
        "print('Validation rmse:', np.sqrt(mean_squared_error(y_valid, knn_val_pred)))"
      ]
    },
    {
      "cell_type": "markdown",
      "metadata": {
        "id": "YvIiatmj3_FX"
      },
      "source": [
        "### CATBOOST"
      ]
    },
    {
      "cell_type": "code",
      "execution_count": null,
      "metadata": {
        "colab": {
          "base_uri": "https://localhost:8080/"
        },
        "id": "x0FHH4it4I7c",
        "outputId": "12291414-7481-492e-cffc-4a54e4d44f99"
      },
      "outputs": [
        {
          "output_type": "stream",
          "name": "stdout",
          "text": [
            "Learning rate set to 0.297301\n",
            "0:\tlearn: 0.8016715\ttest: 0.8462282\tbest: 0.8462282 (0)\ttotal: 1.75s\tremaining: 14m 33s\n",
            "Stopped by overfitting detector  (25 iterations wait)\n",
            "\n",
            "bestTest = 0.7826231851\n",
            "bestIteration = 14\n",
            "\n",
            "Shrink model to first 15 iterations.\n"
          ]
        },
        {
          "output_type": "execute_result",
          "data": {
            "text/plain": [
              "<catboost.core.CatBoostRegressor at 0x7ffb590c85d0>"
            ]
          },
          "metadata": {},
          "execution_count": 89
        }
      ],
      "source": [
        "cat_features = [0, 1, 7, 8]\n",
        "\n",
        "#error with integer32\n",
        "X_train[int_features] = X_train[int_features].astype('str')\n",
        "X_valid[int_features] = X_valid[int_features].astype('str')\n",
        "X_test[int_features] = X_test[int_features].astype('str')\n",
        "\n",
        "catboost_model = CatBoostRegressor(\n",
        "    iterations=500,\n",
        "    max_ctr_complexity=4,\n",
        "    random_seed=0,\n",
        "    od_type='Iter',\n",
        "    od_wait=25,\n",
        "    verbose=50,\n",
        "    depth=4\n",
        ")\n",
        "\n",
        "catboost_model.fit(\n",
        "    X_train, y_train,\n",
        "    cat_features=cat_features,\n",
        "    eval_set=(X_valid, y_valid)\n",
        ")"
      ]
    },
    {
      "cell_type": "code",
      "execution_count": null,
      "metadata": {
        "colab": {
          "base_uri": "https://localhost:8080/"
        },
        "id": "i-QDDLFB4JeL",
        "outputId": "1d44c048-0970-441d-9788-88141353803f"
      },
      "outputs": [
        {
          "output_type": "stream",
          "name": "stdout",
          "text": [
            "Model params: {'iterations': 500, 'depth': 4, 'loss_function': 'RMSE', 'od_wait': 25, 'od_type': 'Iter', 'random_seed': 0, 'verbose': 50, 'max_ctr_complexity': 4}\n"
          ]
        }
      ],
      "source": [
        "print('Model params:', catboost_model.get_params())"
      ]
    },
    {
      "cell_type": "code",
      "execution_count": null,
      "metadata": {
        "id": "NYOg98k84JlC"
      },
      "outputs": [],
      "source": [
        "catboost_train_pred = catboost_model.predict(X_train)\n",
        "catboost_val_pred = catboost_model.predict(X_valid)\n",
        "catboost_test_pred = catboost_model.predict(X_test)"
      ]
    },
    {
      "cell_type": "code",
      "execution_count": null,
      "metadata": {
        "colab": {
          "base_uri": "https://localhost:8080/"
        },
        "id": "F_-ZAwV-4Jr8",
        "outputId": "bc47677f-d965-4767-9078-44bbcec96033"
      },
      "outputs": [
        {
          "output_type": "stream",
          "name": "stdout",
          "text": [
            "Train rmse: 0.6507577651238173\n",
            "Validation rmse: 0.7826231850569586\n"
          ]
        }
      ],
      "source": [
        "print('Train rmse:', np.sqrt(mean_squared_error(y_train, catboost_train_pred)))\n",
        "print('Validation rmse:', np.sqrt(mean_squared_error(y_valid, catboost_val_pred)))"
      ]
    },
    {
      "cell_type": "code",
      "execution_count": null,
      "metadata": {
        "id": "Alfexld04TbA"
      },
      "outputs": [],
      "source": [
        "# Feature importance code:\n",
        "feature_score = pd.DataFrame(list(zip(X_train.dtypes.index, catboost_model.get_feature_importance(Pool(X_train, label=y_train, cat_features=cat_features)))), columns=['Feature','Score'])\n",
        "feature_score = feature_score.sort_values(by='Score', ascending=False, inplace=False, kind='quicksort', na_position='last')"
      ]
    },
    {
      "cell_type": "code",
      "execution_count": null,
      "metadata": {
        "colab": {
          "base_uri": "https://localhost:8080/",
          "height": 375
        },
        "id": "qZoCuWln4Yw5",
        "outputId": "219348df-1f75-478f-cbaa-1f493ef74990"
      },
      "outputs": [
        {
          "output_type": "display_data",
          "data": {
            "text/plain": [
              "<Figure size 1368x432 with 1 Axes>"
            ],
            "image/png": "[encoded data removed]"
          },
          "metadata": {}
        }
      ],
      "source": [
        "plt.rcParams[\"figure.figsize\"] = (19, 6)\n",
        "ax = feature_score.plot('Feature', 'Score', kind='bar', color='c')\n",
        "ax.set_title(\"Catboost Feature Importance Ranking\", fontsize = 14)\n",
        "ax.set_xlabel('')\n",
        "rects = ax.patches\n",
        "labels = feature_score['Score'].round(2)\n",
        "\n",
        "for rect, label in zip(rects, labels):\n",
        "    height = rect.get_height()\n",
        "    ax.text(rect.get_x() + rect.get_width()/2, height + 0.35, label, ha='center', va='bottom')\n",
        "\n",
        "plt.show()"
      ]
    },
    {
      "cell_type": "markdown",
      "source": [
        "##### Meta-Model\n",
        "We are using the first level models output to train the meta model, which consist on a simple linear regression algorithm."
      ],
      "metadata": {
        "id": "9tSkAWAfVmFt"
      }
    },
    {
      "cell_type": "code",
      "source": [
        "# Dataset that will be the train set of the ensemble model. Outputs from validation in first level model.\n",
        "first_level = pd.DataFrame(catboost_val_pred, columns=['catboost'])\n",
        "first_level['xgbm'] = xgb_val_pred\n",
        "first_level['random_forest'] = rf_val_pred\n",
        "first_level['knn'] = knn_val_pred\n",
        "first_level['label'] = y_valid.values"
      ],
      "metadata": {
        "id": "zTzMz9amVikG"
      },
      "execution_count": null,
      "outputs": []
    },
    {
      "cell_type": "code",
      "source": [
        "first_level.head()"
      ],
      "metadata": {
        "colab": {
          "base_uri": "https://localhost:8080/",
          "height": 206
        },
        "id": "JykIUhnlWP1a",
        "outputId": "dfc4ae34-4b5e-4248-d7a8-060cb8988ed0"
      },
      "execution_count": null,
      "outputs": [
        {
          "output_type": "execute_result",
          "data": {
            "text/plain": [
              "   catboost  xgbm  random_forest  knn  label\n",
              "0      0.53  0.56           0.54 0.44      1\n",
              "1      0.78  0.47           0.89 1.00      0\n",
              "2      0.03  0.20           0.12 0.11      2\n",
              "3      3.29  2.15           2.79 2.33      0\n",
              "4      1.49  1.03           1.39 0.67      0"
            ],
            "text/html": [
              "\n",
              "  <div id=\"df-b57cc21a-d9dc-477a-9c61-f4b2300584dc\">\n",
              "    <div class=\"colab-df-container\">\n",
              "      <div>\n",
              "<style scoped>\n",
              "    .dataframe tbody tr th:only-of-type {\n",
              "        vertical-align: middle;\n",
              "    }\n",
              "\n",
              "    .dataframe tbody tr th {\n",
              "        vertical-align: top;\n",
              "    }\n",
              "\n",
              "    .dataframe thead th {\n",
              "        text-align: right;\n",
              "    }\n",
              "</style>\n",
              "<table border=\"1\" class=\"dataframe\">\n",
              "  <thead>\n",
              "    <tr style=\"text-align: right;\">\n",
              "      <th></th>\n",
              "      <th>catboost</th>\n",
              "      <th>xgbm</th>\n",
              "      <th>random_forest</th>\n",
              "      <th>knn</th>\n",
              "      <th>label</th>\n",
              "    </tr>\n",
              "  </thead>\n",
              "  <tbody>\n",
              "    <tr>\n",
              "      <th>0</th>\n",
              "      <td>0.53</td>\n",
              "      <td>0.56</td>\n",
              "      <td>0.54</td>\n",
              "      <td>0.44</td>\n",
              "      <td>1</td>\n",
              "    </tr>\n",
              "    <tr>\n",
              "      <th>1</th>\n",
              "      <td>0.78</td>\n",
              "      <td>0.47</td>\n",
              "      <td>0.89</td>\n",
              "      <td>1.00</td>\n",
              "      <td>0</td>\n",
              "    </tr>\n",
              "    <tr>\n",
              "      <th>2</th>\n",
              "      <td>0.03</td>\n",
              "      <td>0.20</td>\n",
              "      <td>0.12</td>\n",
              "      <td>0.11</td>\n",
              "      <td>2</td>\n",
              "    </tr>\n",
              "    <tr>\n",
              "      <th>3</th>\n",
              "      <td>3.29</td>\n",
              "      <td>2.15</td>\n",
              "      <td>2.79</td>\n",
              "      <td>2.33</td>\n",
              "      <td>0</td>\n",
              "    </tr>\n",
              "    <tr>\n",
              "      <th>4</th>\n",
              "      <td>1.49</td>\n",
              "      <td>1.03</td>\n",
              "      <td>1.39</td>\n",
              "      <td>0.67</td>\n",
              "      <td>0</td>\n",
              "    </tr>\n",
              "  </tbody>\n",
              "</table>\n",
              "</div>\n",
              "      <button class=\"colab-df-convert\" onclick=\"convertToInteractive('df-b57cc21a-d9dc-477a-9c61-f4b2300584dc')\"\n",
              "              title=\"Convert this dataframe to an interactive table.\"\n",
              "              style=\"display:none;\">\n",
              "        \n",
              "  <svg xmlns=\"http://www.w3.org/2000/svg\" height=\"24px\"viewBox=\"0 0 24 24\"\n",
              "       width=\"24px\">\n",
              "    <path d=\"M0 0h24v24H0V0z\" fill=\"none\"/>\n",
              "    <path d=\"M18.56 5.44l.94 2.06.94-2.06 2.06-.94-2.06-.94-.94-2.06-.94 2.06-2.06.94zm-11 1L8.5 8.5l.94-2.06 2.06-.94-2.06-.94L8.5 2.5l-.94 2.06-2.06.94zm10 10l.94 2.06.94-2.06 2.06-.94-2.06-.94-.94-2.06-.94 2.06-2.06.94z\"/><path d=\"M17.41 7.96l-1.37-1.37c-.4-.4-.92-.59-1.43-.59-.52 0-1.04.2-1.43.59L10.3 9.45l-7.72 7.72c-.78.78-.78 2.05 0 2.83L4 21.41c.39.39.9.59 1.41.59.51 0 1.02-.2 1.41-.59l7.78-7.78 2.81-2.81c.8-.78.8-2.07 0-2.86zM5.41 20L4 18.59l7.72-7.72 1.47 1.35L5.41 20z\"/>\n",
              "  </svg>\n",
              "      </button>\n",
              "      \n",
              "  <style>\n",
              "    .colab-df-container {\n",
              "      display:flex;\n",
              "      flex-wrap:wrap;\n",
              "      gap: 12px;\n",
              "    }\n",
              "\n",
              "    .colab-df-convert {\n",
              "      background-color: #E8F0FE;\n",
              "      border: none;\n",
              "      border-radius: 50%;\n",
              "      cursor: pointer;\n",
              "      display: none;\n",
              "      fill: #1967D2;\n",
              "      height: 32px;\n",
              "      padding: 0 0 0 0;\n",
              "      width: 32px;\n",
              "    }\n",
              "\n",
              "    .colab-df-convert:hover {\n",
              "      background-color: #E2EBFA;\n",
              "      box-shadow: 0px 1px 2px rgba(60, 64, 67, 0.3), 0px 1px 3px 1px rgba(60, 64, 67, 0.15);\n",
              "      fill: #174EA6;\n",
              "    }\n",
              "\n",
              "    [theme=dark] .colab-df-convert {\n",
              "      background-color: #3B4455;\n",
              "      fill: #D2E3FC;\n",
              "    }\n",
              "\n",
              "    [theme=dark] .colab-df-convert:hover {\n",
              "      background-color: #434B5C;\n",
              "      box-shadow: 0px 1px 3px 1px rgba(0, 0, 0, 0.15);\n",
              "      filter: drop-shadow(0px 1px 2px rgba(0, 0, 0, 0.3));\n",
              "      fill: #FFFFFF;\n",
              "    }\n",
              "  </style>\n",
              "\n",
              "      <script>\n",
              "        const buttonEl =\n",
              "          document.querySelector('#df-b57cc21a-d9dc-477a-9c61-f4b2300584dc button.colab-df-convert');\n",
              "        buttonEl.style.display =\n",
              "          google.colab.kernel.accessAllowed ? 'block' : 'none';\n",
              "\n",
              "        async function convertToInteractive(key) {\n",
              "          const element = document.querySelector('#df-b57cc21a-d9dc-477a-9c61-f4b2300584dc');\n",
              "          const dataTable =\n",
              "            await google.colab.kernel.invokeFunction('convertToInteractive',\n",
              "                                                     [key], {});\n",
              "          if (!dataTable) return;\n",
              "\n",
              "          const docLinkHtml = 'Like what you see? Visit the ' +\n",
              "            '<a target=\"_blank\" href=https://colab.research.google.com/notebooks/data_table.ipynb>data table notebook</a>'\n",
              "            + ' to learn more about interactive tables.';\n",
              "          element.innerHTML = '';\n",
              "          dataTable['output_type'] = 'display_data';\n",
              "          await google.colab.output.renderOutput(dataTable, element);\n",
              "          const docLink = document.createElement('div');\n",
              "          docLink.innerHTML = docLinkHtml;\n",
              "          element.appendChild(docLink);\n",
              "        }\n",
              "      </script>\n",
              "    </div>\n",
              "  </div>\n",
              "  "
            ]
          },
          "metadata": {},
          "execution_count": 96
        }
      ]
    },
    {
      "cell_type": "code",
      "source": [
        "# Dataset that will be the test set of the ensemble model.\n",
        "first_level_test = pd.DataFrame(catboost_test_pred, columns=['catboost'])\n",
        "first_level_test['xgbm'] = xgb_test_pred\n",
        "first_level_test['random_forest'] = rf_test_pred\n",
        "first_level_test['knn'] = knn_test_pred\n",
        "first_level_test.head()"
      ],
      "metadata": {
        "colab": {
          "base_uri": "https://localhost:8080/",
          "height": 206
        },
        "id": "UCArjJTaVipE",
        "outputId": "f48fdb5f-c774-4dc9-ef98-29832483eba1"
      },
      "execution_count": null,
      "outputs": [
        {
          "output_type": "execute_result",
          "data": {
            "text/plain": [
              "   catboost  xgbm  random_forest  knn\n",
              "0      0.38  0.56           0.62 1.00\n",
              "1      0.01  0.06           0.00 0.00\n",
              "2      0.78  0.47           0.58 0.67\n",
              "3      0.13  0.07           0.00 0.00\n",
              "4      0.01  0.06           0.00 0.00"
            ],
            "text/html": [
              "\n",
              "  <div id=\"df-77a300fc-f865-4807-b038-319f1cd4495b\">\n",
              "    <div class=\"colab-df-container\">\n",
              "      <div>\n",
              "<style scoped>\n",
              "    .dataframe tbody tr th:only-of-type {\n",
              "        vertical-align: middle;\n",
              "    }\n",
              "\n",
              "    .dataframe tbody tr th {\n",
              "        vertical-align: top;\n",
              "    }\n",
              "\n",
              "    .dataframe thead th {\n",
              "        text-align: right;\n",
              "    }\n",
              "</style>\n",
              "<table border=\"1\" class=\"dataframe\">\n",
              "  <thead>\n",
              "    <tr style=\"text-align: right;\">\n",
              "      <th></th>\n",
              "      <th>catboost</th>\n",
              "      <th>xgbm</th>\n",
              "      <th>random_forest</th>\n",
              "      <th>knn</th>\n",
              "    </tr>\n",
              "  </thead>\n",
              "  <tbody>\n",
              "    <tr>\n",
              "      <th>0</th>\n",
              "      <td>0.38</td>\n",
              "      <td>0.56</td>\n",
              "      <td>0.62</td>\n",
              "      <td>1.00</td>\n",
              "    </tr>\n",
              "    <tr>\n",
              "      <th>1</th>\n",
              "      <td>0.01</td>\n",
              "      <td>0.06</td>\n",
              "      <td>0.00</td>\n",
              "      <td>0.00</td>\n",
              "    </tr>\n",
              "    <tr>\n",
              "      <th>2</th>\n",
              "      <td>0.78</td>\n",
              "      <td>0.47</td>\n",
              "      <td>0.58</td>\n",
              "      <td>0.67</td>\n",
              "    </tr>\n",
              "    <tr>\n",
              "      <th>3</th>\n",
              "      <td>0.13</td>\n",
              "      <td>0.07</td>\n",
              "      <td>0.00</td>\n",
              "      <td>0.00</td>\n",
              "    </tr>\n",
              "    <tr>\n",
              "      <th>4</th>\n",
              "      <td>0.01</td>\n",
              "      <td>0.06</td>\n",
              "      <td>0.00</td>\n",
              "      <td>0.00</td>\n",
              "    </tr>\n",
              "  </tbody>\n",
              "</table>\n",
              "</div>\n",
              "      <button class=\"colab-df-convert\" onclick=\"convertToInteractive('df-77a300fc-f865-4807-b038-319f1cd4495b')\"\n",
              "              title=\"Convert this dataframe to an interactive table.\"\n",
              "              style=\"display:none;\">\n",
              "        \n",
              "  <svg xmlns=\"http://www.w3.org/2000/svg\" height=\"24px\"viewBox=\"0 0 24 24\"\n",
              "       width=\"24px\">\n",
              "    <path d=\"M0 0h24v24H0V0z\" fill=\"none\"/>\n",
              "    <path d=\"M18.56 5.44l.94 2.06.94-2.06 2.06-.94-2.06-.94-.94-2.06-.94 2.06-2.06.94zm-11 1L8.5 8.5l.94-2.06 2.06-.94-2.06-.94L8.5 2.5l-.94 2.06-2.06.94zm10 10l.94 2.06.94-2.06 2.06-.94-2.06-.94-.94-2.06-.94 2.06-2.06.94z\"/><path d=\"M17.41 7.96l-1.37-1.37c-.4-.4-.92-.59-1.43-.59-.52 0-1.04.2-1.43.59L10.3 9.45l-7.72 7.72c-.78.78-.78 2.05 0 2.83L4 21.41c.39.39.9.59 1.41.59.51 0 1.02-.2 1.41-.59l7.78-7.78 2.81-2.81c.8-.78.8-2.07 0-2.86zM5.41 20L4 18.59l7.72-7.72 1.47 1.35L5.41 20z\"/>\n",
              "  </svg>\n",
              "      </button>\n",
              "      \n",
              "  <style>\n",
              "    .colab-df-container {\n",
              "      display:flex;\n",
              "      flex-wrap:wrap;\n",
              "      gap: 12px;\n",
              "    }\n",
              "\n",
              "    .colab-df-convert {\n",
              "      background-color: #E8F0FE;\n",
              "      border: none;\n",
              "      border-radius: 50%;\n",
              "      cursor: pointer;\n",
              "      display: none;\n",
              "      fill: #1967D2;\n",
              "      height: 32px;\n",
              "      padding: 0 0 0 0;\n",
              "      width: 32px;\n",
              "    }\n",
              "\n",
              "    .colab-df-convert:hover {\n",
              "      background-color: #E2EBFA;\n",
              "      box-shadow: 0px 1px 2px rgba(60, 64, 67, 0.3), 0px 1px 3px 1px rgba(60, 64, 67, 0.15);\n",
              "      fill: #174EA6;\n",
              "    }\n",
              "\n",
              "    [theme=dark] .colab-df-convert {\n",
              "      background-color: #3B4455;\n",
              "      fill: #D2E3FC;\n",
              "    }\n",
              "\n",
              "    [theme=dark] .colab-df-convert:hover {\n",
              "      background-color: #434B5C;\n",
              "      box-shadow: 0px 1px 3px 1px rgba(0, 0, 0, 0.15);\n",
              "      filter: drop-shadow(0px 1px 2px rgba(0, 0, 0, 0.3));\n",
              "      fill: #FFFFFF;\n",
              "    }\n",
              "  </style>\n",
              "\n",
              "      <script>\n",
              "        const buttonEl =\n",
              "          document.querySelector('#df-77a300fc-f865-4807-b038-319f1cd4495b button.colab-df-convert');\n",
              "        buttonEl.style.display =\n",
              "          google.colab.kernel.accessAllowed ? 'block' : 'none';\n",
              "\n",
              "        async function convertToInteractive(key) {\n",
              "          const element = document.querySelector('#df-77a300fc-f865-4807-b038-319f1cd4495b');\n",
              "          const dataTable =\n",
              "            await google.colab.kernel.invokeFunction('convertToInteractive',\n",
              "                                                     [key], {});\n",
              "          if (!dataTable) return;\n",
              "\n",
              "          const docLinkHtml = 'Like what you see? Visit the ' +\n",
              "            '<a target=\"_blank\" href=https://colab.research.google.com/notebooks/data_table.ipynb>data table notebook</a>'\n",
              "            + ' to learn more about interactive tables.';\n",
              "          element.innerHTML = '';\n",
              "          dataTable['output_type'] = 'display_data';\n",
              "          await google.colab.output.renderOutput(dataTable, element);\n",
              "          const docLink = document.createElement('div');\n",
              "          docLink.innerHTML = docLinkHtml;\n",
              "          element.appendChild(docLink);\n",
              "        }\n",
              "      </script>\n",
              "    </div>\n",
              "  </div>\n",
              "  "
            ]
          },
          "metadata": {},
          "execution_count": 97
        }
      ]
    },
    {
      "cell_type": "code",
      "source": [
        "meta_model = LinearRegression(n_jobs=-1)"
      ],
      "metadata": {
        "id": "_ZMpKldcWpOW"
      },
      "execution_count": null,
      "outputs": []
    },
    {
      "cell_type": "code",
      "source": [
        "# Trained on validation set using the 1st level models predictions as features.\n",
        "first_level.drop('label', axis=1, inplace=True)\n",
        "meta_model.fit(first_level, y_valid)"
      ],
      "metadata": {
        "colab": {
          "base_uri": "https://localhost:8080/"
        },
        "id": "cUczhGBMcdF3",
        "outputId": "45e1aed2-adff-4fb1-a314-5f2609a299dc"
      },
      "execution_count": null,
      "outputs": [
        {
          "output_type": "execute_result",
          "data": {
            "text/plain": [
              "LinearRegression(n_jobs=-1)"
            ]
          },
          "metadata": {},
          "execution_count": 99
        }
      ]
    },
    {
      "cell_type": "code",
      "source": [
        "ensemble_pred = meta_model.predict(first_level)\n",
        "final_predictions = meta_model.predict(first_level_test)\n"
      ],
      "metadata": {
        "id": "0ul704RHcpu1"
      },
      "execution_count": null,
      "outputs": []
    },
    {
      "cell_type": "code",
      "source": [
        "print('Train rmse:', np.sqrt(mean_squared_error(ensemble_pred, y_valid)))"
      ],
      "metadata": {
        "colab": {
          "base_uri": "https://localhost:8080/"
        },
        "id": "86kw9HficyNP",
        "outputId": "becacdb3-d7bd-41cd-988c-200216e8839d"
      },
      "execution_count": null,
      "outputs": [
        {
          "output_type": "stream",
          "name": "stdout",
          "text": [
            "Train rmse: 0.7581353785260646\n"
          ]
        }
      ]
    },
    {
      "cell_type": "code",
      "source": [
        "# Output\n",
        "prediction_df = pd.DataFrame(test['ID'], columns=['ID'])\n",
        "prediction_df['item_cnt_month'] = final_predictions.clip(0., 20.)\n",
        "prediction_df.to_csv('submission.csv', index=False)\n",
        "prediction_df.head(10)"
      ],
      "metadata": {
        "colab": {
          "base_uri": "https://localhost:8080/",
          "height": 363
        },
        "id": "glQ374Vsc2dF",
        "outputId": "a78baec2-7b40-485a-9ebb-54a66d655491"
      },
      "execution_count": null,
      "outputs": [
        {
          "output_type": "execute_result",
          "data": {
            "text/plain": [
              "   ID  item_cnt_month\n",
              "0   0            0.59\n",
              "1   1            0.08\n",
              "2   2            0.65\n",
              "3   3            0.16\n",
              "4   4            0.08\n",
              "5   5            0.36\n",
              "6   6            0.84\n",
              "7   7            0.29\n",
              "8   8            1.54\n",
              "9   9            0.14"
            ],
            "text/html": [
              "\n",
              "  <div id=\"df-00950d2b-7736-4d83-9784-3afb4a62ca0a\">\n",
              "    <div class=\"colab-df-container\">\n",
              "      <div>\n",
              "<style scoped>\n",
              "    .dataframe tbody tr th:only-of-type {\n",
              "        vertical-align: middle;\n",
              "    }\n",
              "\n",
              "    .dataframe tbody tr th {\n",
              "        vertical-align: top;\n",
              "    }\n",
              "\n",
              "    .dataframe thead th {\n",
              "        text-align: right;\n",
              "    }\n",
              "</style>\n",
              "<table border=\"1\" class=\"dataframe\">\n",
              "  <thead>\n",
              "    <tr style=\"text-align: right;\">\n",
              "      <th></th>\n",
              "      <th>ID</th>\n",
              "      <th>item_cnt_month</th>\n",
              "    </tr>\n",
              "  </thead>\n",
              "  <tbody>\n",
              "    <tr>\n",
              "      <th>0</th>\n",
              "      <td>0</td>\n",
              "      <td>0.59</td>\n",
              "    </tr>\n",
              "    <tr>\n",
              "      <th>1</th>\n",
              "      <td>1</td>\n",
              "      <td>0.08</td>\n",
              "    </tr>\n",
              "    <tr>\n",
              "      <th>2</th>\n",
              "      <td>2</td>\n",
              "      <td>0.65</td>\n",
              "    </tr>\n",
              "    <tr>\n",
              "      <th>3</th>\n",
              "      <td>3</td>\n",
              "      <td>0.16</td>\n",
              "    </tr>\n",
              "    <tr>\n",
              "      <th>4</th>\n",
              "      <td>4</td>\n",
              "      <td>0.08</td>\n",
              "    </tr>\n",
              "    <tr>\n",
              "      <th>5</th>\n",
              "      <td>5</td>\n",
              "      <td>0.36</td>\n",
              "    </tr>\n",
              "    <tr>\n",
              "      <th>6</th>\n",
              "      <td>6</td>\n",
              "      <td>0.84</td>\n",
              "    </tr>\n",
              "    <tr>\n",
              "      <th>7</th>\n",
              "      <td>7</td>\n",
              "      <td>0.29</td>\n",
              "    </tr>\n",
              "    <tr>\n",
              "      <th>8</th>\n",
              "      <td>8</td>\n",
              "      <td>1.54</td>\n",
              "    </tr>\n",
              "    <tr>\n",
              "      <th>9</th>\n",
              "      <td>9</td>\n",
              "      <td>0.14</td>\n",
              "    </tr>\n",
              "  </tbody>\n",
              "</table>\n",
              "</div>\n",
              "      <button class=\"colab-df-convert\" onclick=\"convertToInteractive('df-00950d2b-7736-4d83-9784-3afb4a62ca0a')\"\n",
              "              title=\"Convert this dataframe to an interactive table.\"\n",
              "              style=\"display:none;\">\n",
              "        \n",
              "  <svg xmlns=\"http://www.w3.org/2000/svg\" height=\"24px\"viewBox=\"0 0 24 24\"\n",
              "       width=\"24px\">\n",
              "    <path d=\"M0 0h24v24H0V0z\" fill=\"none\"/>\n",
              "    <path d=\"M18.56 5.44l.94 2.06.94-2.06 2.06-.94-2.06-.94-.94-2.06-.94 2.06-2.06.94zm-11 1L8.5 8.5l.94-2.06 2.06-.94-2.06-.94L8.5 2.5l-.94 2.06-2.06.94zm10 10l.94 2.06.94-2.06 2.06-.94-2.06-.94-.94-2.06-.94 2.06-2.06.94z\"/><path d=\"M17.41 7.96l-1.37-1.37c-.4-.4-.92-.59-1.43-.59-.52 0-1.04.2-1.43.59L10.3 9.45l-7.72 7.72c-.78.78-.78 2.05 0 2.83L4 21.41c.39.39.9.59 1.41.59.51 0 1.02-.2 1.41-.59l7.78-7.78 2.81-2.81c.8-.78.8-2.07 0-2.86zM5.41 20L4 18.59l7.72-7.72 1.47 1.35L5.41 20z\"/>\n",
              "  </svg>\n",
              "      </button>\n",
              "      \n",
              "  <style>\n",
              "    .colab-df-container {\n",
              "      display:flex;\n",
              "      flex-wrap:wrap;\n",
              "      gap: 12px;\n",
              "    }\n",
              "\n",
              "    .colab-df-convert {\n",
              "      background-color: #E8F0FE;\n",
              "      border: none;\n",
              "      border-radius: 50%;\n",
              "      cursor: pointer;\n",
              "      display: none;\n",
              "      fill: #1967D2;\n",
              "      height: 32px;\n",
              "      padding: 0 0 0 0;\n",
              "      width: 32px;\n",
              "    }\n",
              "\n",
              "    .colab-df-convert:hover {\n",
              "      background-color: #E2EBFA;\n",
              "      box-shadow: 0px 1px 2px rgba(60, 64, 67, 0.3), 0px 1px 3px 1px rgba(60, 64, 67, 0.15);\n",
              "      fill: #174EA6;\n",
              "    }\n",
              "\n",
              "    [theme=dark] .colab-df-convert {\n",
              "      background-color: #3B4455;\n",
              "      fill: #D2E3FC;\n",
              "    }\n",
              "\n",
              "    [theme=dark] .colab-df-convert:hover {\n",
              "      background-color: #434B5C;\n",
              "      box-shadow: 0px 1px 3px 1px rgba(0, 0, 0, 0.15);\n",
              "      filter: drop-shadow(0px 1px 2px rgba(0, 0, 0, 0.3));\n",
              "      fill: #FFFFFF;\n",
              "    }\n",
              "  </style>\n",
              "\n",
              "      <script>\n",
              "        const buttonEl =\n",
              "          document.querySelector('#df-00950d2b-7736-4d83-9784-3afb4a62ca0a button.colab-df-convert');\n",
              "        buttonEl.style.display =\n",
              "          google.colab.kernel.accessAllowed ? 'block' : 'none';\n",
              "\n",
              "        async function convertToInteractive(key) {\n",
              "          const element = document.querySelector('#df-00950d2b-7736-4d83-9784-3afb4a62ca0a');\n",
              "          const dataTable =\n",
              "            await google.colab.kernel.invokeFunction('convertToInteractive',\n",
              "                                                     [key], {});\n",
              "          if (!dataTable) return;\n",
              "\n",
              "          const docLinkHtml = 'Like what you see? Visit the ' +\n",
              "            '<a target=\"_blank\" href=https://colab.research.google.com/notebooks/data_table.ipynb>data table notebook</a>'\n",
              "            + ' to learn more about interactive tables.';\n",
              "          element.innerHTML = '';\n",
              "          dataTable['output_type'] = 'display_data';\n",
              "          await google.colab.output.renderOutput(dataTable, element);\n",
              "          const docLink = document.createElement('div');\n",
              "          docLink.innerHTML = docLinkHtml;\n",
              "          element.appendChild(docLink);\n",
              "        }\n",
              "      </script>\n",
              "    </div>\n",
              "  </div>\n",
              "  "
            ]
          },
          "metadata": {},
          "execution_count": 102
        }
      ]
    },
    {
      "cell_type": "code",
      "source": [
        "# Output Best Model\n",
        "prediction_df = pd.DataFrame(test['ID'], columns=['ID'])\n",
        "prediction_df['item_cnt_month'] = rf_test_pred.clip(0., 20.)\n",
        "prediction_df.to_csv('submission_tree.csv', index=False)\n",
        "prediction_df.head(10)"
      ],
      "metadata": {
        "colab": {
          "base_uri": "https://localhost:8080/",
          "height": 363
        },
        "id": "uYLXUpKSdy9h",
        "outputId": "9d372cf5-92d1-4b78-ed3c-63638b0d0982"
      },
      "execution_count": null,
      "outputs": [
        {
          "output_type": "execute_result",
          "data": {
            "text/plain": [
              "   ID  item_cnt_month\n",
              "0   0            0.62\n",
              "1   1            0.00\n",
              "2   2            0.58\n",
              "3   3            0.00\n",
              "4   4            0.00\n",
              "5   5            0.65\n",
              "6   6            0.20\n",
              "7   7            0.33\n",
              "8   8            1.88\n",
              "9   9            0.00"
            ],
            "text/html": [
              "\n",
              "  <div id=\"df-fd1804ba-bfe1-4fe9-bc0f-72474947cc26\">\n",
              "    <div class=\"colab-df-container\">\n",
              "      <div>\n",
              "<style scoped>\n",
              "    .dataframe tbody tr th:only-of-type {\n",
              "        vertical-align: middle;\n",
              "    }\n",
              "\n",
              "    .dataframe tbody tr th {\n",
              "        vertical-align: top;\n",
              "    }\n",
              "\n",
              "    .dataframe thead th {\n",
              "        text-align: right;\n",
              "    }\n",
              "</style>\n",
              "<table border=\"1\" class=\"dataframe\">\n",
              "  <thead>\n",
              "    <tr style=\"text-align: right;\">\n",
              "      <th></th>\n",
              "      <th>ID</th>\n",
              "      <th>item_cnt_month</th>\n",
              "    </tr>\n",
              "  </thead>\n",
              "  <tbody>\n",
              "    <tr>\n",
              "      <th>0</th>\n",
              "      <td>0</td>\n",
              "      <td>0.62</td>\n",
              "    </tr>\n",
              "    <tr>\n",
              "      <th>1</th>\n",
              "      <td>1</td>\n",
              "      <td>0.00</td>\n",
              "    </tr>\n",
              "    <tr>\n",
              "      <th>2</th>\n",
              "      <td>2</td>\n",
              "      <td>0.58</td>\n",
              "    </tr>\n",
              "    <tr>\n",
              "      <th>3</th>\n",
              "      <td>3</td>\n",
              "      <td>0.00</td>\n",
              "    </tr>\n",
              "    <tr>\n",
              "      <th>4</th>\n",
              "      <td>4</td>\n",
              "      <td>0.00</td>\n",
              "    </tr>\n",
              "    <tr>\n",
              "      <th>5</th>\n",
              "      <td>5</td>\n",
              "      <td>0.65</td>\n",
              "    </tr>\n",
              "    <tr>\n",
              "      <th>6</th>\n",
              "      <td>6</td>\n",
              "      <td>0.20</td>\n",
              "    </tr>\n",
              "    <tr>\n",
              "      <th>7</th>\n",
              "      <td>7</td>\n",
              "      <td>0.33</td>\n",
              "    </tr>\n",
              "    <tr>\n",
              "      <th>8</th>\n",
              "      <td>8</td>\n",
              "      <td>1.88</td>\n",
              "    </tr>\n",
              "    <tr>\n",
              "      <th>9</th>\n",
              "      <td>9</td>\n",
              "      <td>0.00</td>\n",
              "    </tr>\n",
              "  </tbody>\n",
              "</table>\n",
              "</div>\n",
              "      <button class=\"colab-df-convert\" onclick=\"convertToInteractive('df-fd1804ba-bfe1-4fe9-bc0f-72474947cc26')\"\n",
              "              title=\"Convert this dataframe to an interactive table.\"\n",
              "              style=\"display:none;\">\n",
              "        \n",
              "  <svg xmlns=\"http://www.w3.org/2000/svg\" height=\"24px\"viewBox=\"0 0 24 24\"\n",
              "       width=\"24px\">\n",
              "    <path d=\"M0 0h24v24H0V0z\" fill=\"none\"/>\n",
              "    <path d=\"M18.56 5.44l.94 2.06.94-2.06 2.06-.94-2.06-.94-.94-2.06-.94 2.06-2.06.94zm-11 1L8.5 8.5l.94-2.06 2.06-.94-2.06-.94L8.5 2.5l-.94 2.06-2.06.94zm10 10l.94 2.06.94-2.06 2.06-.94-2.06-.94-.94-2.06-.94 2.06-2.06.94z\"/><path d=\"M17.41 7.96l-1.37-1.37c-.4-.4-.92-.59-1.43-.59-.52 0-1.04.2-1.43.59L10.3 9.45l-7.72 7.72c-.78.78-.78 2.05 0 2.83L4 21.41c.39.39.9.59 1.41.59.51 0 1.02-.2 1.41-.59l7.78-7.78 2.81-2.81c.8-.78.8-2.07 0-2.86zM5.41 20L4 18.59l7.72-7.72 1.47 1.35L5.41 20z\"/>\n",
              "  </svg>\n",
              "      </button>\n",
              "      \n",
              "  <style>\n",
              "    .colab-df-container {\n",
              "      display:flex;\n",
              "      flex-wrap:wrap;\n",
              "      gap: 12px;\n",
              "    }\n",
              "\n",
              "    .colab-df-convert {\n",
              "      background-color: #E8F0FE;\n",
              "      border: none;\n",
              "      border-radius: 50%;\n",
              "      cursor: pointer;\n",
              "      display: none;\n",
              "      fill: #1967D2;\n",
              "      height: 32px;\n",
              "      padding: 0 0 0 0;\n",
              "      width: 32px;\n",
              "    }\n",
              "\n",
              "    .colab-df-convert:hover {\n",
              "      background-color: #E2EBFA;\n",
              "      box-shadow: 0px 1px 2px rgba(60, 64, 67, 0.3), 0px 1px 3px 1px rgba(60, 64, 67, 0.15);\n",
              "      fill: #174EA6;\n",
              "    }\n",
              "\n",
              "    [theme=dark] .colab-df-convert {\n",
              "      background-color: #3B4455;\n",
              "      fill: #D2E3FC;\n",
              "    }\n",
              "\n",
              "    [theme=dark] .colab-df-convert:hover {\n",
              "      background-color: #434B5C;\n",
              "      box-shadow: 0px 1px 3px 1px rgba(0, 0, 0, 0.15);\n",
              "      filter: drop-shadow(0px 1px 2px rgba(0, 0, 0, 0.3));\n",
              "      fill: #FFFFFF;\n",
              "    }\n",
              "  </style>\n",
              "\n",
              "      <script>\n",
              "        const buttonEl =\n",
              "          document.querySelector('#df-fd1804ba-bfe1-4fe9-bc0f-72474947cc26 button.colab-df-convert');\n",
              "        buttonEl.style.display =\n",
              "          google.colab.kernel.accessAllowed ? 'block' : 'none';\n",
              "\n",
              "        async function convertToInteractive(key) {\n",
              "          const element = document.querySelector('#df-fd1804ba-bfe1-4fe9-bc0f-72474947cc26');\n",
              "          const dataTable =\n",
              "            await google.colab.kernel.invokeFunction('convertToInteractive',\n",
              "                                                     [key], {});\n",
              "          if (!dataTable) return;\n",
              "\n",
              "          const docLinkHtml = 'Like what you see? Visit the ' +\n",
              "            '<a target=\"_blank\" href=https://colab.research.google.com/notebooks/data_table.ipynb>data table notebook</a>'\n",
              "            + ' to learn more about interactive tables.';\n",
              "          element.innerHTML = '';\n",
              "          dataTable['output_type'] = 'display_data';\n",
              "          await google.colab.output.renderOutput(dataTable, element);\n",
              "          const docLink = document.createElement('div');\n",
              "          docLink.innerHTML = docLinkHtml;\n",
              "          element.appendChild(docLink);\n",
              "        }\n",
              "      </script>\n",
              "    </div>\n",
              "  </div>\n",
              "  "
            ]
          },
          "metadata": {},
          "execution_count": 103
        }
      ]
    },
    {
      "cell_type": "markdown",
      "source": [
        "## REFRENCES"
      ],
      "metadata": {
        "id": "HvKWOz1EMKQz"
      }
    },
    {
      "cell_type": "markdown",
      "source": [
        "- https://towardsdatascience.com/the-complete-guide-to-time-series-analysis-and-forecasting-70d476bfe775\n",
        "- https://www.kaggle.com/code/dimitreoliveira/model-stacking-feature-engineering-and-eda"
      ],
      "metadata": {
        "id": "_BAe4L_oMNNi"
      }
    }
  ],
  "metadata": {
    "accelerator": "GPU",
    "colab": {
      "collapsed_sections": [],
      "machine_shape": "hm",
      "name": "Sales EDA.ipynb",
      "provenance": []
    },
    "kernelspec": {
      "display_name": "Python 3",
      "name": "python3"
    },
    "language_info": {
      "name": "python"
    }
  },
  "nbformat": 4,
  "nbformat_minor": 0
}